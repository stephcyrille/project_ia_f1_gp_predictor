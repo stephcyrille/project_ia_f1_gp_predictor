{
 "cells": [
  {
   "cell_type": "code",
   "execution_count": 9,
   "id": "f6b9cb23-fae7-4d40-9d61-47ef6c1443dd",
   "metadata": {},
   "outputs": [],
   "source": [
    "import os\n",
    "import pandas as pd\n",
    "import numpy as np\n",
    "from pprint import pprint\n",
    "import requests\n",
    "# Scrappings tools for downloading\n",
    "from selenium import webdriver\n",
    "from selenium.webdriver.chrome.options import Options\n",
    "from selenium.webdriver.common.by import By"
   ]
  },
  {
   "cell_type": "code",
   "execution_count": 10,
   "id": "dfe6855f-fc43-48eb-830e-875cc0128c28",
   "metadata": {},
   "outputs": [],
   "source": [
    "import warnings\n",
    "warnings.filterwarnings(\"ignore\")"
   ]
  },
  {
   "cell_type": "code",
   "execution_count": 11,
   "id": "b58328b4-03ab-4708-a1be-9c19a4043e97",
   "metadata": {},
   "outputs": [],
   "source": [
    "import time\n",
    "start = time.time()"
   ]
  },
  {
   "cell_type": "code",
   "execution_count": 12,
   "id": "c684af64-14ce-4748-8593-ac66b2a620b1",
   "metadata": {},
   "outputs": [],
   "source": [
    "# Setting options for the web driver \n",
    "chrome_options = webdriver.ChromeOptions()\n",
    "chrome_options.add_argument('--headless')\n",
    "\n",
    "# Calling remote driver for selenium\n",
    "driver = webdriver.Remote(\n",
    "    command_executor='http://selenium-hub:4444/wd/hub',\n",
    "    options=chrome_options\n",
    ")"
   ]
  },
  {
   "cell_type": "code",
   "execution_count": 13,
   "id": "9e1da7c0-bb38-48e3-97d5-f04efff2ce02",
   "metadata": {},
   "outputs": [
    {
     "name": "stdout",
     "output_type": "stream",
     "text": [
      "<selenium.webdriver.remote.webelement.WebElement (session=\"bf8aa56fc467ec5fecd4e845eabd5855\", element=\"927959162FEE1A1B5AA4151DFE1E1A78_element_18\")>\n"
     ]
    }
   ],
   "source": [
    "f1_url = \"https://www.formula1.com/en/results.html/\"\n",
    "\n",
    "# Open the web pqge\n",
    "driver.get(f1_url)\n",
    "\n",
    "# first we have to accept the cookies\n",
    "accept_cookies_btn = driver.find_element(By.XPATH, \"//button[@id='truste-consent-button']\")\n",
    "print(accept_cookies_btn)\n"
   ]
  },
  {
   "cell_type": "code",
   "execution_count": null,
   "id": "eb74255d-7965-409e-b5fc-859ceba16995",
   "metadata": {},
   "outputs": [],
   "source": [
    "print(accept_cookies_btn.text)"
   ]
  },
  {
   "cell_type": "code",
   "execution_count": 15,
   "id": "3ee6fadf-5d6f-4abe-b047-006131b8d3c0",
   "metadata": {},
   "outputs": [],
   "source": [
    "accept_cookies_btn.click()"
   ]
  },
  {
   "cell_type": "code",
   "execution_count": null,
   "id": "12ef0f6d-4bb4-435b-96d0-9258bdce3893",
   "metadata": {},
   "outputs": [],
   "source": []
  },
  {
   "cell_type": "code",
   "execution_count": 16,
   "id": "ecb56f85-a530-44a1-8e40-82203700459c",
   "metadata": {},
   "outputs": [],
   "source": [
    "driver.close()"
   ]
  }
 ],
 "metadata": {
  "kernelspec": {
   "display_name": "Python 3 (ipykernel)",
   "language": "python",
   "name": "python3"
  },
  "language_info": {
   "codemirror_mode": {
    "name": "ipython",
    "version": 3
   },
   "file_extension": ".py",
   "mimetype": "text/x-python",
   "name": "python",
   "nbconvert_exporter": "python",
   "pygments_lexer": "ipython3",
   "version": "3.11.4"
  }
 },
 "nbformat": 4,
 "nbformat_minor": 5
}
