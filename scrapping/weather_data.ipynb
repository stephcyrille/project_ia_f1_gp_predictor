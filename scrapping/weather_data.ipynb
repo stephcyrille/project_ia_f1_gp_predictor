{
 "cells": [
  {
   "cell_type": "markdown",
   "id": "d3799f97-57f2-4f2b-a167-6345d02345d7",
   "metadata": {},
   "source": [
    "## Library importation "
   ]
  },
  {
   "cell_type": "code",
   "execution_count": 27,
   "id": "f6b9cb23-fae7-4d40-9d61-47ef6c1443dd",
   "metadata": {},
   "outputs": [],
   "source": [
    "import datetime\n",
    "import os\n",
    "import pandas as pd\n",
    "import numpy as np\n",
    "from pprint import pprint\n",
    "import requests\n",
    "# Scrappings tools for downloading\n",
    "from selenium import webdriver\n",
    "from selenium.webdriver.chrome.options import Options\n",
    "from selenium.webdriver.common.by import By\n",
    "import time\n",
    "import re"
   ]
  },
  {
   "cell_type": "code",
   "execution_count": 2,
   "id": "dfe6855f-fc43-48eb-830e-875cc0128c28",
   "metadata": {},
   "outputs": [],
   "source": [
    "import warnings\n",
    "warnings.filterwarnings(\"ignore\")"
   ]
  },
  {
   "cell_type": "markdown",
   "id": "de5ae8b7-6793-4e77-bfd0-e40927dd4671",
   "metadata": {},
   "source": [
    "### Set a time tracker \n",
    "We use it to count a global time for our script execution"
   ]
  },
  {
   "cell_type": "code",
   "execution_count": 3,
   "id": "c684af64-14ce-4748-8593-ac66b2a620b1",
   "metadata": {},
   "outputs": [],
   "source": [
    "start = time.time()"
   ]
  },
  {
   "cell_type": "markdown",
   "id": "9f1cedf6-4881-4ce3-82a6-17c9a343238f",
   "metadata": {},
   "source": [
    "### Initialize Selenium webdriver for Chrome\n",
    "As we are using Selenium in a remote Notebook, we don't have a real OS for testing purpose. So Selenium has a feature that help us to make web scrapping from a remote server.\n",
    "The feature is a Remote driver.\n",
    "The url of our remote driver online tool manager (**Selenium grid**) is <a target=\"_blank\" href=\"http://141.145.214.205:4444\">here</a>\n"
   ]
  },
  {
   "cell_type": "code",
   "execution_count": 4,
   "id": "abcae2f9-5a35-494a-ae8b-3c6b1ce133ce",
   "metadata": {},
   "outputs": [],
   "source": [
    "# Setting options for the web driver \n",
    "chrome_options = webdriver.ChromeOptions()\n",
    "chrome_options.add_argument('--headless')\n",
    "hub_url = \"http://selenium-hub:4444/wd/hub\""
   ]
  },
  {
   "cell_type": "markdown",
   "id": "1efb0bab-09cd-4140-82f5-dd2f92d4f700",
   "metadata": {},
   "source": [
    "## 1. Creation of a function that return Qualifiyings links \n",
    "It is important to run Selenium driver with **with** expression as in the next lines, is a best practice that help us to preserve our memory by closing the browser usage in memory, even if we have an error that occurs when the scripts has started"
   ]
  },
  {
   "cell_type": "code",
   "execution_count": 5,
   "id": "66c44c18-6cb0-443f-b407-87ae0e727529",
   "metadata": {},
   "outputs": [],
   "source": [
    "\n",
    "def get_round_urls():\n",
    "    round_link_by_page = []\n",
    "\n",
    "    # Calling remote driver for selenium\n",
    "    with webdriver.Remote(command_executor=hub_url, options=chrome_options) as driver:\n",
    "        for page in range(1, 12):\n",
    "            i = 1\n",
    "            round_urls = []\n",
    "            base_url = \"https://www.f1-fansite.com/tag/f1-qualifying-times/page/%s/\" % page\n",
    "        \n",
    "            # Open the web page\n",
    "            driver.get(base_url)\n",
    "\n",
    "            # Now grab the all rounds html link elements by their XPATH\n",
    "            round_elements_list = driver.find_elements(By.XPATH,'//div[@class=\"post_content pc_full\"]/h2/a')\n",
    "\n",
    "            if(len(round_elements_list) > 0):\n",
    "                for round in round_elements_list:\n",
    "                    round_urls.append(round.get_attribute(\"href\"))\n",
    "\n",
    "            # Create a dictionnary that contains all the rounds for a year\n",
    "            value = {\n",
    "                \"page\": page,\n",
    "                \"rounds\": round_urls\n",
    "            }\n",
    "        \n",
    "            round_link_by_page.append(value)\n",
    "\n",
    "            # As we are in the same navigation session, we need to change it after the \n",
    "            # first iteration to avoid to try to accept the cookie again. \n",
    "            i += 1 \n",
    "    \n",
    "        driver.close()\n",
    "        \n",
    "    return round_link_by_page"
   ]
  },
  {
   "cell_type": "code",
   "execution_count": 6,
   "id": "447893af-4b92-41c2-8d65-50f3adce2dcb",
   "metadata": {},
   "outputs": [],
   "source": [
    "urls = get_round_urls()"
   ]
  },
  {
   "cell_type": "code",
   "execution_count": 7,
   "id": "7c6f7983-8f0f-4a96-9433-4c0cecf31ed6",
   "metadata": {},
   "outputs": [],
   "source": [
    "end = time.time()"
   ]
  },
  {
   "cell_type": "code",
   "execution_count": 8,
   "id": "2ff05622-8ffe-4088-8acb-7a2b3c47b800",
   "metadata": {},
   "outputs": [
    {
     "data": {
      "text/plain": [
       "'0:00:11.824815'"
      ]
     },
     "execution_count": 8,
     "metadata": {},
     "output_type": "execute_result"
    }
   ],
   "source": [
    "str(datetime.timedelta(seconds=(end - start)))"
   ]
  },
  {
   "cell_type": "code",
   "execution_count": 16,
   "id": "50565e64-e95d-41dd-8b12-a197b1949b5b",
   "metadata": {},
   "outputs": [
    {
     "data": {
      "text/plain": [
       "'https://www.f1-fansite.com/f1-result/qualifying-results-2023-belgian-f1-sprint-shootout/'"
      ]
     },
     "execution_count": 16,
     "metadata": {},
     "output_type": "execute_result"
    }
   ],
   "source": [
    "urls[0][\"rounds\"][0]"
   ]
  },
  {
   "cell_type": "code",
   "execution_count": 31,
   "id": "fe6fcb0a-ced8-4a22-a2b1-ee5368464756",
   "metadata": {},
   "outputs": [
    {
     "name": "stdout",
     "output_type": "stream",
     "text": [
      "Qualifying Results 2023 Monaco F1 GP\n",
      "Weather: dry  26°C\n",
      "Tarmac: dry  48°C\n",
      "Humidity: 33%\n",
      "Wind: 1 km/h W\n",
      "Pressure: 1016 bar\n"
     ]
    }
   ],
   "source": [
    "with webdriver.Remote(command_executor=hub_url, options=chrome_options) as driver:\n",
    "\n",
    "    base_url = urls[0][\"rounds\"][9]\n",
    "    \n",
    "    # Open the web page\n",
    "    driver.get(base_url)\n",
    "    \n",
    "    # Now grab the all rounds html link elements by their XPATH\n",
    "    title = driver.find_element(By.XPATH,'//*[@id=\"content\"]/div[1]/div[1]/h1')\n",
    "    weather = driver.find_element(By.XPATH,'/html/body/div[1]/div/div[4]/div/div[1]/div[1]/div[2]/p[2]')\n",
    "    print(title.text)\n",
    "    print(weather.text)\n",
    "    v = weather.text\n",
    "    t = title.text\n",
    "    \n",
    "    \n",
    "    \n",
    "    driver.close()"
   ]
  },
  {
   "cell_type": "code",
   "execution_count": 32,
   "id": "a03b46a6-a0ea-4789-a2f4-cc3bf0cac9ec",
   "metadata": {},
   "outputs": [
    {
     "name": "stdout",
     "output_type": "stream",
     "text": [
      "2023\n"
     ]
    }
   ],
   "source": [
    "pattern = r'\\b\\d{4}\\b'\n",
    "matches = re.findall(pattern, t)\n",
    "\n",
    "if matches:\n",
    "    year = matches[0]\n",
    "    print(year)"
   ]
  },
  {
   "cell_type": "code",
   "execution_count": 24,
   "id": "bd3845cf-b6e1-433c-92d1-180170bd770b",
   "metadata": {},
   "outputs": [
    {
     "data": {
      "text/plain": [
       "['Weather: dry  18°C',\n",
       " 'Tarmac: dry  25°C',\n",
       " 'Humidity: 86%',\n",
       " 'Wind: 1 km/h SW',\n",
       " 'Pressure: 962 mbar']"
      ]
     },
     "execution_count": 24,
     "metadata": {},
     "output_type": "execute_result"
    }
   ],
   "source": [
    "v.split(\"\\n\")"
   ]
  }
 ],
 "metadata": {
  "kernelspec": {
   "display_name": "Python 3 (ipykernel)",
   "language": "python",
   "name": "python3"
  },
  "language_info": {
   "codemirror_mode": {
    "name": "ipython",
    "version": 3
   },
   "file_extension": ".py",
   "mimetype": "text/x-python",
   "name": "python",
   "nbconvert_exporter": "python",
   "pygments_lexer": "ipython3",
   "version": "3.11.4"
  }
 },
 "nbformat": 4,
 "nbformat_minor": 5
}
