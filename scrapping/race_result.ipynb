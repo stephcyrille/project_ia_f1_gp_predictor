{
 "cells": [
  {
   "cell_type": "code",
   "execution_count": 1,
   "id": "f6b9cb23-fae7-4d40-9d61-47ef6c1443dd",
   "metadata": {},
   "outputs": [],
   "source": [
    "import datetime\n",
    "import numpy as np\n",
    "import os\n",
    "import pandas as pd\n",
    "import requests\n",
    "import time"
   ]
  },
  {
   "cell_type": "code",
   "execution_count": 2,
   "id": "dfe6855f-fc43-48eb-830e-875cc0128c28",
   "metadata": {},
   "outputs": [],
   "source": [
    "import warnings\n",
    "warnings.filterwarnings(\"ignore\")"
   ]
  },
  {
   "cell_type": "code",
   "execution_count": 3,
   "id": "b58328b4-03ab-4708-a1be-9c19a4043e97",
   "metadata": {},
   "outputs": [],
   "source": [
    "import time\n",
    "start = time.time()"
   ]
  },
  {
   "cell_type": "code",
   "execution_count": 4,
   "id": "c684af64-14ce-4748-8593-ac66b2a620b1",
   "metadata": {},
   "outputs": [],
   "source": [
    "start = time.time()"
   ]
  },
  {
   "cell_type": "code",
   "execution_count": 5,
   "id": "ba90173e-4759-445e-9cce-b95a246f67e3",
   "metadata": {},
   "outputs": [],
   "source": [
    "race = pd.read_csv('./data/races.csv')"
   ]
  },
  {
   "cell_type": "code",
   "execution_count": 6,
   "id": "2bcf5402-e817-4d8f-9020-7c865265b935",
   "metadata": {},
   "outputs": [],
   "source": [
    "rounds = []\n",
    "for year in np.array(race.season.unique()):\n",
    "    rounds.append([year, list(race[race.season == year]['round'])])"
   ]
  },
  {
   "cell_type": "code",
   "execution_count": 7,
   "id": "9661f1d8-3315-4d75-b021-648b5d41d981",
   "metadata": {},
   "outputs": [
    {
     "name": "stdout",
     "output_type": "stream",
     "text": [
      "2023 13\n",
      "Error : 2023 : 13 \n",
      "2023 14\n",
      "Error : 2023 : 14 \n",
      "2023 15\n",
      "Error : 2023 : 15 \n",
      "2023 16\n",
      "Error : 2023 : 16 \n",
      "2023 17\n",
      "Error : 2023 : 17 \n",
      "2023 18\n",
      "Error : 2023 : 18 \n",
      "2023 19\n",
      "Error : 2023 : 19 \n",
      "2023 20\n",
      "Error : 2023 : 20 \n",
      "2023 21\n",
      "Error : 2023 : 21 \n",
      "2023 22\n",
      "Error : 2023 : 22 \n"
     ]
    }
   ],
   "source": [
    "results = {'season': [],\n",
    "           'round':[],\n",
    "           'circuit_id':[],\n",
    "           'driver': [],\n",
    "           'date_of_birth': [],\n",
    "           'nationality': [],\n",
    "           'constructor': [],\n",
    "           'driver_number': [],\n",
    "           'grid': [],\n",
    "           'time': [],\n",
    "           'status': [],\n",
    "           'points': [],\n",
    "           'podium': [],\n",
    "           'url': []}\n",
    "\n",
    "for n in list(range(len(rounds))):\n",
    "    for i in rounds[n][1]:\n",
    "    \n",
    "        url = 'http://ergast.com/api/f1/{}/{}/results.json'\n",
    "        r = requests.get(url.format(rounds[n][0], i))\n",
    "        json = r.json()\n",
    "\n",
    "        try:\n",
    "\n",
    "            for item in json['MRData']['RaceTable']['Races'][0]['Results']:\n",
    "                try:\n",
    "                    results['season'].append(int(json['MRData']['RaceTable']['Races'][0]['season']))\n",
    "                except:\n",
    "                    results['season'].append(None)\n",
    "\n",
    "                try:\n",
    "                    results['round'].append(int(json['MRData']['RaceTable']['Races'][0]['round']))\n",
    "                except:\n",
    "                    results['round'].append(None)\n",
    "\n",
    "                try:\n",
    "                    results['circuit_id'].append(json['MRData']['RaceTable']['Races'][0]['Circuit']['circuitId'])\n",
    "                except:\n",
    "                    results['circuit_id'].append(None)\n",
    "\n",
    "                try:\n",
    "                    results['driver'].append(item['Driver']['driverId'])\n",
    "                except:\n",
    "                    results['driver'].append(None)\n",
    "\n",
    "                try:\n",
    "                    results['driver_number'].append(item['Driver']['permanentNumber'])\n",
    "                except:\n",
    "                    results['driver_number'].append(None)\n",
    "\n",
    "                try:\n",
    "                    results['date_of_birth'].append(item['Driver']['dateOfBirth'])\n",
    "                except:\n",
    "                    results['date_of_birth'].append(None)\n",
    "\n",
    "                try:\n",
    "                    results['nationality'].append(item['Driver']['nationality'])\n",
    "                except:\n",
    "                    results['nationality'].append(None)\n",
    "\n",
    "                try:\n",
    "                    results['constructor'].append(item['Constructor']['constructorId'])\n",
    "                except:\n",
    "                    results['constructor'].append(None)\n",
    "\n",
    "                try:\n",
    "                    results['grid'].append(int(item['grid']))\n",
    "                except:\n",
    "                    results['grid'].append(None)\n",
    "\n",
    "                try:\n",
    "                    results['time'].append(int(item['Time']['millis']))\n",
    "                except:\n",
    "                    results['time'].append(None)\n",
    "\n",
    "                try:\n",
    "                    results['status'].append(item['status'])\n",
    "                except:\n",
    "                    results['status'].append(None)\n",
    "\n",
    "                try:\n",
    "                    results['points'].append(int(item['points']))\n",
    "                except:\n",
    "                    results['points'].append(None)\n",
    "\n",
    "                try:\n",
    "                    results['podium'].append(int(item['position']))\n",
    "                except:\n",
    "                    results['podium'].append(None)\n",
    "\n",
    "                try:\n",
    "                    results['url'].append(json['MRData']['RaceTable']['Races'][0]['url'])\n",
    "                except:\n",
    "                    results['url'].append(None)\n",
    "\n",
    "        except:\n",
    "            print(rounds[n][0], i)\n",
    "            print (\"Error : %s : %s \" % (rounds[n][0], i))\n",
    "\n",
    "results = pd.DataFrame(results)"
   ]
  },
  {
   "cell_type": "code",
   "execution_count": 17,
   "id": "53de9152-6fe7-4854-ae04-ab650be0f790",
   "metadata": {},
   "outputs": [],
   "source": [
    "results.to_csv('./data/races_results.csv', index = False)"
   ]
  },
  {
   "cell_type": "code",
   "execution_count": 9,
   "id": "82900817-3a1c-4d33-8058-453500a6ab33",
   "metadata": {},
   "outputs": [],
   "source": [
    "end = time.time()"
   ]
  },
  {
   "cell_type": "code",
   "execution_count": 10,
   "id": "2ff05622-8ffe-4088-8acb-7a2b3c47b800",
   "metadata": {},
   "outputs": [
    {
     "data": {
      "text/plain": [
       "'0:05:10.915534'"
      ]
     },
     "execution_count": 10,
     "metadata": {},
     "output_type": "execute_result"
    }
   ],
   "source": [
    "str(datetime.timedelta(seconds=(end - start)))"
   ]
  }
 ],
 "metadata": {
  "kernelspec": {
   "display_name": "Python 3 (ipykernel)",
   "language": "python",
   "name": "python3"
  },
  "language_info": {
   "codemirror_mode": {
    "name": "ipython",
    "version": 3
   },
   "file_extension": ".py",
   "mimetype": "text/x-python",
   "name": "python",
   "nbconvert_exporter": "python",
   "pygments_lexer": "ipython3",
   "version": "3.11.4"
  }
 },
 "nbformat": 4,
 "nbformat_minor": 5
}
