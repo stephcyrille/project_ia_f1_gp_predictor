{
 "cells": [
  {
   "cell_type": "code",
   "execution_count": 1,
   "metadata": {},
   "outputs": [],
   "source": [
    "import pandas as pd"
   ]
  },
  {
   "cell_type": "markdown",
   "metadata": {},
   "source": [
    "## 1. Load the Data set"
   ]
  },
  {
   "cell_type": "code",
   "execution_count": 2,
   "metadata": {},
   "outputs": [],
   "source": [
    "df = pd.read_csv('../data/outputs/05_merged_data.csv')"
   ]
  },
  {
   "cell_type": "code",
   "execution_count": 3,
   "metadata": {},
   "outputs": [
    {
     "data": {
      "text/plain": [
       "(26080, 31)"
      ]
     },
     "execution_count": 3,
     "metadata": {},
     "output_type": "execute_result"
    }
   ],
   "source": [
    "df.shape"
   ]
  },
  {
   "cell_type": "code",
   "execution_count": 4,
   "metadata": {},
   "outputs": [
    {
     "name": "stdout",
     "output_type": "stream",
     "text": [
      "<class 'pandas.core.frame.DataFrame'>\n",
      "RangeIndex: 26080 entries, 0 to 26079\n",
      "Data columns (total 31 columns):\n",
      " #   Column                          Non-Null Count  Dtype  \n",
      "---  ------                          --------------  -----  \n",
      " 0   resultId                        26080 non-null  int64  \n",
      " 1   raceId                          26080 non-null  int64  \n",
      " 2   driverId                        26080 non-null  int64  \n",
      " 3   constructorId                   26080 non-null  int64  \n",
      " 4   grid                            26080 non-null  int64  \n",
      " 5   race_rank                       26080 non-null  int64  \n",
      " 6   statusId                        26080 non-null  int64  \n",
      " 7   year                            26080 non-null  int64  \n",
      " 8   round                           26080 non-null  int64  \n",
      " 9   circuitId                       26080 non-null  int64  \n",
      " 10  circuit_name                    26080 non-null  object \n",
      " 11  constructor_name                26080 non-null  object \n",
      " 12  constructor_is_active           26080 non-null  int64  \n",
      " 13  constructor_races_won           26080 non-null  int64  \n",
      " 14  constructor_avg_point           26080 non-null  float64\n",
      " 15  constructor_times_in_top_10     26080 non-null  int64  \n",
      " 16  driver_is_active                26080 non-null  int64  \n",
      " 17  driver_avg_point                26080 non-null  float64\n",
      " 18  driver_avg_speed                26080 non-null  float64\n",
      " 19  race_end_bf_2019                26080 non-null  int64  \n",
      " 20  race_end_in_2019                26080 non-null  int64  \n",
      " 21  race_end_in_2020                26080 non-null  int64  \n",
      " 22  race_end_in_2021                26080 non-null  int64  \n",
      " 23  race_end_in_2022                26080 non-null  int64  \n",
      " 24  race_end_in_2023                26080 non-null  int64  \n",
      " 25  driver_most_won_circuit_id      26080 non-null  int64  \n",
      " 26  driver_nber_of_races_won        26080 non-null  int64  \n",
      " 27  driver_nber_of_times_in_top_10  26080 non-null  int64  \n",
      " 28  age                             26080 non-null  int64  \n",
      " 29  full_name                       26080 non-null  object \n",
      " 30  season_age                      26080 non-null  int64  \n",
      "dtypes: float64(3), int64(25), object(3)\n",
      "memory usage: 6.2+ MB\n"
     ]
    }
   ],
   "source": [
    "df.info()"
   ]
  },
  {
   "cell_type": "markdown",
   "metadata": {},
   "source": [
    "## 2. Find the missing and NAs values"
   ]
  },
  {
   "cell_type": "markdown",
   "metadata": {},
   "source": [
    "### 2.1. Find the NAs"
   ]
  },
  {
   "cell_type": "code",
   "execution_count": 5,
   "metadata": {},
   "outputs": [
    {
     "data": {
      "text/plain": [
       "resultId                          0\n",
       "raceId                            0\n",
       "driverId                          0\n",
       "constructorId                     0\n",
       "grid                              0\n",
       "race_rank                         0\n",
       "statusId                          0\n",
       "year                              0\n",
       "round                             0\n",
       "circuitId                         0\n",
       "circuit_name                      0\n",
       "constructor_name                  0\n",
       "constructor_is_active             0\n",
       "constructor_races_won             0\n",
       "constructor_avg_point             0\n",
       "constructor_times_in_top_10       0\n",
       "driver_is_active                  0\n",
       "driver_avg_point                  0\n",
       "driver_avg_speed                  0\n",
       "race_end_bf_2019                  0\n",
       "race_end_in_2019                  0\n",
       "race_end_in_2020                  0\n",
       "race_end_in_2021                  0\n",
       "race_end_in_2022                  0\n",
       "race_end_in_2023                  0\n",
       "driver_most_won_circuit_id        0\n",
       "driver_nber_of_races_won          0\n",
       "driver_nber_of_times_in_top_10    0\n",
       "age                               0\n",
       "full_name                         0\n",
       "season_age                        0\n",
       "dtype: int64"
      ]
     },
     "execution_count": 5,
     "metadata": {},
     "output_type": "execute_result"
    }
   ],
   "source": [
    "df.isna().sum()"
   ]
  },
  {
   "cell_type": "markdown",
   "metadata": {},
   "source": [
    "### 2.2. The missing values"
   ]
  },
  {
   "cell_type": "code",
   "execution_count": 6,
   "metadata": {},
   "outputs": [],
   "source": [
    "for c in df.columns:\n",
    "    if df.loc[df[c] == '\\\\N'].shape[0] > 0:\n",
    "        print(f\"The column {c} has missing values\")"
   ]
  },
  {
   "cell_type": "code",
   "execution_count": 7,
   "metadata": {},
   "outputs": [
    {
     "data": {
      "text/html": [
       "<div>\n",
       "<style scoped>\n",
       "    .dataframe tbody tr th:only-of-type {\n",
       "        vertical-align: middle;\n",
       "    }\n",
       "\n",
       "    .dataframe tbody tr th {\n",
       "        vertical-align: top;\n",
       "    }\n",
       "\n",
       "    .dataframe thead th {\n",
       "        text-align: right;\n",
       "    }\n",
       "</style>\n",
       "<table border=\"1\" class=\"dataframe\">\n",
       "  <thead>\n",
       "    <tr style=\"text-align: right;\">\n",
       "      <th></th>\n",
       "      <th>resultId</th>\n",
       "      <th>raceId</th>\n",
       "      <th>driverId</th>\n",
       "      <th>constructorId</th>\n",
       "      <th>grid</th>\n",
       "      <th>race_rank</th>\n",
       "      <th>statusId</th>\n",
       "      <th>year</th>\n",
       "      <th>round</th>\n",
       "      <th>circuitId</th>\n",
       "      <th>...</th>\n",
       "      <th>race_end_in_2020</th>\n",
       "      <th>race_end_in_2021</th>\n",
       "      <th>race_end_in_2022</th>\n",
       "      <th>race_end_in_2023</th>\n",
       "      <th>driver_most_won_circuit_id</th>\n",
       "      <th>driver_nber_of_races_won</th>\n",
       "      <th>driver_nber_of_times_in_top_10</th>\n",
       "      <th>age</th>\n",
       "      <th>full_name</th>\n",
       "      <th>season_age</th>\n",
       "    </tr>\n",
       "  </thead>\n",
       "  <tbody>\n",
       "    <tr>\n",
       "      <th>0</th>\n",
       "      <td>1</td>\n",
       "      <td>18</td>\n",
       "      <td>1</td>\n",
       "      <td>1</td>\n",
       "      <td>1</td>\n",
       "      <td>2</td>\n",
       "      <td>1</td>\n",
       "      <td>2008</td>\n",
       "      <td>1</td>\n",
       "      <td>1</td>\n",
       "      <td>...</td>\n",
       "      <td>16</td>\n",
       "      <td>21</td>\n",
       "      <td>19</td>\n",
       "      <td>12</td>\n",
       "      <td>14</td>\n",
       "      <td>63</td>\n",
       "      <td>292</td>\n",
       "      <td>39</td>\n",
       "      <td>Lewis Hamilton</td>\n",
       "      <td>23</td>\n",
       "    </tr>\n",
       "    <tr>\n",
       "      <th>1</th>\n",
       "      <td>2</td>\n",
       "      <td>18</td>\n",
       "      <td>2</td>\n",
       "      <td>2</td>\n",
       "      <td>5</td>\n",
       "      <td>3</td>\n",
       "      <td>1</td>\n",
       "      <td>2008</td>\n",
       "      <td>1</td>\n",
       "      <td>1</td>\n",
       "      <td>...</td>\n",
       "      <td>0</td>\n",
       "      <td>0</td>\n",
       "      <td>0</td>\n",
       "      <td>0</td>\n",
       "      <td>2</td>\n",
       "      <td>2</td>\n",
       "      <td>131</td>\n",
       "      <td>47</td>\n",
       "      <td>Nick Heidfeld</td>\n",
       "      <td>31</td>\n",
       "    </tr>\n",
       "    <tr>\n",
       "      <th>2</th>\n",
       "      <td>3</td>\n",
       "      <td>18</td>\n",
       "      <td>3</td>\n",
       "      <td>3</td>\n",
       "      <td>7</td>\n",
       "      <td>5</td>\n",
       "      <td>1</td>\n",
       "      <td>2008</td>\n",
       "      <td>1</td>\n",
       "      <td>1</td>\n",
       "      <td>...</td>\n",
       "      <td>0</td>\n",
       "      <td>0</td>\n",
       "      <td>0</td>\n",
       "      <td>0</td>\n",
       "      <td>3</td>\n",
       "      <td>20</td>\n",
       "      <td>158</td>\n",
       "      <td>39</td>\n",
       "      <td>Nico Rosberg</td>\n",
       "      <td>23</td>\n",
       "    </tr>\n",
       "    <tr>\n",
       "      <th>3</th>\n",
       "      <td>4</td>\n",
       "      <td>18</td>\n",
       "      <td>4</td>\n",
       "      <td>4</td>\n",
       "      <td>11</td>\n",
       "      <td>7</td>\n",
       "      <td>1</td>\n",
       "      <td>2008</td>\n",
       "      <td>1</td>\n",
       "      <td>1</td>\n",
       "      <td>...</td>\n",
       "      <td>0</td>\n",
       "      <td>11</td>\n",
       "      <td>12</td>\n",
       "      <td>12</td>\n",
       "      <td>9</td>\n",
       "      <td>22</td>\n",
       "      <td>285</td>\n",
       "      <td>43</td>\n",
       "      <td>Fernando Alonso</td>\n",
       "      <td>27</td>\n",
       "    </tr>\n",
       "    <tr>\n",
       "      <th>4</th>\n",
       "      <td>5</td>\n",
       "      <td>18</td>\n",
       "      <td>5</td>\n",
       "      <td>1</td>\n",
       "      <td>3</td>\n",
       "      <td>1</td>\n",
       "      <td>1</td>\n",
       "      <td>2008</td>\n",
       "      <td>1</td>\n",
       "      <td>1</td>\n",
       "      <td>...</td>\n",
       "      <td>0</td>\n",
       "      <td>0</td>\n",
       "      <td>0</td>\n",
       "      <td>0</td>\n",
       "      <td>1</td>\n",
       "      <td>2</td>\n",
       "      <td>37</td>\n",
       "      <td>43</td>\n",
       "      <td>Heikki Kovalainen</td>\n",
       "      <td>27</td>\n",
       "    </tr>\n",
       "  </tbody>\n",
       "</table>\n",
       "<p>5 rows × 31 columns</p>\n",
       "</div>"
      ],
      "text/plain": [
       "   resultId  raceId  driverId  constructorId  grid  race_rank  statusId  year  \\\n",
       "0         1      18         1              1     1          2         1  2008   \n",
       "1         2      18         2              2     5          3         1  2008   \n",
       "2         3      18         3              3     7          5         1  2008   \n",
       "3         4      18         4              4    11          7         1  2008   \n",
       "4         5      18         5              1     3          1         1  2008   \n",
       "\n",
       "   round  circuitId  ... race_end_in_2020 race_end_in_2021  race_end_in_2022  \\\n",
       "0      1          1  ...               16               21                19   \n",
       "1      1          1  ...                0                0                 0   \n",
       "2      1          1  ...                0                0                 0   \n",
       "3      1          1  ...                0               11                12   \n",
       "4      1          1  ...                0                0                 0   \n",
       "\n",
       "   race_end_in_2023  driver_most_won_circuit_id  driver_nber_of_races_won  \\\n",
       "0                12                          14                        63   \n",
       "1                 0                           2                         2   \n",
       "2                 0                           3                        20   \n",
       "3                12                           9                        22   \n",
       "4                 0                           1                         2   \n",
       "\n",
       "   driver_nber_of_times_in_top_10  age          full_name  season_age  \n",
       "0                             292   39     Lewis Hamilton          23  \n",
       "1                             131   47      Nick Heidfeld          31  \n",
       "2                             158   39       Nico Rosberg          23  \n",
       "3                             285   43    Fernando Alonso          27  \n",
       "4                              37   43  Heikki Kovalainen          27  \n",
       "\n",
       "[5 rows x 31 columns]"
      ]
     },
     "execution_count": 7,
     "metadata": {},
     "output_type": "execute_result"
    }
   ],
   "source": [
    "df.head()"
   ]
  }
 ],
 "metadata": {
  "kernelspec": {
   "display_name": ".venv",
   "language": "python",
   "name": "python3"
  },
  "language_info": {
   "codemirror_mode": {
    "name": "ipython",
    "version": 3
   },
   "file_extension": ".py",
   "mimetype": "text/x-python",
   "name": "python",
   "nbconvert_exporter": "python",
   "pygments_lexer": "ipython3",
   "version": "3.9.6"
  }
 },
 "nbformat": 4,
 "nbformat_minor": 2
}
