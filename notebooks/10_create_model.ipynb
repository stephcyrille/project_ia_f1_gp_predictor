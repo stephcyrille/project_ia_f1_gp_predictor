{
 "cells": [
  {
   "cell_type": "code",
   "execution_count": 1,
   "metadata": {},
   "outputs": [],
   "source": [
    "%matplotlib inline\n",
    "import pandas as pd\n",
    "import numpy as np\n",
    "import plotly.express as px\n",
    "import plotly.graph_objects as go\n",
    "import plotly.io as pio\n",
    "from sklearn.preprocessing import  StandardScaler, LabelEncoder\n",
    "from sklearn.model_selection import train_test_split, RandomizedSearchCV\n",
    "from sklearn.tree import DecisionTreeClassifier\n",
    "from sklearn.ensemble import RandomForestClassifier\n",
    "from sklearn.metrics import f1_score\n",
    "from sklearn.metrics import accuracy_score\n",
    "\n",
    "import xgboost as xgb\n",
    "from sklearn.model_selection import KFold\n",
    "from sklearn.metrics import accuracy_score, classification_report, confusion_matrix\n",
    "pio.templates.default = \"plotly_white\""
   ]
  },
  {
   "cell_type": "markdown",
   "metadata": {},
   "source": [
    "## 1. Loading the Data set"
   ]
  },
  {
   "cell_type": "code",
   "execution_count": 2,
   "metadata": {},
   "outputs": [],
   "source": [
    "df = pd.read_csv('../data/outputs/06_final_dataset.csv')"
   ]
  },
  {
   "cell_type": "markdown",
   "metadata": {},
   "source": [
    "## 2. Set the target value as categorical"
   ]
  },
  {
   "cell_type": "code",
   "execution_count": 3,
   "metadata": {},
   "outputs": [],
   "source": [
    "df['race_rank'] = pd.Categorical(df['race_rank'])"
   ]
  },
  {
   "cell_type": "code",
   "execution_count": 4,
   "metadata": {},
   "outputs": [
    {
     "name": "stdout",
     "output_type": "stream",
     "text": [
      "<class 'pandas.core.series.Series'>\n",
      "RangeIndex: 26080 entries, 0 to 26079\n",
      "Series name: race_rank\n",
      "Non-Null Count  Dtype   \n",
      "--------------  -----   \n",
      "26080 non-null  category\n",
      "dtypes: category(1)\n",
      "memory usage: 26.3 KB\n"
     ]
    }
   ],
   "source": [
    "df['race_rank'].info()"
   ]
  },
  {
   "cell_type": "markdown",
   "metadata": {},
   "source": [
    "## 2. Split the model"
   ]
  },
  {
   "cell_type": "code",
   "execution_count": 5,
   "metadata": {},
   "outputs": [],
   "source": [
    "y = 'race_rank'\n",
    "features = df.columns.to_list()\n",
    "features.remove(y)\n",
    "\n",
    "# Création des jeux de données features (X) et targets(y)\n",
    "X = df[features]\n",
    "y = df[y]\n",
    "\n",
    "# Séparation de notre jeu de données, 30% de test et 70% d'entrainement\n",
    "X_train, X_test, y_train, y_test = train_test_split(X, y, test_size=0.30, random_state=42)"
   ]
  },
  {
   "cell_type": "code",
   "execution_count": 6,
   "metadata": {},
   "outputs": [
    {
     "name": "stdout",
     "output_type": "stream",
     "text": [
      "Accuracy: 0.7299335378323109\n",
      "Classification Report:\n",
      "              precision    recall  f1-score   support\n",
      "\n",
      "           0       0.99      0.99      0.99      5563\n",
      "           1       0.13      0.13      0.13       114\n",
      "           2       0.17      0.18      0.18       103\n",
      "           3       0.12      0.12      0.12       106\n",
      "           4       0.09      0.10      0.09       115\n",
      "           5       0.06      0.05      0.05       112\n",
      "           6       0.02      0.03      0.03       101\n",
      "           7       0.07      0.07      0.07        97\n",
      "           8       0.08      0.06      0.07       116\n",
      "           9       0.04      0.05      0.05        97\n",
      "          10       0.06      0.07      0.06       103\n",
      "          11       0.06      0.06      0.06       122\n",
      "          12       0.06      0.05      0.05       119\n",
      "          13       0.06      0.06      0.06       124\n",
      "          14       0.10      0.08      0.09       119\n",
      "          15       0.06      0.06      0.06       108\n",
      "          16       0.02      0.02      0.02       100\n",
      "          17       0.11      0.11      0.11       106\n",
      "          18       0.12      0.12      0.12       108\n",
      "          19       0.07      0.07      0.07       108\n",
      "          20       0.13      0.10      0.11        94\n",
      "          21       0.14      0.12      0.13        41\n",
      "          22       0.03      0.04      0.04        26\n",
      "          23       0.10      0.07      0.08        15\n",
      "          24       0.25      0.29      0.27         7\n",
      "\n",
      "    accuracy                           0.73      7824\n",
      "   macro avg       0.13      0.12      0.12      7824\n",
      "weighted avg       0.72      0.73      0.73      7824\n",
      "\n"
     ]
    }
   ],
   "source": [
    "# Model initialization\n",
    "model = xgb.XGBClassifier()\n",
    "# Model training\n",
    "model.fit(X_train, y_train)\n",
    "\n",
    "# Predictions\n",
    "y_pred = model.predict(X_test)\n",
    "\n",
    "# Evaluate the model\n",
    "accuracy = accuracy_score(y_test, y_pred)\n",
    "report = classification_report(y_test, y_pred)\n",
    "\n",
    "print(\"Accuracy:\", accuracy)\n",
    "print(\"Classification Report:\")\n",
    "print(report)"
   ]
  },
  {
   "cell_type": "code",
   "execution_count": 20,
   "metadata": {},
   "outputs": [
    {
     "data": {
      "text/plain": [
       "numpy.ndarray"
      ]
     },
     "execution_count": 20,
     "metadata": {},
     "output_type": "execute_result"
    }
   ],
   "source": [
    "type(conf_matrix)"
   ]
  },
  {
   "cell_type": "code",
   "execution_count": 7,
   "metadata": {},
   "outputs": [
    {
     "data": {
      "application/vnd.plotly.v1+json": {
       "config": {
        "plotlyServerURL": "https://plot.ly"
       },
       "data": [
        {
         "coloraxis": "coloraxis",
         "hovertemplate": "Predicted: %{x}<br>Actual: %{y}<br>color: %{z}<extra></extra>",
         "name": "0",
         "type": "heatmap",
         "x": [
          "Predicted 1",
          "Predicted 2",
          "Predicted 3",
          "Predicted 4",
          "Predicted 5",
          "Predicted 6",
          "Predicted 7",
          "Predicted 8",
          "Predicted 9",
          "Predicted 10",
          "Predicted 11",
          "Predicted 12",
          "Predicted 13",
          "Predicted 14",
          "Predicted 15",
          "Predicted 16",
          "Predicted 17",
          "Predicted 18",
          "Predicted 19",
          "Predicted 20",
          "Predicted 21",
          "Predicted 22",
          "Predicted 23",
          "Predicted 24",
          "Predicted 25"
         ],
         "xaxis": "x",
         "y": [
          "Actual 1",
          "Actual 2",
          "Actual 3",
          "Actual 4",
          "Actual 5",
          "Actual 6",
          "Actual 7",
          "Actual 8",
          "Actual 9",
          "Actual 10",
          "Actual 11",
          "Actual 12",
          "Actual 13",
          "Actual 14",
          "Actual 15",
          "Actual 16",
          "Actual 17",
          "Actual 18",
          "Actual 19",
          "Actual 20",
          "Actual 21",
          "Actual 22",
          "Actual 23",
          "Actual 24",
          "Actual 25"
         ],
         "yaxis": "y",
         "z": [
          [
           5530,
           0,
           0,
           1,
           0,
           1,
           1,
           0,
           1,
           0,
           0,
           3,
           1,
           2,
           1,
           1,
           1,
           3,
           3,
           5,
           4,
           1,
           1,
           0,
           3
          ],
          [
           1,
           15,
           21,
           24,
           14,
           13,
           8,
           3,
           0,
           3,
           4,
           0,
           1,
           2,
           2,
           1,
           0,
           0,
           2,
           0,
           0,
           0,
           0,
           0,
           0
          ],
          [
           1,
           19,
           19,
           16,
           16,
           5,
           10,
           3,
           1,
           2,
           1,
           2,
           2,
           1,
           0,
           3,
           2,
           0,
           0,
           0,
           0,
           0,
           0,
           0,
           0
          ],
          [
           1,
           18,
           17,
           13,
           8,
           12,
           8,
           5,
           1,
           5,
           2,
           5,
           2,
           1,
           1,
           1,
           2,
           0,
           2,
           1,
           0,
           1,
           0,
           0,
           0
          ],
          [
           0,
           13,
           16,
           13,
           11,
           14,
           17,
           3,
           3,
           3,
           3,
           5,
           4,
           3,
           0,
           2,
           3,
           0,
           0,
           2,
           0,
           0,
           0,
           0,
           0
          ],
          [
           2,
           15,
           12,
           9,
           13,
           6,
           9,
           9,
           7,
           7,
           5,
           3,
           0,
           4,
           2,
           2,
           3,
           3,
           0,
           0,
           1,
           0,
           0,
           0,
           0
          ],
          [
           2,
           7,
           7,
           6,
           9,
           8,
           3,
           7,
           6,
           8,
           7,
           5,
           4,
           4,
           2,
           8,
           4,
           1,
           1,
           1,
           1,
           0,
           0,
           0,
           0
          ],
          [
           1,
           6,
           4,
           3,
           9,
           3,
           15,
           7,
           8,
           10,
           11,
           6,
           3,
           2,
           1,
           1,
           2,
           2,
           0,
           0,
           0,
           1,
           2,
           0,
           0
          ],
          [
           0,
           3,
           1,
           4,
           10,
           9,
           10,
           12,
           7,
           9,
           5,
           9,
           9,
           9,
           2,
           7,
           3,
           1,
           1,
           4,
           1,
           0,
           0,
           0,
           0
          ],
          [
           0,
           1,
           3,
           5,
           5,
           5,
           8,
           7,
           6,
           5,
           9,
           7,
           6,
           12,
           5,
           4,
           2,
           3,
           2,
           1,
           0,
           0,
           1,
           0,
           0
          ],
          [
           1,
           3,
           1,
           1,
           7,
           3,
           12,
           6,
           10,
           5,
           7,
           13,
           9,
           7,
           4,
           3,
           4,
           2,
           3,
           1,
           1,
           0,
           0,
           0,
           0
          ],
          [
           3,
           5,
           3,
           1,
           6,
           9,
           5,
           9,
           9,
           10,
           9,
           7,
           12,
           4,
           4,
           3,
           12,
           4,
           4,
           2,
           0,
           1,
           0,
           0,
           0
          ],
          [
           1,
           0,
           0,
           2,
           1,
           5,
           2,
           8,
           7,
           12,
           13,
           10,
           6,
           9,
           9,
           10,
           10,
           6,
           3,
           2,
           3,
           0,
           0,
           0,
           0
          ],
          [
           5,
           1,
           3,
           0,
           6,
           2,
           8,
           6,
           4,
           12,
           8,
           8,
           7,
           7,
           13,
           10,
           9,
           6,
           3,
           5,
           1,
           0,
           0,
           0,
           0
          ],
          [
           3,
           2,
           0,
           2,
           1,
           4,
           2,
           3,
           5,
           8,
           11,
           9,
           7,
           8,
           9,
           10,
           14,
           6,
           6,
           5,
           1,
           0,
           3,
           0,
           0
          ],
          [
           5,
           0,
           0,
           1,
           2,
           3,
           7,
           4,
           7,
           5,
           8,
           7,
           7,
           5,
           8,
           6,
           6,
           10,
           5,
           6,
           5,
           1,
           0,
           0,
           0
          ],
          [
           8,
           1,
           0,
           1,
           0,
           2,
           2,
           2,
           3,
           5,
           5,
           5,
           9,
           11,
           5,
           4,
           2,
           7,
           10,
           12,
           3,
           3,
           0,
           0,
           0
          ],
          [
           4,
           3,
           1,
           1,
           0,
           3,
           1,
           3,
           2,
           4,
           4,
           5,
           4,
           9,
           4,
           6,
           12,
           12,
           9,
           11,
           5,
           3,
           0,
           0,
           0
          ],
          [
           9,
           0,
           0,
           1,
           0,
           1,
           2,
           0,
           3,
           2,
           1,
           1,
           4,
           5,
           4,
           5,
           11,
           14,
           13,
           17,
           12,
           2,
           1,
           0,
           0
          ],
          [
           11,
           0,
           0,
           0,
           1,
           0,
           1,
           1,
           0,
           1,
           5,
           1,
           3,
           4,
           6,
           8,
           3,
           19,
           12,
           8,
           15,
           4,
           3,
           1,
           1
          ],
          [
           14,
           0,
           1,
           0,
           0,
           0,
           0,
           1,
           0,
           2,
           1,
           0,
           1,
           1,
           2,
           3,
           6,
           12,
           14,
           16,
           9,
           2,
           7,
           1,
           1
          ],
          [
           2,
           0,
           0,
           0,
           0,
           0,
           0,
           0,
           0,
           0,
           1,
           0,
           0,
           0,
           1,
           2,
           2,
           0,
           8,
           9,
           5,
           5,
           3,
           2,
           1
          ],
          [
           7,
           0,
           0,
           0,
           0,
           0,
           0,
           0,
           0,
           0,
           0,
           0,
           0,
           0,
           2,
           0,
           0,
           0,
           1,
           1,
           1,
           9,
           1,
           4,
           0
          ],
          [
           2,
           0,
           0,
           0,
           0,
           0,
           0,
           0,
           0,
           0,
           0,
           0,
           0,
           0,
           1,
           0,
           0,
           0,
           2,
           2,
           2,
           1,
           4,
           1,
           0
          ],
          [
           0,
           0,
           0,
           0,
           0,
           0,
           0,
           0,
           0,
           0,
           0,
           0,
           0,
           0,
           0,
           0,
           0,
           0,
           0,
           0,
           0,
           1,
           3,
           1,
           2
          ]
         ]
        }
       ],
       "layout": {
        "coloraxis": {
         "colorscale": [
          [
           0,
           "#0d0887"
          ],
          [
           0.1111111111111111,
           "#46039f"
          ],
          [
           0.2222222222222222,
           "#7201a8"
          ],
          [
           0.3333333333333333,
           "#9c179e"
          ],
          [
           0.4444444444444444,
           "#bd3786"
          ],
          [
           0.5555555555555556,
           "#d8576b"
          ],
          [
           0.6666666666666666,
           "#ed7953"
          ],
          [
           0.7777777777777778,
           "#fb9f3a"
          ],
          [
           0.8888888888888888,
           "#fdca26"
          ],
          [
           1,
           "#f0f921"
          ]
         ]
        },
        "height": 800,
        "template": {
         "data": {
          "bar": [
           {
            "error_x": {
             "color": "#2a3f5f"
            },
            "error_y": {
             "color": "#2a3f5f"
            },
            "marker": {
             "line": {
              "color": "white",
              "width": 0.5
             },
             "pattern": {
              "fillmode": "overlay",
              "size": 10,
              "solidity": 0.2
             }
            },
            "type": "bar"
           }
          ],
          "barpolar": [
           {
            "marker": {
             "line": {
              "color": "white",
              "width": 0.5
             },
             "pattern": {
              "fillmode": "overlay",
              "size": 10,
              "solidity": 0.2
             }
            },
            "type": "barpolar"
           }
          ],
          "carpet": [
           {
            "aaxis": {
             "endlinecolor": "#2a3f5f",
             "gridcolor": "#C8D4E3",
             "linecolor": "#C8D4E3",
             "minorgridcolor": "#C8D4E3",
             "startlinecolor": "#2a3f5f"
            },
            "baxis": {
             "endlinecolor": "#2a3f5f",
             "gridcolor": "#C8D4E3",
             "linecolor": "#C8D4E3",
             "minorgridcolor": "#C8D4E3",
             "startlinecolor": "#2a3f5f"
            },
            "type": "carpet"
           }
          ],
          "choropleth": [
           {
            "colorbar": {
             "outlinewidth": 0,
             "ticks": ""
            },
            "type": "choropleth"
           }
          ],
          "contour": [
           {
            "colorbar": {
             "outlinewidth": 0,
             "ticks": ""
            },
            "colorscale": [
             [
              0,
              "#0d0887"
             ],
             [
              0.1111111111111111,
              "#46039f"
             ],
             [
              0.2222222222222222,
              "#7201a8"
             ],
             [
              0.3333333333333333,
              "#9c179e"
             ],
             [
              0.4444444444444444,
              "#bd3786"
             ],
             [
              0.5555555555555556,
              "#d8576b"
             ],
             [
              0.6666666666666666,
              "#ed7953"
             ],
             [
              0.7777777777777778,
              "#fb9f3a"
             ],
             [
              0.8888888888888888,
              "#fdca26"
             ],
             [
              1,
              "#f0f921"
             ]
            ],
            "type": "contour"
           }
          ],
          "contourcarpet": [
           {
            "colorbar": {
             "outlinewidth": 0,
             "ticks": ""
            },
            "type": "contourcarpet"
           }
          ],
          "heatmap": [
           {
            "colorbar": {
             "outlinewidth": 0,
             "ticks": ""
            },
            "colorscale": [
             [
              0,
              "#0d0887"
             ],
             [
              0.1111111111111111,
              "#46039f"
             ],
             [
              0.2222222222222222,
              "#7201a8"
             ],
             [
              0.3333333333333333,
              "#9c179e"
             ],
             [
              0.4444444444444444,
              "#bd3786"
             ],
             [
              0.5555555555555556,
              "#d8576b"
             ],
             [
              0.6666666666666666,
              "#ed7953"
             ],
             [
              0.7777777777777778,
              "#fb9f3a"
             ],
             [
              0.8888888888888888,
              "#fdca26"
             ],
             [
              1,
              "#f0f921"
             ]
            ],
            "type": "heatmap"
           }
          ],
          "heatmapgl": [
           {
            "colorbar": {
             "outlinewidth": 0,
             "ticks": ""
            },
            "colorscale": [
             [
              0,
              "#0d0887"
             ],
             [
              0.1111111111111111,
              "#46039f"
             ],
             [
              0.2222222222222222,
              "#7201a8"
             ],
             [
              0.3333333333333333,
              "#9c179e"
             ],
             [
              0.4444444444444444,
              "#bd3786"
             ],
             [
              0.5555555555555556,
              "#d8576b"
             ],
             [
              0.6666666666666666,
              "#ed7953"
             ],
             [
              0.7777777777777778,
              "#fb9f3a"
             ],
             [
              0.8888888888888888,
              "#fdca26"
             ],
             [
              1,
              "#f0f921"
             ]
            ],
            "type": "heatmapgl"
           }
          ],
          "histogram": [
           {
            "marker": {
             "pattern": {
              "fillmode": "overlay",
              "size": 10,
              "solidity": 0.2
             }
            },
            "type": "histogram"
           }
          ],
          "histogram2d": [
           {
            "colorbar": {
             "outlinewidth": 0,
             "ticks": ""
            },
            "colorscale": [
             [
              0,
              "#0d0887"
             ],
             [
              0.1111111111111111,
              "#46039f"
             ],
             [
              0.2222222222222222,
              "#7201a8"
             ],
             [
              0.3333333333333333,
              "#9c179e"
             ],
             [
              0.4444444444444444,
              "#bd3786"
             ],
             [
              0.5555555555555556,
              "#d8576b"
             ],
             [
              0.6666666666666666,
              "#ed7953"
             ],
             [
              0.7777777777777778,
              "#fb9f3a"
             ],
             [
              0.8888888888888888,
              "#fdca26"
             ],
             [
              1,
              "#f0f921"
             ]
            ],
            "type": "histogram2d"
           }
          ],
          "histogram2dcontour": [
           {
            "colorbar": {
             "outlinewidth": 0,
             "ticks": ""
            },
            "colorscale": [
             [
              0,
              "#0d0887"
             ],
             [
              0.1111111111111111,
              "#46039f"
             ],
             [
              0.2222222222222222,
              "#7201a8"
             ],
             [
              0.3333333333333333,
              "#9c179e"
             ],
             [
              0.4444444444444444,
              "#bd3786"
             ],
             [
              0.5555555555555556,
              "#d8576b"
             ],
             [
              0.6666666666666666,
              "#ed7953"
             ],
             [
              0.7777777777777778,
              "#fb9f3a"
             ],
             [
              0.8888888888888888,
              "#fdca26"
             ],
             [
              1,
              "#f0f921"
             ]
            ],
            "type": "histogram2dcontour"
           }
          ],
          "mesh3d": [
           {
            "colorbar": {
             "outlinewidth": 0,
             "ticks": ""
            },
            "type": "mesh3d"
           }
          ],
          "parcoords": [
           {
            "line": {
             "colorbar": {
              "outlinewidth": 0,
              "ticks": ""
             }
            },
            "type": "parcoords"
           }
          ],
          "pie": [
           {
            "automargin": true,
            "type": "pie"
           }
          ],
          "scatter": [
           {
            "fillpattern": {
             "fillmode": "overlay",
             "size": 10,
             "solidity": 0.2
            },
            "type": "scatter"
           }
          ],
          "scatter3d": [
           {
            "line": {
             "colorbar": {
              "outlinewidth": 0,
              "ticks": ""
             }
            },
            "marker": {
             "colorbar": {
              "outlinewidth": 0,
              "ticks": ""
             }
            },
            "type": "scatter3d"
           }
          ],
          "scattercarpet": [
           {
            "marker": {
             "colorbar": {
              "outlinewidth": 0,
              "ticks": ""
             }
            },
            "type": "scattercarpet"
           }
          ],
          "scattergeo": [
           {
            "marker": {
             "colorbar": {
              "outlinewidth": 0,
              "ticks": ""
             }
            },
            "type": "scattergeo"
           }
          ],
          "scattergl": [
           {
            "marker": {
             "colorbar": {
              "outlinewidth": 0,
              "ticks": ""
             }
            },
            "type": "scattergl"
           }
          ],
          "scattermapbox": [
           {
            "marker": {
             "colorbar": {
              "outlinewidth": 0,
              "ticks": ""
             }
            },
            "type": "scattermapbox"
           }
          ],
          "scatterpolar": [
           {
            "marker": {
             "colorbar": {
              "outlinewidth": 0,
              "ticks": ""
             }
            },
            "type": "scatterpolar"
           }
          ],
          "scatterpolargl": [
           {
            "marker": {
             "colorbar": {
              "outlinewidth": 0,
              "ticks": ""
             }
            },
            "type": "scatterpolargl"
           }
          ],
          "scatterternary": [
           {
            "marker": {
             "colorbar": {
              "outlinewidth": 0,
              "ticks": ""
             }
            },
            "type": "scatterternary"
           }
          ],
          "surface": [
           {
            "colorbar": {
             "outlinewidth": 0,
             "ticks": ""
            },
            "colorscale": [
             [
              0,
              "#0d0887"
             ],
             [
              0.1111111111111111,
              "#46039f"
             ],
             [
              0.2222222222222222,
              "#7201a8"
             ],
             [
              0.3333333333333333,
              "#9c179e"
             ],
             [
              0.4444444444444444,
              "#bd3786"
             ],
             [
              0.5555555555555556,
              "#d8576b"
             ],
             [
              0.6666666666666666,
              "#ed7953"
             ],
             [
              0.7777777777777778,
              "#fb9f3a"
             ],
             [
              0.8888888888888888,
              "#fdca26"
             ],
             [
              1,
              "#f0f921"
             ]
            ],
            "type": "surface"
           }
          ],
          "table": [
           {
            "cells": {
             "fill": {
              "color": "#EBF0F8"
             },
             "line": {
              "color": "white"
             }
            },
            "header": {
             "fill": {
              "color": "#C8D4E3"
             },
             "line": {
              "color": "white"
             }
            },
            "type": "table"
           }
          ]
         },
         "layout": {
          "annotationdefaults": {
           "arrowcolor": "#2a3f5f",
           "arrowhead": 0,
           "arrowwidth": 1
          },
          "autotypenumbers": "strict",
          "coloraxis": {
           "colorbar": {
            "outlinewidth": 0,
            "ticks": ""
           }
          },
          "colorscale": {
           "diverging": [
            [
             0,
             "#8e0152"
            ],
            [
             0.1,
             "#c51b7d"
            ],
            [
             0.2,
             "#de77ae"
            ],
            [
             0.3,
             "#f1b6da"
            ],
            [
             0.4,
             "#fde0ef"
            ],
            [
             0.5,
             "#f7f7f7"
            ],
            [
             0.6,
             "#e6f5d0"
            ],
            [
             0.7,
             "#b8e186"
            ],
            [
             0.8,
             "#7fbc41"
            ],
            [
             0.9,
             "#4d9221"
            ],
            [
             1,
             "#276419"
            ]
           ],
           "sequential": [
            [
             0,
             "#0d0887"
            ],
            [
             0.1111111111111111,
             "#46039f"
            ],
            [
             0.2222222222222222,
             "#7201a8"
            ],
            [
             0.3333333333333333,
             "#9c179e"
            ],
            [
             0.4444444444444444,
             "#bd3786"
            ],
            [
             0.5555555555555556,
             "#d8576b"
            ],
            [
             0.6666666666666666,
             "#ed7953"
            ],
            [
             0.7777777777777778,
             "#fb9f3a"
            ],
            [
             0.8888888888888888,
             "#fdca26"
            ],
            [
             1,
             "#f0f921"
            ]
           ],
           "sequentialminus": [
            [
             0,
             "#0d0887"
            ],
            [
             0.1111111111111111,
             "#46039f"
            ],
            [
             0.2222222222222222,
             "#7201a8"
            ],
            [
             0.3333333333333333,
             "#9c179e"
            ],
            [
             0.4444444444444444,
             "#bd3786"
            ],
            [
             0.5555555555555556,
             "#d8576b"
            ],
            [
             0.6666666666666666,
             "#ed7953"
            ],
            [
             0.7777777777777778,
             "#fb9f3a"
            ],
            [
             0.8888888888888888,
             "#fdca26"
            ],
            [
             1,
             "#f0f921"
            ]
           ]
          },
          "colorway": [
           "#636efa",
           "#EF553B",
           "#00cc96",
           "#ab63fa",
           "#FFA15A",
           "#19d3f3",
           "#FF6692",
           "#B6E880",
           "#FF97FF",
           "#FECB52"
          ],
          "font": {
           "color": "#2a3f5f"
          },
          "geo": {
           "bgcolor": "white",
           "lakecolor": "white",
           "landcolor": "white",
           "showlakes": true,
           "showland": true,
           "subunitcolor": "#C8D4E3"
          },
          "hoverlabel": {
           "align": "left"
          },
          "hovermode": "closest",
          "mapbox": {
           "style": "light"
          },
          "paper_bgcolor": "white",
          "plot_bgcolor": "white",
          "polar": {
           "angularaxis": {
            "gridcolor": "#EBF0F8",
            "linecolor": "#EBF0F8",
            "ticks": ""
           },
           "bgcolor": "white",
           "radialaxis": {
            "gridcolor": "#EBF0F8",
            "linecolor": "#EBF0F8",
            "ticks": ""
           }
          },
          "scene": {
           "xaxis": {
            "backgroundcolor": "white",
            "gridcolor": "#DFE8F3",
            "gridwidth": 2,
            "linecolor": "#EBF0F8",
            "showbackground": true,
            "ticks": "",
            "zerolinecolor": "#EBF0F8"
           },
           "yaxis": {
            "backgroundcolor": "white",
            "gridcolor": "#DFE8F3",
            "gridwidth": 2,
            "linecolor": "#EBF0F8",
            "showbackground": true,
            "ticks": "",
            "zerolinecolor": "#EBF0F8"
           },
           "zaxis": {
            "backgroundcolor": "white",
            "gridcolor": "#DFE8F3",
            "gridwidth": 2,
            "linecolor": "#EBF0F8",
            "showbackground": true,
            "ticks": "",
            "zerolinecolor": "#EBF0F8"
           }
          },
          "shapedefaults": {
           "line": {
            "color": "#2a3f5f"
           }
          },
          "ternary": {
           "aaxis": {
            "gridcolor": "#DFE8F3",
            "linecolor": "#A2B1C6",
            "ticks": ""
           },
           "baxis": {
            "gridcolor": "#DFE8F3",
            "linecolor": "#A2B1C6",
            "ticks": ""
           },
           "bgcolor": "white",
           "caxis": {
            "gridcolor": "#DFE8F3",
            "linecolor": "#A2B1C6",
            "ticks": ""
           }
          },
          "title": {
           "x": 0.05
          },
          "xaxis": {
           "automargin": true,
           "gridcolor": "#EBF0F8",
           "linecolor": "#EBF0F8",
           "ticks": "",
           "title": {
            "standoff": 15
           },
           "zerolinecolor": "#EBF0F8",
           "zerolinewidth": 2
          },
          "yaxis": {
           "automargin": true,
           "gridcolor": "#EBF0F8",
           "linecolor": "#EBF0F8",
           "ticks": "",
           "title": {
            "standoff": 15
           },
           "zerolinecolor": "#EBF0F8",
           "zerolinewidth": 2
          }
         }
        },
        "title": {
         "text": "Confusion Matrix"
        },
        "width": 1200,
        "xaxis": {
         "anchor": "y",
         "constrain": "domain",
         "domain": [
          0,
          1
         ],
         "scaleanchor": "y",
         "title": {
          "text": "Predicted"
         }
        },
        "yaxis": {
         "anchor": "x",
         "autorange": "reversed",
         "constrain": "domain",
         "domain": [
          0,
          1
         ],
         "title": {
          "text": "Actual"
         }
        }
       }
      }
     },
     "metadata": {},
     "output_type": "display_data"
    }
   ],
   "source": [
    "# Calculate confusion matrix\n",
    "conf_matrix = confusion_matrix(y_test, y_pred)\n",
    "\n",
    "# Plot confusion matrix\n",
    "fig = px.imshow(conf_matrix,\n",
    "    labels=dict(x=\"Predicted\", y=\"Actual\"),\n",
    "    x=[f\"Predicted {i}\" for i in range(1, conf_matrix.shape[1] + 1)],\n",
    "    y=[f\"Actual {i}\" for i in range(1, conf_matrix.shape[0] + 1)],\n",
    "    title=\"Confusion Matrix\",\n",
    "    width=1200,  # Set width to 800 pixels\n",
    "    height=800)\n",
    "fig.show()"
   ]
  },
  {
   "cell_type": "markdown",
   "metadata": {},
   "source": [
    "## Analysing the feature importance"
   ]
  },
  {
   "cell_type": "code",
   "execution_count": 8,
   "metadata": {},
   "outputs": [],
   "source": [
    "# Get feature importances\n",
    "feature_importances = model.feature_importances_\n",
    "\n",
    "# Get feature names\n",
    "feature_names = X_train.columns\n",
    "\n",
    "# Create DataFrame with feature names and importances\n",
    "feature_importance_df = pd.DataFrame({\n",
    "    'Feature': feature_names,\n",
    "    'Importance': feature_importances\n",
    "})\n",
    "\n",
    "# Sort features by importance\n",
    "feature_importance_df = feature_importance_df.sort_values(by='Importance', ascending=False)"
   ]
  },
  {
   "cell_type": "code",
   "execution_count": 9,
   "metadata": {},
   "outputs": [
    {
     "data": {
      "application/vnd.plotly.v1+json": {
       "config": {
        "plotlyServerURL": "https://plot.ly"
       },
       "data": [
        {
         "alignmentgroup": "True",
         "hovertemplate": "Feature Name=%{x}<br>Importance Score=%{y}<extra></extra>",
         "legendgroup": "",
         "marker": {
          "color": "#636efa",
          "pattern": {
           "shape": ""
          }
         },
         "name": "",
         "offsetgroup": "",
         "orientation": "v",
         "showlegend": false,
         "textposition": "auto",
         "type": "bar",
         "x": [
          "year",
          "driver_nber_of_races_won",
          "statusId",
          "constructor_times_in_top_10",
          "constructor_avg_point",
          "driver_most_won_circuit_id",
          "constructor_races_won",
          "grid",
          "driver_avg_speed",
          "driver_avg_point",
          "constructor_is_active",
          "race_end_in_2021",
          "race_end_in_2023",
          "race_end_in_2020",
          "race_end_in_2019",
          "driver_nber_of_times_in_top_10",
          "race_end_bf_2019",
          "constructorId",
          "race_end_in_2022",
          "raceId",
          "driver_is_active",
          "driverId",
          "resultId",
          "age",
          "circuitId",
          "round"
         ],
         "xaxis": "x",
         "y": [
          0.6764276027679443,
          0.06000661849975586,
          0.0191701278090477,
          0.01757632941007614,
          0.016133597120642662,
          0.012983237393200397,
          0.012886103242635727,
          0.011091680265963078,
          0.011022994294762611,
          0.010978786274790764,
          0.01073735672980547,
          0.010642822831869125,
          0.01044266577810049,
          0.010251312516629696,
          0.010052182711660862,
          0.009957429021596909,
          0.009777912870049477,
          0.009680463932454586,
          0.009534073062241077,
          0.009270266629755497,
          0.009151320904493332,
          0.008827393874526024,
          0.008590877056121826,
          0.008305124938488007,
          0.008276242762804031,
          0.008225510828197002
         ],
         "yaxis": "y"
        }
       ],
       "layout": {
        "barmode": "relative",
        "height": 700,
        "legend": {
         "tracegroupgap": 0
        },
        "template": {
         "data": {
          "bar": [
           {
            "error_x": {
             "color": "#2a3f5f"
            },
            "error_y": {
             "color": "#2a3f5f"
            },
            "marker": {
             "line": {
              "color": "white",
              "width": 0.5
             },
             "pattern": {
              "fillmode": "overlay",
              "size": 10,
              "solidity": 0.2
             }
            },
            "type": "bar"
           }
          ],
          "barpolar": [
           {
            "marker": {
             "line": {
              "color": "white",
              "width": 0.5
             },
             "pattern": {
              "fillmode": "overlay",
              "size": 10,
              "solidity": 0.2
             }
            },
            "type": "barpolar"
           }
          ],
          "carpet": [
           {
            "aaxis": {
             "endlinecolor": "#2a3f5f",
             "gridcolor": "#C8D4E3",
             "linecolor": "#C8D4E3",
             "minorgridcolor": "#C8D4E3",
             "startlinecolor": "#2a3f5f"
            },
            "baxis": {
             "endlinecolor": "#2a3f5f",
             "gridcolor": "#C8D4E3",
             "linecolor": "#C8D4E3",
             "minorgridcolor": "#C8D4E3",
             "startlinecolor": "#2a3f5f"
            },
            "type": "carpet"
           }
          ],
          "choropleth": [
           {
            "colorbar": {
             "outlinewidth": 0,
             "ticks": ""
            },
            "type": "choropleth"
           }
          ],
          "contour": [
           {
            "colorbar": {
             "outlinewidth": 0,
             "ticks": ""
            },
            "colorscale": [
             [
              0,
              "#0d0887"
             ],
             [
              0.1111111111111111,
              "#46039f"
             ],
             [
              0.2222222222222222,
              "#7201a8"
             ],
             [
              0.3333333333333333,
              "#9c179e"
             ],
             [
              0.4444444444444444,
              "#bd3786"
             ],
             [
              0.5555555555555556,
              "#d8576b"
             ],
             [
              0.6666666666666666,
              "#ed7953"
             ],
             [
              0.7777777777777778,
              "#fb9f3a"
             ],
             [
              0.8888888888888888,
              "#fdca26"
             ],
             [
              1,
              "#f0f921"
             ]
            ],
            "type": "contour"
           }
          ],
          "contourcarpet": [
           {
            "colorbar": {
             "outlinewidth": 0,
             "ticks": ""
            },
            "type": "contourcarpet"
           }
          ],
          "heatmap": [
           {
            "colorbar": {
             "outlinewidth": 0,
             "ticks": ""
            },
            "colorscale": [
             [
              0,
              "#0d0887"
             ],
             [
              0.1111111111111111,
              "#46039f"
             ],
             [
              0.2222222222222222,
              "#7201a8"
             ],
             [
              0.3333333333333333,
              "#9c179e"
             ],
             [
              0.4444444444444444,
              "#bd3786"
             ],
             [
              0.5555555555555556,
              "#d8576b"
             ],
             [
              0.6666666666666666,
              "#ed7953"
             ],
             [
              0.7777777777777778,
              "#fb9f3a"
             ],
             [
              0.8888888888888888,
              "#fdca26"
             ],
             [
              1,
              "#f0f921"
             ]
            ],
            "type": "heatmap"
           }
          ],
          "heatmapgl": [
           {
            "colorbar": {
             "outlinewidth": 0,
             "ticks": ""
            },
            "colorscale": [
             [
              0,
              "#0d0887"
             ],
             [
              0.1111111111111111,
              "#46039f"
             ],
             [
              0.2222222222222222,
              "#7201a8"
             ],
             [
              0.3333333333333333,
              "#9c179e"
             ],
             [
              0.4444444444444444,
              "#bd3786"
             ],
             [
              0.5555555555555556,
              "#d8576b"
             ],
             [
              0.6666666666666666,
              "#ed7953"
             ],
             [
              0.7777777777777778,
              "#fb9f3a"
             ],
             [
              0.8888888888888888,
              "#fdca26"
             ],
             [
              1,
              "#f0f921"
             ]
            ],
            "type": "heatmapgl"
           }
          ],
          "histogram": [
           {
            "marker": {
             "pattern": {
              "fillmode": "overlay",
              "size": 10,
              "solidity": 0.2
             }
            },
            "type": "histogram"
           }
          ],
          "histogram2d": [
           {
            "colorbar": {
             "outlinewidth": 0,
             "ticks": ""
            },
            "colorscale": [
             [
              0,
              "#0d0887"
             ],
             [
              0.1111111111111111,
              "#46039f"
             ],
             [
              0.2222222222222222,
              "#7201a8"
             ],
             [
              0.3333333333333333,
              "#9c179e"
             ],
             [
              0.4444444444444444,
              "#bd3786"
             ],
             [
              0.5555555555555556,
              "#d8576b"
             ],
             [
              0.6666666666666666,
              "#ed7953"
             ],
             [
              0.7777777777777778,
              "#fb9f3a"
             ],
             [
              0.8888888888888888,
              "#fdca26"
             ],
             [
              1,
              "#f0f921"
             ]
            ],
            "type": "histogram2d"
           }
          ],
          "histogram2dcontour": [
           {
            "colorbar": {
             "outlinewidth": 0,
             "ticks": ""
            },
            "colorscale": [
             [
              0,
              "#0d0887"
             ],
             [
              0.1111111111111111,
              "#46039f"
             ],
             [
              0.2222222222222222,
              "#7201a8"
             ],
             [
              0.3333333333333333,
              "#9c179e"
             ],
             [
              0.4444444444444444,
              "#bd3786"
             ],
             [
              0.5555555555555556,
              "#d8576b"
             ],
             [
              0.6666666666666666,
              "#ed7953"
             ],
             [
              0.7777777777777778,
              "#fb9f3a"
             ],
             [
              0.8888888888888888,
              "#fdca26"
             ],
             [
              1,
              "#f0f921"
             ]
            ],
            "type": "histogram2dcontour"
           }
          ],
          "mesh3d": [
           {
            "colorbar": {
             "outlinewidth": 0,
             "ticks": ""
            },
            "type": "mesh3d"
           }
          ],
          "parcoords": [
           {
            "line": {
             "colorbar": {
              "outlinewidth": 0,
              "ticks": ""
             }
            },
            "type": "parcoords"
           }
          ],
          "pie": [
           {
            "automargin": true,
            "type": "pie"
           }
          ],
          "scatter": [
           {
            "fillpattern": {
             "fillmode": "overlay",
             "size": 10,
             "solidity": 0.2
            },
            "type": "scatter"
           }
          ],
          "scatter3d": [
           {
            "line": {
             "colorbar": {
              "outlinewidth": 0,
              "ticks": ""
             }
            },
            "marker": {
             "colorbar": {
              "outlinewidth": 0,
              "ticks": ""
             }
            },
            "type": "scatter3d"
           }
          ],
          "scattercarpet": [
           {
            "marker": {
             "colorbar": {
              "outlinewidth": 0,
              "ticks": ""
             }
            },
            "type": "scattercarpet"
           }
          ],
          "scattergeo": [
           {
            "marker": {
             "colorbar": {
              "outlinewidth": 0,
              "ticks": ""
             }
            },
            "type": "scattergeo"
           }
          ],
          "scattergl": [
           {
            "marker": {
             "colorbar": {
              "outlinewidth": 0,
              "ticks": ""
             }
            },
            "type": "scattergl"
           }
          ],
          "scattermapbox": [
           {
            "marker": {
             "colorbar": {
              "outlinewidth": 0,
              "ticks": ""
             }
            },
            "type": "scattermapbox"
           }
          ],
          "scatterpolar": [
           {
            "marker": {
             "colorbar": {
              "outlinewidth": 0,
              "ticks": ""
             }
            },
            "type": "scatterpolar"
           }
          ],
          "scatterpolargl": [
           {
            "marker": {
             "colorbar": {
              "outlinewidth": 0,
              "ticks": ""
             }
            },
            "type": "scatterpolargl"
           }
          ],
          "scatterternary": [
           {
            "marker": {
             "colorbar": {
              "outlinewidth": 0,
              "ticks": ""
             }
            },
            "type": "scatterternary"
           }
          ],
          "surface": [
           {
            "colorbar": {
             "outlinewidth": 0,
             "ticks": ""
            },
            "colorscale": [
             [
              0,
              "#0d0887"
             ],
             [
              0.1111111111111111,
              "#46039f"
             ],
             [
              0.2222222222222222,
              "#7201a8"
             ],
             [
              0.3333333333333333,
              "#9c179e"
             ],
             [
              0.4444444444444444,
              "#bd3786"
             ],
             [
              0.5555555555555556,
              "#d8576b"
             ],
             [
              0.6666666666666666,
              "#ed7953"
             ],
             [
              0.7777777777777778,
              "#fb9f3a"
             ],
             [
              0.8888888888888888,
              "#fdca26"
             ],
             [
              1,
              "#f0f921"
             ]
            ],
            "type": "surface"
           }
          ],
          "table": [
           {
            "cells": {
             "fill": {
              "color": "#EBF0F8"
             },
             "line": {
              "color": "white"
             }
            },
            "header": {
             "fill": {
              "color": "#C8D4E3"
             },
             "line": {
              "color": "white"
             }
            },
            "type": "table"
           }
          ]
         },
         "layout": {
          "annotationdefaults": {
           "arrowcolor": "#2a3f5f",
           "arrowhead": 0,
           "arrowwidth": 1
          },
          "autotypenumbers": "strict",
          "coloraxis": {
           "colorbar": {
            "outlinewidth": 0,
            "ticks": ""
           }
          },
          "colorscale": {
           "diverging": [
            [
             0,
             "#8e0152"
            ],
            [
             0.1,
             "#c51b7d"
            ],
            [
             0.2,
             "#de77ae"
            ],
            [
             0.3,
             "#f1b6da"
            ],
            [
             0.4,
             "#fde0ef"
            ],
            [
             0.5,
             "#f7f7f7"
            ],
            [
             0.6,
             "#e6f5d0"
            ],
            [
             0.7,
             "#b8e186"
            ],
            [
             0.8,
             "#7fbc41"
            ],
            [
             0.9,
             "#4d9221"
            ],
            [
             1,
             "#276419"
            ]
           ],
           "sequential": [
            [
             0,
             "#0d0887"
            ],
            [
             0.1111111111111111,
             "#46039f"
            ],
            [
             0.2222222222222222,
             "#7201a8"
            ],
            [
             0.3333333333333333,
             "#9c179e"
            ],
            [
             0.4444444444444444,
             "#bd3786"
            ],
            [
             0.5555555555555556,
             "#d8576b"
            ],
            [
             0.6666666666666666,
             "#ed7953"
            ],
            [
             0.7777777777777778,
             "#fb9f3a"
            ],
            [
             0.8888888888888888,
             "#fdca26"
            ],
            [
             1,
             "#f0f921"
            ]
           ],
           "sequentialminus": [
            [
             0,
             "#0d0887"
            ],
            [
             0.1111111111111111,
             "#46039f"
            ],
            [
             0.2222222222222222,
             "#7201a8"
            ],
            [
             0.3333333333333333,
             "#9c179e"
            ],
            [
             0.4444444444444444,
             "#bd3786"
            ],
            [
             0.5555555555555556,
             "#d8576b"
            ],
            [
             0.6666666666666666,
             "#ed7953"
            ],
            [
             0.7777777777777778,
             "#fb9f3a"
            ],
            [
             0.8888888888888888,
             "#fdca26"
            ],
            [
             1,
             "#f0f921"
            ]
           ]
          },
          "colorway": [
           "#636efa",
           "#EF553B",
           "#00cc96",
           "#ab63fa",
           "#FFA15A",
           "#19d3f3",
           "#FF6692",
           "#B6E880",
           "#FF97FF",
           "#FECB52"
          ],
          "font": {
           "color": "#2a3f5f"
          },
          "geo": {
           "bgcolor": "white",
           "lakecolor": "white",
           "landcolor": "white",
           "showlakes": true,
           "showland": true,
           "subunitcolor": "#C8D4E3"
          },
          "hoverlabel": {
           "align": "left"
          },
          "hovermode": "closest",
          "mapbox": {
           "style": "light"
          },
          "paper_bgcolor": "white",
          "plot_bgcolor": "white",
          "polar": {
           "angularaxis": {
            "gridcolor": "#EBF0F8",
            "linecolor": "#EBF0F8",
            "ticks": ""
           },
           "bgcolor": "white",
           "radialaxis": {
            "gridcolor": "#EBF0F8",
            "linecolor": "#EBF0F8",
            "ticks": ""
           }
          },
          "scene": {
           "xaxis": {
            "backgroundcolor": "white",
            "gridcolor": "#DFE8F3",
            "gridwidth": 2,
            "linecolor": "#EBF0F8",
            "showbackground": true,
            "ticks": "",
            "zerolinecolor": "#EBF0F8"
           },
           "yaxis": {
            "backgroundcolor": "white",
            "gridcolor": "#DFE8F3",
            "gridwidth": 2,
            "linecolor": "#EBF0F8",
            "showbackground": true,
            "ticks": "",
            "zerolinecolor": "#EBF0F8"
           },
           "zaxis": {
            "backgroundcolor": "white",
            "gridcolor": "#DFE8F3",
            "gridwidth": 2,
            "linecolor": "#EBF0F8",
            "showbackground": true,
            "ticks": "",
            "zerolinecolor": "#EBF0F8"
           }
          },
          "shapedefaults": {
           "line": {
            "color": "#2a3f5f"
           }
          },
          "ternary": {
           "aaxis": {
            "gridcolor": "#DFE8F3",
            "linecolor": "#A2B1C6",
            "ticks": ""
           },
           "baxis": {
            "gridcolor": "#DFE8F3",
            "linecolor": "#A2B1C6",
            "ticks": ""
           },
           "bgcolor": "white",
           "caxis": {
            "gridcolor": "#DFE8F3",
            "linecolor": "#A2B1C6",
            "ticks": ""
           }
          },
          "title": {
           "x": 0.05
          },
          "xaxis": {
           "automargin": true,
           "gridcolor": "#EBF0F8",
           "linecolor": "#EBF0F8",
           "ticks": "",
           "title": {
            "standoff": 15
           },
           "zerolinecolor": "#EBF0F8",
           "zerolinewidth": 2
          },
          "yaxis": {
           "automargin": true,
           "gridcolor": "#EBF0F8",
           "linecolor": "#EBF0F8",
           "ticks": "",
           "title": {
            "standoff": 15
           },
           "zerolinecolor": "#EBF0F8",
           "zerolinewidth": 2
          }
         }
        },
        "title": {
         "text": "Feature Importances"
        },
        "width": 1200,
        "xaxis": {
         "anchor": "y",
         "domain": [
          0,
          1
         ],
         "title": {
          "text": "Feature Name"
         }
        },
        "yaxis": {
         "anchor": "x",
         "domain": [
          0,
          1
         ],
         "title": {
          "text": "Importance Score"
         }
        }
       }
      }
     },
     "metadata": {},
     "output_type": "display_data"
    }
   ],
   "source": [
    "# Plot feature importances\n",
    "fig = px.bar(feature_importance_df, x='Feature', y='Importance',\n",
    "             title='Feature Importances',\n",
    "             labels={'Importance': 'Importance Score', 'Feature': 'Feature Name'},\n",
    "             width=1200, height=700)\n",
    "fig.show()"
   ]
  },
  {
   "cell_type": "code",
   "execution_count": 10,
   "metadata": {},
   "outputs": [],
   "source": [
    "# Create a correlation matrix plot using plotly\n",
    "def create_corr_matrix(correlation_matrix):\n",
    "    fig = px.imshow(correlation_matrix,\n",
    "                    labels=dict(color=\"Correlation\"),\n",
    "                    x=correlation_matrix.columns,\n",
    "                    y=correlation_matrix.columns,\n",
    "                    color_continuous_scale=\"Viridis\",\n",
    "                    width=1200,\n",
    "                    height=800)\n",
    "\n",
    "    # Add text annotations with correlation values\n",
    "    for i in range(len(correlation_matrix.columns)):\n",
    "      for j in range(len(correlation_matrix.columns)):\n",
    "        fig.add_annotation(x=correlation_matrix.columns[i], y=correlation_matrix.columns[j],\n",
    "                        text=f'{correlation_matrix.iloc[i, j]:.2f}',\n",
    "                        showarrow=False, font=dict(color='white'))\n",
    "\n",
    "    # Show the plot\n",
    "    fig.show()"
   ]
  },
  {
   "cell_type": "code",
   "execution_count": 11,
   "metadata": {},
   "outputs": [
    {
     "data": {
      "application/vnd.plotly.v1+json": {
       "config": {
        "plotlyServerURL": "https://plot.ly"
       },
       "data": [
        {
         "coloraxis": "coloraxis",
         "hovertemplate": "x: %{x}<br>y: %{y}<br>Correlation: %{z}<extra></extra>",
         "name": "0",
         "type": "heatmap",
         "x": [
          "resultId",
          "raceId",
          "driverId",
          "constructorId",
          "grid",
          "race_rank",
          "statusId",
          "year",
          "round",
          "circuitId",
          "constructor_is_active",
          "constructor_races_won",
          "constructor_avg_point",
          "constructor_times_in_top_10",
          "driver_is_active",
          "driver_avg_point",
          "driver_avg_speed",
          "race_end_bf_2019",
          "race_end_in_2019",
          "race_end_in_2020",
          "race_end_in_2021",
          "race_end_in_2022",
          "race_end_in_2023",
          "driver_most_won_circuit_id",
          "driver_nber_of_races_won",
          "driver_nber_of_times_in_top_10",
          "age"
         ],
         "xaxis": "x",
         "y": [
          "resultId",
          "raceId",
          "driverId",
          "constructorId",
          "grid",
          "race_rank",
          "statusId",
          "year",
          "round",
          "circuitId",
          "constructor_is_active",
          "constructor_races_won",
          "constructor_avg_point",
          "constructor_times_in_top_10",
          "driver_is_active",
          "driver_avg_point",
          "driver_avg_speed",
          "race_end_bf_2019",
          "race_end_in_2019",
          "race_end_in_2020",
          "race_end_in_2021",
          "race_end_in_2022",
          "race_end_in_2023",
          "driver_most_won_circuit_id",
          "driver_nber_of_races_won",
          "driver_nber_of_times_in_top_10",
          "age"
         ],
         "yaxis": "y",
         "z": [
          [
           1,
           0.9663131225342425,
           0.7200568929512263,
           0.4443525238738532,
           -0.02253703513775071,
           0.31240352864278165,
           -0.015408934907946542,
           0.03751082235503383,
           0.01463203446149708,
           0.23671928998842567,
           0.209242329458222,
           0.15527447686702942,
           0.26034365660465547,
           -0.049500474417876195,
           0.4321411133467588,
           0.29076333641360985,
           0.17766930777919082,
           -0.04590951831129034,
           0.41118211340176797,
           0.45675025116738593,
           0.40734056239113986,
           0.45471690534517145,
           0.39762842784173413,
           0.24318545346064308,
           0.18796051736918323,
           -0.2192569701015012,
           0.025838025574947503
          ],
          [
           0.9663131225342425,
           1,
           0.7405229886258747,
           0.4406562032816722,
           -0.026978251703540807,
           0.25703402879037546,
           -0.0006415970909318874,
           0.0152761646534061,
           0.00641902316874341,
           0.2547174812600831,
           0.20886899241538232,
           0.14233712046800298,
           0.23913679693689285,
           -0.04506964711134055,
           0.4418432245673372,
           0.2740151551454057,
           0.132349765743671,
           -0.07619269598806254,
           0.4122271480705505,
           0.465873086482654,
           0.4142174943226284,
           0.46376915947424247,
           0.4048044566529021,
           0.22653823505878778,
           0.1643610933962347,
           -0.21967175999338406,
           0.03514271762488403
          ],
          [
           0.7200568929512263,
           0.7405229886258747,
           1,
           0.3220281769395518,
           0.0608825401197489,
           0.27501946272506234,
           0.00983017048795088,
           -0.007097739082524062,
           -0.033267172188863256,
           0.17059318044626076,
           0.06489373261168602,
           -0.00949089123136367,
           0.05611577929356039,
           -0.1237268580749216,
           0.44303904333002986,
           0.03984864253027872,
           0.1309261487093241,
           -0.34412112373287196,
           0.29404072189823743,
           0.39029915810497323,
           0.33999012447653026,
           0.40625761121706533,
           0.3590472104464685,
           0.12097406474539504,
           -0.13221631314537374,
           -0.46595719903814437,
           -0.11364289550508487
          ],
          [
           0.4443525238738532,
           0.4406562032816722,
           0.3220281769395518,
           1,
           0.10344691613558477,
           0.09965315174797518,
           0.10489556238821196,
           -0.20993747670937166,
           -0.09953842443039664,
           0.13486240198948174,
           -0.19780249731818325,
           -0.25283176438506,
           -0.0743792311148672,
           -0.5095185764622988,
           0.05613736244324138,
           -0.07950710222084241,
           -0.06181170421884982,
           -0.19041194775259565,
           0.006394291034200919,
           0.030179155626605197,
           -0.002957271662794216,
           0.014716728409715756,
           0.027523897510652658,
           -0.043576375212689616,
           -0.038690194430984495,
           -0.2896403776740398,
           0.09907340717713155
          ],
          [
           -0.02253703513775071,
           -0.026978251703540807,
           0.0608825401197489,
           0.10344691613558477,
           1,
           0.13827915433980054,
           -0.11940806394673244,
           -0.010023424232377266,
           0.013411075817111644,
           0.0005857794975801254,
           -0.30916524454657346,
           -0.3327072214178059,
           -0.33900111934641386,
           -0.28171112484045563,
           -0.10734305217822784,
           -0.33336342216124065,
           -0.05385693077085981,
           -0.31491891719626475,
           -0.16761257586823985,
           -0.14678548572808675,
           -0.15591380371433472,
           -0.13664107143963158,
           -0.12338775937395688,
           -0.14013810188091372,
           -0.21675975288495178,
           -0.3093985421801002,
           -0.054675362888551474
          ],
          [
           0.31240352864278165,
           0.25703402879037546,
           0.27501946272506234,
           0.09965315174797518,
           0.13827915433980054,
           1,
           -0.12453661253642924,
           0.6262482035307019,
           0.18505588956804017,
           -0.11322410779207313,
           0.16093998787632127,
           0.03591280492139984,
           0.1347836906829484,
           -0.09231585122781724,
           0.3134811899563865,
           0.1997328991375988,
           0.6863562279670903,
           0.1649203625549999,
           0.25222588599027096,
           0.30603382628105213,
           0.25983596109476603,
           0.3075005594020513,
           0.27491837666374896,
           0.19590766409637453,
           0.18199537765350202,
           -0.07609256632752741,
           -0.22092053147332455
          ],
          [
           -0.015408934907946542,
           -0.0006415970909318874,
           0.00983017048795088,
           0.10489556238821196,
           -0.11940806394673244,
           -0.12453661253642924,
           1,
           -0.21337138454897003,
           -0.08275953031117891,
           0.04450223093068833,
           -0.19592298515269488,
           -0.1753452856856438,
           -0.20898194834689246,
           -0.17516003910427558,
           -0.11969596474291476,
           -0.22376924195060804,
           -0.24827342942601366,
           -0.23940114723374156,
           -0.13078321966345252,
           -0.13377829794990395,
           -0.1306963702957073,
           -0.13411531066679763,
           -0.1206281264887342,
           -0.11336051371124217,
           -0.15616662654429764,
           -0.20813502373100043,
           0.04960111156997645
          ],
          [
           0.03751082235503383,
           0.0152761646534061,
           -0.007097739082524062,
           -0.20993747670937166,
           -0.010023424232377266,
           0.6262482035307019,
           -0.21337138454897003,
           1,
           0.31383693997649326,
           -0.21396472327303867,
           0.3275120315250016,
           0.2029519825079043,
           0.32883825601250805,
           0.06540241188334797,
           0.47114640996893287,
           0.43312919170124414,
           0.8057427035479279,
           0.4280056499858903,
           0.45558389727503873,
           0.49460560051579233,
           0.4629086135536704,
           0.49517879405012294,
           0.4498779987450724,
           0.35535612611369993,
           0.41218811334102406,
           0.2941278678705898,
           -0.34329927326628085
          ],
          [
           0.01463203446149708,
           0.00641902316874341,
           -0.033267172188863256,
           -0.09953842443039664,
           0.013411075817111644,
           0.18505588956804017,
           -0.08275953031117891,
           0.31383693997649326,
           1,
           0.10748488825688468,
           0.0973415399411386,
           0.05827817326944552,
           0.0936318683028514,
           0.030148771057459372,
           0.13051894731953909,
           0.1259528019197977,
           0.2265266002222081,
           0.13344476304923808,
           0.13337961487172934,
           0.14590924114694018,
           0.13801970383936216,
           0.14663855405411585,
           0.12690637000734628,
           0.10682881679467152,
           0.12227608682968288,
           0.11238544775204158,
           -0.12400432337981193
          ],
          [
           0.23671928998842567,
           0.2547174812600831,
           0.17059318044626076,
           0.13486240198948174,
           0.0005857794975801254,
           -0.11322410779207313,
           0.04450223093068833,
           -0.21396472327303867,
           0.10748488825688468,
           1,
           -0.0032058334625654434,
           -0.021607516228662197,
           -0.022086364810003846,
           -0.012383703798790684,
           0.029356225096311594,
           -0.03271628933289654,
           -0.19154686893242734,
           -0.13668183262016573,
           0.012750974950413965,
           0.025330181516522367,
           0.01990264545318633,
           0.03100043589331761,
           0.022913589921973995,
           -0.02959552543612068,
           -0.0692363416843268,
           -0.09635677668311057,
           0.06381363244231217
          ],
          [
           0.209242329458222,
           0.20886899241538232,
           0.06489373261168602,
           -0.19780249731818325,
           -0.30916524454657346,
           0.16093998787632127,
           -0.19592298515269488,
           0.3275120315250016,
           0.0973415399411386,
           -0.0032058334625654434,
           1,
           0.7500861920923868,
           0.6701624903760868,
           0.6917493834250368,
           0.29680663298207544,
           0.49111973716567636,
           0.3298560722777744,
           0.43569810712056734,
           0.34699121843121294,
           0.35283171765118765,
           0.3278736481660651,
           0.34113441599983224,
           0.2918261376217425,
           0.2749866960265968,
           0.3914306220188964,
           0.33660377245296047,
           0.03404338769211894
          ],
          [
           0.15527447686702942,
           0.14233712046800298,
           -0.00949089123136367,
           -0.25283176438506,
           -0.3327072214178059,
           0.03591280492139984,
           -0.1753452856856438,
           0.2029519825079043,
           0.05827817326944552,
           -0.021607516228662197,
           0.7500861920923868,
           1,
           0.8311350812467404,
           0.7400150926373711,
           0.21442639597117835,
           0.5318456761263882,
           0.24535077274178654,
           0.4579499908346569,
           0.3605553292502005,
           0.3246233701182813,
           0.332704705780136,
           0.31352654791829265,
           0.25440905086843935,
           0.2936055622323107,
           0.45423179784675666,
           0.3591119099821168,
           0.047082183574489525
          ],
          [
           0.26034365660465547,
           0.23913679693689285,
           0.05611577929356039,
           -0.0743792311148672,
           -0.33900111934641386,
           0.1347836906829484,
           -0.20898194834689246,
           0.32883825601250805,
           0.0936318683028514,
           -0.022086364810003846,
           0.6701624903760868,
           0.8311350812467404,
           1,
           0.4098613232312418,
           0.3485139044691912,
           0.6629799739308688,
           0.3780899841065429,
           0.4987495641949375,
           0.4971528995221761,
           0.4807203463019633,
           0.4605010897951189,
           0.44669010355551386,
           0.3802261504701839,
           0.4053821075627024,
           0.5544621747911658,
           0.36498570344777115,
           0.018884452733477167
          ],
          [
           -0.049500474417876195,
           -0.04506964711134055,
           -0.1237268580749216,
           -0.5095185764622988,
           -0.28171112484045563,
           -0.09231585122781724,
           -0.17516003910427558,
           0.06540241188334797,
           0.030148771057459372,
           -0.012383703798790684,
           0.6917493834250368,
           0.7400150926373711,
           0.4098613232312418,
           1,
           0.047276955053973654,
           0.2686812681481278,
           0.04571676002774725,
           0.3452939237161537,
           0.08626726388110846,
           0.066850910086207,
           0.0985330950871222,
           0.07998359908331226,
           0.0708037252952641,
           0.052529427152518716,
           0.1983746744824993,
           0.35003429959255844,
           0.05447764988432686
          ],
          [
           0.4321411133467588,
           0.4418432245673372,
           0.44303904333002986,
           0.05613736244324138,
           -0.10734305217822784,
           0.3134811899563865,
           -0.11969596474291476,
           0.47114640996893287,
           0.13051894731953909,
           0.029356225096311594,
           0.29680663298207544,
           0.21442639597117835,
           0.3485139044691912,
           0.047276955053973654,
           1,
           0.55699110854063,
           0.4510695307963344,
           0.2154751712946392,
           0.6556934625995793,
           0.6909627304004928,
           0.8000066970122716,
           0.8508607938838311,
           0.9554632093130921,
           0.39080974125752677,
           0.39816057773054436,
           0.1526633314585721,
           -0.22827163566772316
          ],
          [
           0.29076333641360985,
           0.2740151551454057,
           0.03984864253027872,
           -0.07950710222084241,
           -0.33336342216124065,
           0.1997328991375988,
           -0.22376924195060804,
           0.43312919170124414,
           0.1259528019197977,
           -0.03271628933289654,
           0.49111973716567636,
           0.5318456761263882,
           0.6629799739308688,
           0.2686812681481278,
           0.55699110854063,
           1,
           0.4949197259990603,
           0.7231377294554517,
           0.7989554841752573,
           0.7321694648510426,
           0.753459534820763,
           0.716778063937946,
           0.6238080859801534,
           0.6491748995493738,
           0.8570683909335908,
           0.566722042575321,
           -0.08884201609046222
          ],
          [
           0.17766930777919082,
           0.132349765743671,
           0.1309261487093241,
           -0.06181170421884982,
           -0.05385693077085981,
           0.6863562279670903,
           -0.24827342942601366,
           0.8057427035479279,
           0.2265266002222081,
           -0.19154686893242734,
           0.3298560722777744,
           0.24535077274178654,
           0.3780899841065429,
           0.04571676002774725,
           0.4510695307963344,
           0.4949197259990603,
           1,
           0.5219829765969517,
           0.445328252157769,
           0.4779135631988823,
           0.452950162768607,
           0.4758980369652836,
           0.43637453634223605,
           0.38056959637691146,
           0.4761986684043732,
           0.22775239735214384,
           -0.3194573120733306
          ],
          [
           -0.04590951831129034,
           -0.07619269598806254,
           -0.34412112373287196,
           -0.19041194775259565,
           -0.31491891719626475,
           0.1649203625549999,
           -0.23940114723374156,
           0.4280056499858903,
           0.13344476304923808,
           -0.13668183262016573,
           0.43569810712056734,
           0.4579499908346569,
           0.4987495641949375,
           0.3452939237161537,
           0.2154751712946392,
           0.7231377294554517,
           0.5219829765969517,
           1,
           0.346819302847843,
           0.2986477647744561,
           0.34319955526290324,
           0.28558711557984656,
           0.27030125909443725,
           0.35540093562180125,
           0.7513691328868839,
           0.8241941309664382,
           0.0404938695372926
          ],
          [
           0.41118211340176797,
           0.4122271480705505,
           0.29404072189823743,
           0.006394291034200919,
           -0.16761257586823985,
           0.25222588599027096,
           -0.13078321966345252,
           0.45558389727503873,
           0.13337961487172934,
           0.012750974950413965,
           0.34699121843121294,
           0.3605553292502005,
           0.4971528995221761,
           0.08626726388110846,
           0.6556934625995793,
           0.7989554841752573,
           0.445328252157769,
           0.346819302847843,
           1,
           0.9292378128275048,
           0.8233102315329074,
           0.7886905201040781,
           0.6563576726244668,
           0.7095429872233016,
           0.7066574048335491,
           0.2606801753839558,
           -0.18145580110660345
          ],
          [
           0.45675025116738593,
           0.465873086482654,
           0.39029915810497323,
           0.030179155626605197,
           -0.14678548572808675,
           0.30603382628105213,
           -0.13377829794990395,
           0.49460560051579233,
           0.14590924114694018,
           0.025330181516522367,
           0.35283171765118765,
           0.3246233701182813,
           0.4807203463019633,
           0.066850910086207,
           0.6909627304004928,
           0.7321694648510426,
           0.4779135631988823,
           0.2986477647744561,
           0.9292378128275048,
           1,
           0.8826562152606842,
           0.8493101321042061,
           0.6953177304926086,
           0.5599174647222994,
           0.6376005850327555,
           0.21192059833587218,
           -0.21144005814050829
          ],
          [
           0.40734056239113986,
           0.4142174943226284,
           0.33999012447653026,
           -0.002957271662794216,
           -0.15591380371433472,
           0.25983596109476603,
           -0.1306963702957073,
           0.4629086135536704,
           0.13801970383936216,
           0.01990264545318633,
           0.3278736481660651,
           0.332704705780136,
           0.4605010897951189,
           0.0985330950871222,
           0.8000066970122716,
           0.753459534820763,
           0.452950162768607,
           0.34319955526290324,
           0.8233102315329074,
           0.8826562152606842,
           1,
           0.9220410028544649,
           0.8740711138390822,
           0.49866168623134555,
           0.639042138779205,
           0.28048039873758634,
           -0.19170729209287019
          ],
          [
           0.45471690534517145,
           0.46376915947424247,
           0.40625761121706533,
           0.014716728409715756,
           -0.13664107143963158,
           0.3075005594020513,
           -0.13411531066679763,
           0.49517879405012294,
           0.14663855405411585,
           0.03100043589331761,
           0.34113441599983224,
           0.31352654791829265,
           0.44669010355551386,
           0.07998359908331226,
           0.8508607938838311,
           0.716778063937946,
           0.4758980369652836,
           0.28558711557984656,
           0.7886905201040781,
           0.8493101321042061,
           0.9220410028544649,
           1,
           0.8915918066046324,
           0.5111610490642802,
           0.559684386362857,
           0.214488099502357,
           -0.24306423892842163
          ],
          [
           0.39762842784173413,
           0.4048044566529021,
           0.3590472104464685,
           0.027523897510652658,
           -0.12338775937395688,
           0.27491837666374896,
           -0.1206281264887342,
           0.4498779987450724,
           0.12690637000734628,
           0.022913589921973995,
           0.2918261376217425,
           0.25440905086843935,
           0.3802261504701839,
           0.0708037252952641,
           0.9554632093130921,
           0.6238080859801534,
           0.43637453634223605,
           0.27030125909443725,
           0.6563576726244668,
           0.6953177304926086,
           0.8740711138390822,
           0.8915918066046324,
           1,
           0.3539008070291234,
           0.48035813696505325,
           0.2191879598565656,
           -0.21132385826022523
          ],
          [
           0.24318545346064308,
           0.22653823505878778,
           0.12097406474539504,
           -0.043576375212689616,
           -0.14013810188091372,
           0.19590766409637453,
           -0.11336051371124217,
           0.35535612611369993,
           0.10682881679467152,
           -0.02959552543612068,
           0.2749866960265968,
           0.2936055622323107,
           0.4053821075627024,
           0.052529427152518716,
           0.39080974125752677,
           0.6491748995493738,
           0.38056959637691146,
           0.35540093562180125,
           0.7095429872233016,
           0.5599174647222994,
           0.49866168623134555,
           0.5111610490642802,
           0.3539008070291234,
           1,
           0.5259787480116089,
           0.24534739865237315,
           -0.1306284297147939
          ],
          [
           0.18796051736918323,
           0.1643610933962347,
           -0.13221631314537374,
           -0.038690194430984495,
           -0.21675975288495178,
           0.18199537765350202,
           -0.15616662654429764,
           0.41218811334102406,
           0.12227608682968288,
           -0.0692363416843268,
           0.3914306220188964,
           0.45423179784675666,
           0.5544621747911658,
           0.1983746744824993,
           0.39816057773054436,
           0.8570683909335908,
           0.4761986684043732,
           0.7513691328868839,
           0.7066574048335491,
           0.6376005850327555,
           0.639042138779205,
           0.559684386362857,
           0.48035813696505325,
           0.5259787480116089,
           1,
           0.5588978707442593,
           -0.04036378701118994
          ],
          [
           -0.2192569701015012,
           -0.21967175999338406,
           -0.46595719903814437,
           -0.2896403776740398,
           -0.3093985421801002,
           -0.07609256632752741,
           -0.20813502373100043,
           0.2941278678705898,
           0.11238544775204158,
           -0.09635677668311057,
           0.33660377245296047,
           0.3591119099821168,
           0.36498570344777115,
           0.35003429959255844,
           0.1526633314585721,
           0.566722042575321,
           0.22775239735214384,
           0.8241941309664382,
           0.2606801753839558,
           0.21192059833587218,
           0.28048039873758634,
           0.214488099502357,
           0.2191879598565656,
           0.24534739865237315,
           0.5588978707442593,
           1,
           0.1266921247084154
          ],
          [
           0.025838025574947503,
           0.03514271762488403,
           -0.11364289550508487,
           0.09907340717713155,
           -0.054675362888551474,
           -0.22092053147332455,
           0.04960111156997645,
           -0.34329927326628085,
           -0.12400432337981193,
           0.06381363244231217,
           0.03404338769211894,
           0.047082183574489525,
           0.018884452733477167,
           0.05447764988432686,
           -0.22827163566772316,
           -0.08884201609046222,
           -0.3194573120733306,
           0.0404938695372926,
           -0.18145580110660345,
           -0.21144005814050829,
           -0.19170729209287019,
           -0.24306423892842163,
           -0.21132385826022523,
           -0.1306284297147939,
           -0.04036378701118994,
           0.1266921247084154,
           1
          ]
         ]
        }
       ],
       "layout": {
        "annotations": [
         {
          "font": {
           "color": "white"
          },
          "showarrow": false,
          "text": "1.00",
          "x": "resultId",
          "y": "resultId"
         },
         {
          "font": {
           "color": "white"
          },
          "showarrow": false,
          "text": "0.97",
          "x": "resultId",
          "y": "raceId"
         },
         {
          "font": {
           "color": "white"
          },
          "showarrow": false,
          "text": "0.72",
          "x": "resultId",
          "y": "driverId"
         },
         {
          "font": {
           "color": "white"
          },
          "showarrow": false,
          "text": "0.44",
          "x": "resultId",
          "y": "constructorId"
         },
         {
          "font": {
           "color": "white"
          },
          "showarrow": false,
          "text": "-0.02",
          "x": "resultId",
          "y": "grid"
         },
         {
          "font": {
           "color": "white"
          },
          "showarrow": false,
          "text": "0.31",
          "x": "resultId",
          "y": "race_rank"
         },
         {
          "font": {
           "color": "white"
          },
          "showarrow": false,
          "text": "-0.02",
          "x": "resultId",
          "y": "statusId"
         },
         {
          "font": {
           "color": "white"
          },
          "showarrow": false,
          "text": "0.04",
          "x": "resultId",
          "y": "year"
         },
         {
          "font": {
           "color": "white"
          },
          "showarrow": false,
          "text": "0.01",
          "x": "resultId",
          "y": "round"
         },
         {
          "font": {
           "color": "white"
          },
          "showarrow": false,
          "text": "0.24",
          "x": "resultId",
          "y": "circuitId"
         },
         {
          "font": {
           "color": "white"
          },
          "showarrow": false,
          "text": "0.21",
          "x": "resultId",
          "y": "constructor_is_active"
         },
         {
          "font": {
           "color": "white"
          },
          "showarrow": false,
          "text": "0.16",
          "x": "resultId",
          "y": "constructor_races_won"
         },
         {
          "font": {
           "color": "white"
          },
          "showarrow": false,
          "text": "0.26",
          "x": "resultId",
          "y": "constructor_avg_point"
         },
         {
          "font": {
           "color": "white"
          },
          "showarrow": false,
          "text": "-0.05",
          "x": "resultId",
          "y": "constructor_times_in_top_10"
         },
         {
          "font": {
           "color": "white"
          },
          "showarrow": false,
          "text": "0.43",
          "x": "resultId",
          "y": "driver_is_active"
         },
         {
          "font": {
           "color": "white"
          },
          "showarrow": false,
          "text": "0.29",
          "x": "resultId",
          "y": "driver_avg_point"
         },
         {
          "font": {
           "color": "white"
          },
          "showarrow": false,
          "text": "0.18",
          "x": "resultId",
          "y": "driver_avg_speed"
         },
         {
          "font": {
           "color": "white"
          },
          "showarrow": false,
          "text": "-0.05",
          "x": "resultId",
          "y": "race_end_bf_2019"
         },
         {
          "font": {
           "color": "white"
          },
          "showarrow": false,
          "text": "0.41",
          "x": "resultId",
          "y": "race_end_in_2019"
         },
         {
          "font": {
           "color": "white"
          },
          "showarrow": false,
          "text": "0.46",
          "x": "resultId",
          "y": "race_end_in_2020"
         },
         {
          "font": {
           "color": "white"
          },
          "showarrow": false,
          "text": "0.41",
          "x": "resultId",
          "y": "race_end_in_2021"
         },
         {
          "font": {
           "color": "white"
          },
          "showarrow": false,
          "text": "0.45",
          "x": "resultId",
          "y": "race_end_in_2022"
         },
         {
          "font": {
           "color": "white"
          },
          "showarrow": false,
          "text": "0.40",
          "x": "resultId",
          "y": "race_end_in_2023"
         },
         {
          "font": {
           "color": "white"
          },
          "showarrow": false,
          "text": "0.24",
          "x": "resultId",
          "y": "driver_most_won_circuit_id"
         },
         {
          "font": {
           "color": "white"
          },
          "showarrow": false,
          "text": "0.19",
          "x": "resultId",
          "y": "driver_nber_of_races_won"
         },
         {
          "font": {
           "color": "white"
          },
          "showarrow": false,
          "text": "-0.22",
          "x": "resultId",
          "y": "driver_nber_of_times_in_top_10"
         },
         {
          "font": {
           "color": "white"
          },
          "showarrow": false,
          "text": "0.03",
          "x": "resultId",
          "y": "age"
         },
         {
          "font": {
           "color": "white"
          },
          "showarrow": false,
          "text": "0.97",
          "x": "raceId",
          "y": "resultId"
         },
         {
          "font": {
           "color": "white"
          },
          "showarrow": false,
          "text": "1.00",
          "x": "raceId",
          "y": "raceId"
         },
         {
          "font": {
           "color": "white"
          },
          "showarrow": false,
          "text": "0.74",
          "x": "raceId",
          "y": "driverId"
         },
         {
          "font": {
           "color": "white"
          },
          "showarrow": false,
          "text": "0.44",
          "x": "raceId",
          "y": "constructorId"
         },
         {
          "font": {
           "color": "white"
          },
          "showarrow": false,
          "text": "-0.03",
          "x": "raceId",
          "y": "grid"
         },
         {
          "font": {
           "color": "white"
          },
          "showarrow": false,
          "text": "0.26",
          "x": "raceId",
          "y": "race_rank"
         },
         {
          "font": {
           "color": "white"
          },
          "showarrow": false,
          "text": "-0.00",
          "x": "raceId",
          "y": "statusId"
         },
         {
          "font": {
           "color": "white"
          },
          "showarrow": false,
          "text": "0.02",
          "x": "raceId",
          "y": "year"
         },
         {
          "font": {
           "color": "white"
          },
          "showarrow": false,
          "text": "0.01",
          "x": "raceId",
          "y": "round"
         },
         {
          "font": {
           "color": "white"
          },
          "showarrow": false,
          "text": "0.25",
          "x": "raceId",
          "y": "circuitId"
         },
         {
          "font": {
           "color": "white"
          },
          "showarrow": false,
          "text": "0.21",
          "x": "raceId",
          "y": "constructor_is_active"
         },
         {
          "font": {
           "color": "white"
          },
          "showarrow": false,
          "text": "0.14",
          "x": "raceId",
          "y": "constructor_races_won"
         },
         {
          "font": {
           "color": "white"
          },
          "showarrow": false,
          "text": "0.24",
          "x": "raceId",
          "y": "constructor_avg_point"
         },
         {
          "font": {
           "color": "white"
          },
          "showarrow": false,
          "text": "-0.05",
          "x": "raceId",
          "y": "constructor_times_in_top_10"
         },
         {
          "font": {
           "color": "white"
          },
          "showarrow": false,
          "text": "0.44",
          "x": "raceId",
          "y": "driver_is_active"
         },
         {
          "font": {
           "color": "white"
          },
          "showarrow": false,
          "text": "0.27",
          "x": "raceId",
          "y": "driver_avg_point"
         },
         {
          "font": {
           "color": "white"
          },
          "showarrow": false,
          "text": "0.13",
          "x": "raceId",
          "y": "driver_avg_speed"
         },
         {
          "font": {
           "color": "white"
          },
          "showarrow": false,
          "text": "-0.08",
          "x": "raceId",
          "y": "race_end_bf_2019"
         },
         {
          "font": {
           "color": "white"
          },
          "showarrow": false,
          "text": "0.41",
          "x": "raceId",
          "y": "race_end_in_2019"
         },
         {
          "font": {
           "color": "white"
          },
          "showarrow": false,
          "text": "0.47",
          "x": "raceId",
          "y": "race_end_in_2020"
         },
         {
          "font": {
           "color": "white"
          },
          "showarrow": false,
          "text": "0.41",
          "x": "raceId",
          "y": "race_end_in_2021"
         },
         {
          "font": {
           "color": "white"
          },
          "showarrow": false,
          "text": "0.46",
          "x": "raceId",
          "y": "race_end_in_2022"
         },
         {
          "font": {
           "color": "white"
          },
          "showarrow": false,
          "text": "0.40",
          "x": "raceId",
          "y": "race_end_in_2023"
         },
         {
          "font": {
           "color": "white"
          },
          "showarrow": false,
          "text": "0.23",
          "x": "raceId",
          "y": "driver_most_won_circuit_id"
         },
         {
          "font": {
           "color": "white"
          },
          "showarrow": false,
          "text": "0.16",
          "x": "raceId",
          "y": "driver_nber_of_races_won"
         },
         {
          "font": {
           "color": "white"
          },
          "showarrow": false,
          "text": "-0.22",
          "x": "raceId",
          "y": "driver_nber_of_times_in_top_10"
         },
         {
          "font": {
           "color": "white"
          },
          "showarrow": false,
          "text": "0.04",
          "x": "raceId",
          "y": "age"
         },
         {
          "font": {
           "color": "white"
          },
          "showarrow": false,
          "text": "0.72",
          "x": "driverId",
          "y": "resultId"
         },
         {
          "font": {
           "color": "white"
          },
          "showarrow": false,
          "text": "0.74",
          "x": "driverId",
          "y": "raceId"
         },
         {
          "font": {
           "color": "white"
          },
          "showarrow": false,
          "text": "1.00",
          "x": "driverId",
          "y": "driverId"
         },
         {
          "font": {
           "color": "white"
          },
          "showarrow": false,
          "text": "0.32",
          "x": "driverId",
          "y": "constructorId"
         },
         {
          "font": {
           "color": "white"
          },
          "showarrow": false,
          "text": "0.06",
          "x": "driverId",
          "y": "grid"
         },
         {
          "font": {
           "color": "white"
          },
          "showarrow": false,
          "text": "0.28",
          "x": "driverId",
          "y": "race_rank"
         },
         {
          "font": {
           "color": "white"
          },
          "showarrow": false,
          "text": "0.01",
          "x": "driverId",
          "y": "statusId"
         },
         {
          "font": {
           "color": "white"
          },
          "showarrow": false,
          "text": "-0.01",
          "x": "driverId",
          "y": "year"
         },
         {
          "font": {
           "color": "white"
          },
          "showarrow": false,
          "text": "-0.03",
          "x": "driverId",
          "y": "round"
         },
         {
          "font": {
           "color": "white"
          },
          "showarrow": false,
          "text": "0.17",
          "x": "driverId",
          "y": "circuitId"
         },
         {
          "font": {
           "color": "white"
          },
          "showarrow": false,
          "text": "0.06",
          "x": "driverId",
          "y": "constructor_is_active"
         },
         {
          "font": {
           "color": "white"
          },
          "showarrow": false,
          "text": "-0.01",
          "x": "driverId",
          "y": "constructor_races_won"
         },
         {
          "font": {
           "color": "white"
          },
          "showarrow": false,
          "text": "0.06",
          "x": "driverId",
          "y": "constructor_avg_point"
         },
         {
          "font": {
           "color": "white"
          },
          "showarrow": false,
          "text": "-0.12",
          "x": "driverId",
          "y": "constructor_times_in_top_10"
         },
         {
          "font": {
           "color": "white"
          },
          "showarrow": false,
          "text": "0.44",
          "x": "driverId",
          "y": "driver_is_active"
         },
         {
          "font": {
           "color": "white"
          },
          "showarrow": false,
          "text": "0.04",
          "x": "driverId",
          "y": "driver_avg_point"
         },
         {
          "font": {
           "color": "white"
          },
          "showarrow": false,
          "text": "0.13",
          "x": "driverId",
          "y": "driver_avg_speed"
         },
         {
          "font": {
           "color": "white"
          },
          "showarrow": false,
          "text": "-0.34",
          "x": "driverId",
          "y": "race_end_bf_2019"
         },
         {
          "font": {
           "color": "white"
          },
          "showarrow": false,
          "text": "0.29",
          "x": "driverId",
          "y": "race_end_in_2019"
         },
         {
          "font": {
           "color": "white"
          },
          "showarrow": false,
          "text": "0.39",
          "x": "driverId",
          "y": "race_end_in_2020"
         },
         {
          "font": {
           "color": "white"
          },
          "showarrow": false,
          "text": "0.34",
          "x": "driverId",
          "y": "race_end_in_2021"
         },
         {
          "font": {
           "color": "white"
          },
          "showarrow": false,
          "text": "0.41",
          "x": "driverId",
          "y": "race_end_in_2022"
         },
         {
          "font": {
           "color": "white"
          },
          "showarrow": false,
          "text": "0.36",
          "x": "driverId",
          "y": "race_end_in_2023"
         },
         {
          "font": {
           "color": "white"
          },
          "showarrow": false,
          "text": "0.12",
          "x": "driverId",
          "y": "driver_most_won_circuit_id"
         },
         {
          "font": {
           "color": "white"
          },
          "showarrow": false,
          "text": "-0.13",
          "x": "driverId",
          "y": "driver_nber_of_races_won"
         },
         {
          "font": {
           "color": "white"
          },
          "showarrow": false,
          "text": "-0.47",
          "x": "driverId",
          "y": "driver_nber_of_times_in_top_10"
         },
         {
          "font": {
           "color": "white"
          },
          "showarrow": false,
          "text": "-0.11",
          "x": "driverId",
          "y": "age"
         },
         {
          "font": {
           "color": "white"
          },
          "showarrow": false,
          "text": "0.44",
          "x": "constructorId",
          "y": "resultId"
         },
         {
          "font": {
           "color": "white"
          },
          "showarrow": false,
          "text": "0.44",
          "x": "constructorId",
          "y": "raceId"
         },
         {
          "font": {
           "color": "white"
          },
          "showarrow": false,
          "text": "0.32",
          "x": "constructorId",
          "y": "driverId"
         },
         {
          "font": {
           "color": "white"
          },
          "showarrow": false,
          "text": "1.00",
          "x": "constructorId",
          "y": "constructorId"
         },
         {
          "font": {
           "color": "white"
          },
          "showarrow": false,
          "text": "0.10",
          "x": "constructorId",
          "y": "grid"
         },
         {
          "font": {
           "color": "white"
          },
          "showarrow": false,
          "text": "0.10",
          "x": "constructorId",
          "y": "race_rank"
         },
         {
          "font": {
           "color": "white"
          },
          "showarrow": false,
          "text": "0.10",
          "x": "constructorId",
          "y": "statusId"
         },
         {
          "font": {
           "color": "white"
          },
          "showarrow": false,
          "text": "-0.21",
          "x": "constructorId",
          "y": "year"
         },
         {
          "font": {
           "color": "white"
          },
          "showarrow": false,
          "text": "-0.10",
          "x": "constructorId",
          "y": "round"
         },
         {
          "font": {
           "color": "white"
          },
          "showarrow": false,
          "text": "0.13",
          "x": "constructorId",
          "y": "circuitId"
         },
         {
          "font": {
           "color": "white"
          },
          "showarrow": false,
          "text": "-0.20",
          "x": "constructorId",
          "y": "constructor_is_active"
         },
         {
          "font": {
           "color": "white"
          },
          "showarrow": false,
          "text": "-0.25",
          "x": "constructorId",
          "y": "constructor_races_won"
         },
         {
          "font": {
           "color": "white"
          },
          "showarrow": false,
          "text": "-0.07",
          "x": "constructorId",
          "y": "constructor_avg_point"
         },
         {
          "font": {
           "color": "white"
          },
          "showarrow": false,
          "text": "-0.51",
          "x": "constructorId",
          "y": "constructor_times_in_top_10"
         },
         {
          "font": {
           "color": "white"
          },
          "showarrow": false,
          "text": "0.06",
          "x": "constructorId",
          "y": "driver_is_active"
         },
         {
          "font": {
           "color": "white"
          },
          "showarrow": false,
          "text": "-0.08",
          "x": "constructorId",
          "y": "driver_avg_point"
         },
         {
          "font": {
           "color": "white"
          },
          "showarrow": false,
          "text": "-0.06",
          "x": "constructorId",
          "y": "driver_avg_speed"
         },
         {
          "font": {
           "color": "white"
          },
          "showarrow": false,
          "text": "-0.19",
          "x": "constructorId",
          "y": "race_end_bf_2019"
         },
         {
          "font": {
           "color": "white"
          },
          "showarrow": false,
          "text": "0.01",
          "x": "constructorId",
          "y": "race_end_in_2019"
         },
         {
          "font": {
           "color": "white"
          },
          "showarrow": false,
          "text": "0.03",
          "x": "constructorId",
          "y": "race_end_in_2020"
         },
         {
          "font": {
           "color": "white"
          },
          "showarrow": false,
          "text": "-0.00",
          "x": "constructorId",
          "y": "race_end_in_2021"
         },
         {
          "font": {
           "color": "white"
          },
          "showarrow": false,
          "text": "0.01",
          "x": "constructorId",
          "y": "race_end_in_2022"
         },
         {
          "font": {
           "color": "white"
          },
          "showarrow": false,
          "text": "0.03",
          "x": "constructorId",
          "y": "race_end_in_2023"
         },
         {
          "font": {
           "color": "white"
          },
          "showarrow": false,
          "text": "-0.04",
          "x": "constructorId",
          "y": "driver_most_won_circuit_id"
         },
         {
          "font": {
           "color": "white"
          },
          "showarrow": false,
          "text": "-0.04",
          "x": "constructorId",
          "y": "driver_nber_of_races_won"
         },
         {
          "font": {
           "color": "white"
          },
          "showarrow": false,
          "text": "-0.29",
          "x": "constructorId",
          "y": "driver_nber_of_times_in_top_10"
         },
         {
          "font": {
           "color": "white"
          },
          "showarrow": false,
          "text": "0.10",
          "x": "constructorId",
          "y": "age"
         },
         {
          "font": {
           "color": "white"
          },
          "showarrow": false,
          "text": "-0.02",
          "x": "grid",
          "y": "resultId"
         },
         {
          "font": {
           "color": "white"
          },
          "showarrow": false,
          "text": "-0.03",
          "x": "grid",
          "y": "raceId"
         },
         {
          "font": {
           "color": "white"
          },
          "showarrow": false,
          "text": "0.06",
          "x": "grid",
          "y": "driverId"
         },
         {
          "font": {
           "color": "white"
          },
          "showarrow": false,
          "text": "0.10",
          "x": "grid",
          "y": "constructorId"
         },
         {
          "font": {
           "color": "white"
          },
          "showarrow": false,
          "text": "1.00",
          "x": "grid",
          "y": "grid"
         },
         {
          "font": {
           "color": "white"
          },
          "showarrow": false,
          "text": "0.14",
          "x": "grid",
          "y": "race_rank"
         },
         {
          "font": {
           "color": "white"
          },
          "showarrow": false,
          "text": "-0.12",
          "x": "grid",
          "y": "statusId"
         },
         {
          "font": {
           "color": "white"
          },
          "showarrow": false,
          "text": "-0.01",
          "x": "grid",
          "y": "year"
         },
         {
          "font": {
           "color": "white"
          },
          "showarrow": false,
          "text": "0.01",
          "x": "grid",
          "y": "round"
         },
         {
          "font": {
           "color": "white"
          },
          "showarrow": false,
          "text": "0.00",
          "x": "grid",
          "y": "circuitId"
         },
         {
          "font": {
           "color": "white"
          },
          "showarrow": false,
          "text": "-0.31",
          "x": "grid",
          "y": "constructor_is_active"
         },
         {
          "font": {
           "color": "white"
          },
          "showarrow": false,
          "text": "-0.33",
          "x": "grid",
          "y": "constructor_races_won"
         },
         {
          "font": {
           "color": "white"
          },
          "showarrow": false,
          "text": "-0.34",
          "x": "grid",
          "y": "constructor_avg_point"
         },
         {
          "font": {
           "color": "white"
          },
          "showarrow": false,
          "text": "-0.28",
          "x": "grid",
          "y": "constructor_times_in_top_10"
         },
         {
          "font": {
           "color": "white"
          },
          "showarrow": false,
          "text": "-0.11",
          "x": "grid",
          "y": "driver_is_active"
         },
         {
          "font": {
           "color": "white"
          },
          "showarrow": false,
          "text": "-0.33",
          "x": "grid",
          "y": "driver_avg_point"
         },
         {
          "font": {
           "color": "white"
          },
          "showarrow": false,
          "text": "-0.05",
          "x": "grid",
          "y": "driver_avg_speed"
         },
         {
          "font": {
           "color": "white"
          },
          "showarrow": false,
          "text": "-0.31",
          "x": "grid",
          "y": "race_end_bf_2019"
         },
         {
          "font": {
           "color": "white"
          },
          "showarrow": false,
          "text": "-0.17",
          "x": "grid",
          "y": "race_end_in_2019"
         },
         {
          "font": {
           "color": "white"
          },
          "showarrow": false,
          "text": "-0.15",
          "x": "grid",
          "y": "race_end_in_2020"
         },
         {
          "font": {
           "color": "white"
          },
          "showarrow": false,
          "text": "-0.16",
          "x": "grid",
          "y": "race_end_in_2021"
         },
         {
          "font": {
           "color": "white"
          },
          "showarrow": false,
          "text": "-0.14",
          "x": "grid",
          "y": "race_end_in_2022"
         },
         {
          "font": {
           "color": "white"
          },
          "showarrow": false,
          "text": "-0.12",
          "x": "grid",
          "y": "race_end_in_2023"
         },
         {
          "font": {
           "color": "white"
          },
          "showarrow": false,
          "text": "-0.14",
          "x": "grid",
          "y": "driver_most_won_circuit_id"
         },
         {
          "font": {
           "color": "white"
          },
          "showarrow": false,
          "text": "-0.22",
          "x": "grid",
          "y": "driver_nber_of_races_won"
         },
         {
          "font": {
           "color": "white"
          },
          "showarrow": false,
          "text": "-0.31",
          "x": "grid",
          "y": "driver_nber_of_times_in_top_10"
         },
         {
          "font": {
           "color": "white"
          },
          "showarrow": false,
          "text": "-0.05",
          "x": "grid",
          "y": "age"
         },
         {
          "font": {
           "color": "white"
          },
          "showarrow": false,
          "text": "0.31",
          "x": "race_rank",
          "y": "resultId"
         },
         {
          "font": {
           "color": "white"
          },
          "showarrow": false,
          "text": "0.26",
          "x": "race_rank",
          "y": "raceId"
         },
         {
          "font": {
           "color": "white"
          },
          "showarrow": false,
          "text": "0.28",
          "x": "race_rank",
          "y": "driverId"
         },
         {
          "font": {
           "color": "white"
          },
          "showarrow": false,
          "text": "0.10",
          "x": "race_rank",
          "y": "constructorId"
         },
         {
          "font": {
           "color": "white"
          },
          "showarrow": false,
          "text": "0.14",
          "x": "race_rank",
          "y": "grid"
         },
         {
          "font": {
           "color": "white"
          },
          "showarrow": false,
          "text": "1.00",
          "x": "race_rank",
          "y": "race_rank"
         },
         {
          "font": {
           "color": "white"
          },
          "showarrow": false,
          "text": "-0.12",
          "x": "race_rank",
          "y": "statusId"
         },
         {
          "font": {
           "color": "white"
          },
          "showarrow": false,
          "text": "0.63",
          "x": "race_rank",
          "y": "year"
         },
         {
          "font": {
           "color": "white"
          },
          "showarrow": false,
          "text": "0.19",
          "x": "race_rank",
          "y": "round"
         },
         {
          "font": {
           "color": "white"
          },
          "showarrow": false,
          "text": "-0.11",
          "x": "race_rank",
          "y": "circuitId"
         },
         {
          "font": {
           "color": "white"
          },
          "showarrow": false,
          "text": "0.16",
          "x": "race_rank",
          "y": "constructor_is_active"
         },
         {
          "font": {
           "color": "white"
          },
          "showarrow": false,
          "text": "0.04",
          "x": "race_rank",
          "y": "constructor_races_won"
         },
         {
          "font": {
           "color": "white"
          },
          "showarrow": false,
          "text": "0.13",
          "x": "race_rank",
          "y": "constructor_avg_point"
         },
         {
          "font": {
           "color": "white"
          },
          "showarrow": false,
          "text": "-0.09",
          "x": "race_rank",
          "y": "constructor_times_in_top_10"
         },
         {
          "font": {
           "color": "white"
          },
          "showarrow": false,
          "text": "0.31",
          "x": "race_rank",
          "y": "driver_is_active"
         },
         {
          "font": {
           "color": "white"
          },
          "showarrow": false,
          "text": "0.20",
          "x": "race_rank",
          "y": "driver_avg_point"
         },
         {
          "font": {
           "color": "white"
          },
          "showarrow": false,
          "text": "0.69",
          "x": "race_rank",
          "y": "driver_avg_speed"
         },
         {
          "font": {
           "color": "white"
          },
          "showarrow": false,
          "text": "0.16",
          "x": "race_rank",
          "y": "race_end_bf_2019"
         },
         {
          "font": {
           "color": "white"
          },
          "showarrow": false,
          "text": "0.25",
          "x": "race_rank",
          "y": "race_end_in_2019"
         },
         {
          "font": {
           "color": "white"
          },
          "showarrow": false,
          "text": "0.31",
          "x": "race_rank",
          "y": "race_end_in_2020"
         },
         {
          "font": {
           "color": "white"
          },
          "showarrow": false,
          "text": "0.26",
          "x": "race_rank",
          "y": "race_end_in_2021"
         },
         {
          "font": {
           "color": "white"
          },
          "showarrow": false,
          "text": "0.31",
          "x": "race_rank",
          "y": "race_end_in_2022"
         },
         {
          "font": {
           "color": "white"
          },
          "showarrow": false,
          "text": "0.27",
          "x": "race_rank",
          "y": "race_end_in_2023"
         },
         {
          "font": {
           "color": "white"
          },
          "showarrow": false,
          "text": "0.20",
          "x": "race_rank",
          "y": "driver_most_won_circuit_id"
         },
         {
          "font": {
           "color": "white"
          },
          "showarrow": false,
          "text": "0.18",
          "x": "race_rank",
          "y": "driver_nber_of_races_won"
         },
         {
          "font": {
           "color": "white"
          },
          "showarrow": false,
          "text": "-0.08",
          "x": "race_rank",
          "y": "driver_nber_of_times_in_top_10"
         },
         {
          "font": {
           "color": "white"
          },
          "showarrow": false,
          "text": "-0.22",
          "x": "race_rank",
          "y": "age"
         },
         {
          "font": {
           "color": "white"
          },
          "showarrow": false,
          "text": "-0.02",
          "x": "statusId",
          "y": "resultId"
         },
         {
          "font": {
           "color": "white"
          },
          "showarrow": false,
          "text": "-0.00",
          "x": "statusId",
          "y": "raceId"
         },
         {
          "font": {
           "color": "white"
          },
          "showarrow": false,
          "text": "0.01",
          "x": "statusId",
          "y": "driverId"
         },
         {
          "font": {
           "color": "white"
          },
          "showarrow": false,
          "text": "0.10",
          "x": "statusId",
          "y": "constructorId"
         },
         {
          "font": {
           "color": "white"
          },
          "showarrow": false,
          "text": "-0.12",
          "x": "statusId",
          "y": "grid"
         },
         {
          "font": {
           "color": "white"
          },
          "showarrow": false,
          "text": "-0.12",
          "x": "statusId",
          "y": "race_rank"
         },
         {
          "font": {
           "color": "white"
          },
          "showarrow": false,
          "text": "1.00",
          "x": "statusId",
          "y": "statusId"
         },
         {
          "font": {
           "color": "white"
          },
          "showarrow": false,
          "text": "-0.21",
          "x": "statusId",
          "y": "year"
         },
         {
          "font": {
           "color": "white"
          },
          "showarrow": false,
          "text": "-0.08",
          "x": "statusId",
          "y": "round"
         },
         {
          "font": {
           "color": "white"
          },
          "showarrow": false,
          "text": "0.04",
          "x": "statusId",
          "y": "circuitId"
         },
         {
          "font": {
           "color": "white"
          },
          "showarrow": false,
          "text": "-0.20",
          "x": "statusId",
          "y": "constructor_is_active"
         },
         {
          "font": {
           "color": "white"
          },
          "showarrow": false,
          "text": "-0.18",
          "x": "statusId",
          "y": "constructor_races_won"
         },
         {
          "font": {
           "color": "white"
          },
          "showarrow": false,
          "text": "-0.21",
          "x": "statusId",
          "y": "constructor_avg_point"
         },
         {
          "font": {
           "color": "white"
          },
          "showarrow": false,
          "text": "-0.18",
          "x": "statusId",
          "y": "constructor_times_in_top_10"
         },
         {
          "font": {
           "color": "white"
          },
          "showarrow": false,
          "text": "-0.12",
          "x": "statusId",
          "y": "driver_is_active"
         },
         {
          "font": {
           "color": "white"
          },
          "showarrow": false,
          "text": "-0.22",
          "x": "statusId",
          "y": "driver_avg_point"
         },
         {
          "font": {
           "color": "white"
          },
          "showarrow": false,
          "text": "-0.25",
          "x": "statusId",
          "y": "driver_avg_speed"
         },
         {
          "font": {
           "color": "white"
          },
          "showarrow": false,
          "text": "-0.24",
          "x": "statusId",
          "y": "race_end_bf_2019"
         },
         {
          "font": {
           "color": "white"
          },
          "showarrow": false,
          "text": "-0.13",
          "x": "statusId",
          "y": "race_end_in_2019"
         },
         {
          "font": {
           "color": "white"
          },
          "showarrow": false,
          "text": "-0.13",
          "x": "statusId",
          "y": "race_end_in_2020"
         },
         {
          "font": {
           "color": "white"
          },
          "showarrow": false,
          "text": "-0.13",
          "x": "statusId",
          "y": "race_end_in_2021"
         },
         {
          "font": {
           "color": "white"
          },
          "showarrow": false,
          "text": "-0.13",
          "x": "statusId",
          "y": "race_end_in_2022"
         },
         {
          "font": {
           "color": "white"
          },
          "showarrow": false,
          "text": "-0.12",
          "x": "statusId",
          "y": "race_end_in_2023"
         },
         {
          "font": {
           "color": "white"
          },
          "showarrow": false,
          "text": "-0.11",
          "x": "statusId",
          "y": "driver_most_won_circuit_id"
         },
         {
          "font": {
           "color": "white"
          },
          "showarrow": false,
          "text": "-0.16",
          "x": "statusId",
          "y": "driver_nber_of_races_won"
         },
         {
          "font": {
           "color": "white"
          },
          "showarrow": false,
          "text": "-0.21",
          "x": "statusId",
          "y": "driver_nber_of_times_in_top_10"
         },
         {
          "font": {
           "color": "white"
          },
          "showarrow": false,
          "text": "0.05",
          "x": "statusId",
          "y": "age"
         },
         {
          "font": {
           "color": "white"
          },
          "showarrow": false,
          "text": "0.04",
          "x": "year",
          "y": "resultId"
         },
         {
          "font": {
           "color": "white"
          },
          "showarrow": false,
          "text": "0.02",
          "x": "year",
          "y": "raceId"
         },
         {
          "font": {
           "color": "white"
          },
          "showarrow": false,
          "text": "-0.01",
          "x": "year",
          "y": "driverId"
         },
         {
          "font": {
           "color": "white"
          },
          "showarrow": false,
          "text": "-0.21",
          "x": "year",
          "y": "constructorId"
         },
         {
          "font": {
           "color": "white"
          },
          "showarrow": false,
          "text": "-0.01",
          "x": "year",
          "y": "grid"
         },
         {
          "font": {
           "color": "white"
          },
          "showarrow": false,
          "text": "0.63",
          "x": "year",
          "y": "race_rank"
         },
         {
          "font": {
           "color": "white"
          },
          "showarrow": false,
          "text": "-0.21",
          "x": "year",
          "y": "statusId"
         },
         {
          "font": {
           "color": "white"
          },
          "showarrow": false,
          "text": "1.00",
          "x": "year",
          "y": "year"
         },
         {
          "font": {
           "color": "white"
          },
          "showarrow": false,
          "text": "0.31",
          "x": "year",
          "y": "round"
         },
         {
          "font": {
           "color": "white"
          },
          "showarrow": false,
          "text": "-0.21",
          "x": "year",
          "y": "circuitId"
         },
         {
          "font": {
           "color": "white"
          },
          "showarrow": false,
          "text": "0.33",
          "x": "year",
          "y": "constructor_is_active"
         },
         {
          "font": {
           "color": "white"
          },
          "showarrow": false,
          "text": "0.20",
          "x": "year",
          "y": "constructor_races_won"
         },
         {
          "font": {
           "color": "white"
          },
          "showarrow": false,
          "text": "0.33",
          "x": "year",
          "y": "constructor_avg_point"
         },
         {
          "font": {
           "color": "white"
          },
          "showarrow": false,
          "text": "0.07",
          "x": "year",
          "y": "constructor_times_in_top_10"
         },
         {
          "font": {
           "color": "white"
          },
          "showarrow": false,
          "text": "0.47",
          "x": "year",
          "y": "driver_is_active"
         },
         {
          "font": {
           "color": "white"
          },
          "showarrow": false,
          "text": "0.43",
          "x": "year",
          "y": "driver_avg_point"
         },
         {
          "font": {
           "color": "white"
          },
          "showarrow": false,
          "text": "0.81",
          "x": "year",
          "y": "driver_avg_speed"
         },
         {
          "font": {
           "color": "white"
          },
          "showarrow": false,
          "text": "0.43",
          "x": "year",
          "y": "race_end_bf_2019"
         },
         {
          "font": {
           "color": "white"
          },
          "showarrow": false,
          "text": "0.46",
          "x": "year",
          "y": "race_end_in_2019"
         },
         {
          "font": {
           "color": "white"
          },
          "showarrow": false,
          "text": "0.49",
          "x": "year",
          "y": "race_end_in_2020"
         },
         {
          "font": {
           "color": "white"
          },
          "showarrow": false,
          "text": "0.46",
          "x": "year",
          "y": "race_end_in_2021"
         },
         {
          "font": {
           "color": "white"
          },
          "showarrow": false,
          "text": "0.50",
          "x": "year",
          "y": "race_end_in_2022"
         },
         {
          "font": {
           "color": "white"
          },
          "showarrow": false,
          "text": "0.45",
          "x": "year",
          "y": "race_end_in_2023"
         },
         {
          "font": {
           "color": "white"
          },
          "showarrow": false,
          "text": "0.36",
          "x": "year",
          "y": "driver_most_won_circuit_id"
         },
         {
          "font": {
           "color": "white"
          },
          "showarrow": false,
          "text": "0.41",
          "x": "year",
          "y": "driver_nber_of_races_won"
         },
         {
          "font": {
           "color": "white"
          },
          "showarrow": false,
          "text": "0.29",
          "x": "year",
          "y": "driver_nber_of_times_in_top_10"
         },
         {
          "font": {
           "color": "white"
          },
          "showarrow": false,
          "text": "-0.34",
          "x": "year",
          "y": "age"
         },
         {
          "font": {
           "color": "white"
          },
          "showarrow": false,
          "text": "0.01",
          "x": "round",
          "y": "resultId"
         },
         {
          "font": {
           "color": "white"
          },
          "showarrow": false,
          "text": "0.01",
          "x": "round",
          "y": "raceId"
         },
         {
          "font": {
           "color": "white"
          },
          "showarrow": false,
          "text": "-0.03",
          "x": "round",
          "y": "driverId"
         },
         {
          "font": {
           "color": "white"
          },
          "showarrow": false,
          "text": "-0.10",
          "x": "round",
          "y": "constructorId"
         },
         {
          "font": {
           "color": "white"
          },
          "showarrow": false,
          "text": "0.01",
          "x": "round",
          "y": "grid"
         },
         {
          "font": {
           "color": "white"
          },
          "showarrow": false,
          "text": "0.19",
          "x": "round",
          "y": "race_rank"
         },
         {
          "font": {
           "color": "white"
          },
          "showarrow": false,
          "text": "-0.08",
          "x": "round",
          "y": "statusId"
         },
         {
          "font": {
           "color": "white"
          },
          "showarrow": false,
          "text": "0.31",
          "x": "round",
          "y": "year"
         },
         {
          "font": {
           "color": "white"
          },
          "showarrow": false,
          "text": "1.00",
          "x": "round",
          "y": "round"
         },
         {
          "font": {
           "color": "white"
          },
          "showarrow": false,
          "text": "0.11",
          "x": "round",
          "y": "circuitId"
         },
         {
          "font": {
           "color": "white"
          },
          "showarrow": false,
          "text": "0.10",
          "x": "round",
          "y": "constructor_is_active"
         },
         {
          "font": {
           "color": "white"
          },
          "showarrow": false,
          "text": "0.06",
          "x": "round",
          "y": "constructor_races_won"
         },
         {
          "font": {
           "color": "white"
          },
          "showarrow": false,
          "text": "0.09",
          "x": "round",
          "y": "constructor_avg_point"
         },
         {
          "font": {
           "color": "white"
          },
          "showarrow": false,
          "text": "0.03",
          "x": "round",
          "y": "constructor_times_in_top_10"
         },
         {
          "font": {
           "color": "white"
          },
          "showarrow": false,
          "text": "0.13",
          "x": "round",
          "y": "driver_is_active"
         },
         {
          "font": {
           "color": "white"
          },
          "showarrow": false,
          "text": "0.13",
          "x": "round",
          "y": "driver_avg_point"
         },
         {
          "font": {
           "color": "white"
          },
          "showarrow": false,
          "text": "0.23",
          "x": "round",
          "y": "driver_avg_speed"
         },
         {
          "font": {
           "color": "white"
          },
          "showarrow": false,
          "text": "0.13",
          "x": "round",
          "y": "race_end_bf_2019"
         },
         {
          "font": {
           "color": "white"
          },
          "showarrow": false,
          "text": "0.13",
          "x": "round",
          "y": "race_end_in_2019"
         },
         {
          "font": {
           "color": "white"
          },
          "showarrow": false,
          "text": "0.15",
          "x": "round",
          "y": "race_end_in_2020"
         },
         {
          "font": {
           "color": "white"
          },
          "showarrow": false,
          "text": "0.14",
          "x": "round",
          "y": "race_end_in_2021"
         },
         {
          "font": {
           "color": "white"
          },
          "showarrow": false,
          "text": "0.15",
          "x": "round",
          "y": "race_end_in_2022"
         },
         {
          "font": {
           "color": "white"
          },
          "showarrow": false,
          "text": "0.13",
          "x": "round",
          "y": "race_end_in_2023"
         },
         {
          "font": {
           "color": "white"
          },
          "showarrow": false,
          "text": "0.11",
          "x": "round",
          "y": "driver_most_won_circuit_id"
         },
         {
          "font": {
           "color": "white"
          },
          "showarrow": false,
          "text": "0.12",
          "x": "round",
          "y": "driver_nber_of_races_won"
         },
         {
          "font": {
           "color": "white"
          },
          "showarrow": false,
          "text": "0.11",
          "x": "round",
          "y": "driver_nber_of_times_in_top_10"
         },
         {
          "font": {
           "color": "white"
          },
          "showarrow": false,
          "text": "-0.12",
          "x": "round",
          "y": "age"
         },
         {
          "font": {
           "color": "white"
          },
          "showarrow": false,
          "text": "0.24",
          "x": "circuitId",
          "y": "resultId"
         },
         {
          "font": {
           "color": "white"
          },
          "showarrow": false,
          "text": "0.25",
          "x": "circuitId",
          "y": "raceId"
         },
         {
          "font": {
           "color": "white"
          },
          "showarrow": false,
          "text": "0.17",
          "x": "circuitId",
          "y": "driverId"
         },
         {
          "font": {
           "color": "white"
          },
          "showarrow": false,
          "text": "0.13",
          "x": "circuitId",
          "y": "constructorId"
         },
         {
          "font": {
           "color": "white"
          },
          "showarrow": false,
          "text": "0.00",
          "x": "circuitId",
          "y": "grid"
         },
         {
          "font": {
           "color": "white"
          },
          "showarrow": false,
          "text": "-0.11",
          "x": "circuitId",
          "y": "race_rank"
         },
         {
          "font": {
           "color": "white"
          },
          "showarrow": false,
          "text": "0.04",
          "x": "circuitId",
          "y": "statusId"
         },
         {
          "font": {
           "color": "white"
          },
          "showarrow": false,
          "text": "-0.21",
          "x": "circuitId",
          "y": "year"
         },
         {
          "font": {
           "color": "white"
          },
          "showarrow": false,
          "text": "0.11",
          "x": "circuitId",
          "y": "round"
         },
         {
          "font": {
           "color": "white"
          },
          "showarrow": false,
          "text": "1.00",
          "x": "circuitId",
          "y": "circuitId"
         },
         {
          "font": {
           "color": "white"
          },
          "showarrow": false,
          "text": "-0.00",
          "x": "circuitId",
          "y": "constructor_is_active"
         },
         {
          "font": {
           "color": "white"
          },
          "showarrow": false,
          "text": "-0.02",
          "x": "circuitId",
          "y": "constructor_races_won"
         },
         {
          "font": {
           "color": "white"
          },
          "showarrow": false,
          "text": "-0.02",
          "x": "circuitId",
          "y": "constructor_avg_point"
         },
         {
          "font": {
           "color": "white"
          },
          "showarrow": false,
          "text": "-0.01",
          "x": "circuitId",
          "y": "constructor_times_in_top_10"
         },
         {
          "font": {
           "color": "white"
          },
          "showarrow": false,
          "text": "0.03",
          "x": "circuitId",
          "y": "driver_is_active"
         },
         {
          "font": {
           "color": "white"
          },
          "showarrow": false,
          "text": "-0.03",
          "x": "circuitId",
          "y": "driver_avg_point"
         },
         {
          "font": {
           "color": "white"
          },
          "showarrow": false,
          "text": "-0.19",
          "x": "circuitId",
          "y": "driver_avg_speed"
         },
         {
          "font": {
           "color": "white"
          },
          "showarrow": false,
          "text": "-0.14",
          "x": "circuitId",
          "y": "race_end_bf_2019"
         },
         {
          "font": {
           "color": "white"
          },
          "showarrow": false,
          "text": "0.01",
          "x": "circuitId",
          "y": "race_end_in_2019"
         },
         {
          "font": {
           "color": "white"
          },
          "showarrow": false,
          "text": "0.03",
          "x": "circuitId",
          "y": "race_end_in_2020"
         },
         {
          "font": {
           "color": "white"
          },
          "showarrow": false,
          "text": "0.02",
          "x": "circuitId",
          "y": "race_end_in_2021"
         },
         {
          "font": {
           "color": "white"
          },
          "showarrow": false,
          "text": "0.03",
          "x": "circuitId",
          "y": "race_end_in_2022"
         },
         {
          "font": {
           "color": "white"
          },
          "showarrow": false,
          "text": "0.02",
          "x": "circuitId",
          "y": "race_end_in_2023"
         },
         {
          "font": {
           "color": "white"
          },
          "showarrow": false,
          "text": "-0.03",
          "x": "circuitId",
          "y": "driver_most_won_circuit_id"
         },
         {
          "font": {
           "color": "white"
          },
          "showarrow": false,
          "text": "-0.07",
          "x": "circuitId",
          "y": "driver_nber_of_races_won"
         },
         {
          "font": {
           "color": "white"
          },
          "showarrow": false,
          "text": "-0.10",
          "x": "circuitId",
          "y": "driver_nber_of_times_in_top_10"
         },
         {
          "font": {
           "color": "white"
          },
          "showarrow": false,
          "text": "0.06",
          "x": "circuitId",
          "y": "age"
         },
         {
          "font": {
           "color": "white"
          },
          "showarrow": false,
          "text": "0.21",
          "x": "constructor_is_active",
          "y": "resultId"
         },
         {
          "font": {
           "color": "white"
          },
          "showarrow": false,
          "text": "0.21",
          "x": "constructor_is_active",
          "y": "raceId"
         },
         {
          "font": {
           "color": "white"
          },
          "showarrow": false,
          "text": "0.06",
          "x": "constructor_is_active",
          "y": "driverId"
         },
         {
          "font": {
           "color": "white"
          },
          "showarrow": false,
          "text": "-0.20",
          "x": "constructor_is_active",
          "y": "constructorId"
         },
         {
          "font": {
           "color": "white"
          },
          "showarrow": false,
          "text": "-0.31",
          "x": "constructor_is_active",
          "y": "grid"
         },
         {
          "font": {
           "color": "white"
          },
          "showarrow": false,
          "text": "0.16",
          "x": "constructor_is_active",
          "y": "race_rank"
         },
         {
          "font": {
           "color": "white"
          },
          "showarrow": false,
          "text": "-0.20",
          "x": "constructor_is_active",
          "y": "statusId"
         },
         {
          "font": {
           "color": "white"
          },
          "showarrow": false,
          "text": "0.33",
          "x": "constructor_is_active",
          "y": "year"
         },
         {
          "font": {
           "color": "white"
          },
          "showarrow": false,
          "text": "0.10",
          "x": "constructor_is_active",
          "y": "round"
         },
         {
          "font": {
           "color": "white"
          },
          "showarrow": false,
          "text": "-0.00",
          "x": "constructor_is_active",
          "y": "circuitId"
         },
         {
          "font": {
           "color": "white"
          },
          "showarrow": false,
          "text": "1.00",
          "x": "constructor_is_active",
          "y": "constructor_is_active"
         },
         {
          "font": {
           "color": "white"
          },
          "showarrow": false,
          "text": "0.75",
          "x": "constructor_is_active",
          "y": "constructor_races_won"
         },
         {
          "font": {
           "color": "white"
          },
          "showarrow": false,
          "text": "0.67",
          "x": "constructor_is_active",
          "y": "constructor_avg_point"
         },
         {
          "font": {
           "color": "white"
          },
          "showarrow": false,
          "text": "0.69",
          "x": "constructor_is_active",
          "y": "constructor_times_in_top_10"
         },
         {
          "font": {
           "color": "white"
          },
          "showarrow": false,
          "text": "0.30",
          "x": "constructor_is_active",
          "y": "driver_is_active"
         },
         {
          "font": {
           "color": "white"
          },
          "showarrow": false,
          "text": "0.49",
          "x": "constructor_is_active",
          "y": "driver_avg_point"
         },
         {
          "font": {
           "color": "white"
          },
          "showarrow": false,
          "text": "0.33",
          "x": "constructor_is_active",
          "y": "driver_avg_speed"
         },
         {
          "font": {
           "color": "white"
          },
          "showarrow": false,
          "text": "0.44",
          "x": "constructor_is_active",
          "y": "race_end_bf_2019"
         },
         {
          "font": {
           "color": "white"
          },
          "showarrow": false,
          "text": "0.35",
          "x": "constructor_is_active",
          "y": "race_end_in_2019"
         },
         {
          "font": {
           "color": "white"
          },
          "showarrow": false,
          "text": "0.35",
          "x": "constructor_is_active",
          "y": "race_end_in_2020"
         },
         {
          "font": {
           "color": "white"
          },
          "showarrow": false,
          "text": "0.33",
          "x": "constructor_is_active",
          "y": "race_end_in_2021"
         },
         {
          "font": {
           "color": "white"
          },
          "showarrow": false,
          "text": "0.34",
          "x": "constructor_is_active",
          "y": "race_end_in_2022"
         },
         {
          "font": {
           "color": "white"
          },
          "showarrow": false,
          "text": "0.29",
          "x": "constructor_is_active",
          "y": "race_end_in_2023"
         },
         {
          "font": {
           "color": "white"
          },
          "showarrow": false,
          "text": "0.27",
          "x": "constructor_is_active",
          "y": "driver_most_won_circuit_id"
         },
         {
          "font": {
           "color": "white"
          },
          "showarrow": false,
          "text": "0.39",
          "x": "constructor_is_active",
          "y": "driver_nber_of_races_won"
         },
         {
          "font": {
           "color": "white"
          },
          "showarrow": false,
          "text": "0.34",
          "x": "constructor_is_active",
          "y": "driver_nber_of_times_in_top_10"
         },
         {
          "font": {
           "color": "white"
          },
          "showarrow": false,
          "text": "0.03",
          "x": "constructor_is_active",
          "y": "age"
         },
         {
          "font": {
           "color": "white"
          },
          "showarrow": false,
          "text": "0.16",
          "x": "constructor_races_won",
          "y": "resultId"
         },
         {
          "font": {
           "color": "white"
          },
          "showarrow": false,
          "text": "0.14",
          "x": "constructor_races_won",
          "y": "raceId"
         },
         {
          "font": {
           "color": "white"
          },
          "showarrow": false,
          "text": "-0.01",
          "x": "constructor_races_won",
          "y": "driverId"
         },
         {
          "font": {
           "color": "white"
          },
          "showarrow": false,
          "text": "-0.25",
          "x": "constructor_races_won",
          "y": "constructorId"
         },
         {
          "font": {
           "color": "white"
          },
          "showarrow": false,
          "text": "-0.33",
          "x": "constructor_races_won",
          "y": "grid"
         },
         {
          "font": {
           "color": "white"
          },
          "showarrow": false,
          "text": "0.04",
          "x": "constructor_races_won",
          "y": "race_rank"
         },
         {
          "font": {
           "color": "white"
          },
          "showarrow": false,
          "text": "-0.18",
          "x": "constructor_races_won",
          "y": "statusId"
         },
         {
          "font": {
           "color": "white"
          },
          "showarrow": false,
          "text": "0.20",
          "x": "constructor_races_won",
          "y": "year"
         },
         {
          "font": {
           "color": "white"
          },
          "showarrow": false,
          "text": "0.06",
          "x": "constructor_races_won",
          "y": "round"
         },
         {
          "font": {
           "color": "white"
          },
          "showarrow": false,
          "text": "-0.02",
          "x": "constructor_races_won",
          "y": "circuitId"
         },
         {
          "font": {
           "color": "white"
          },
          "showarrow": false,
          "text": "0.75",
          "x": "constructor_races_won",
          "y": "constructor_is_active"
         },
         {
          "font": {
           "color": "white"
          },
          "showarrow": false,
          "text": "1.00",
          "x": "constructor_races_won",
          "y": "constructor_races_won"
         },
         {
          "font": {
           "color": "white"
          },
          "showarrow": false,
          "text": "0.83",
          "x": "constructor_races_won",
          "y": "constructor_avg_point"
         },
         {
          "font": {
           "color": "white"
          },
          "showarrow": false,
          "text": "0.74",
          "x": "constructor_races_won",
          "y": "constructor_times_in_top_10"
         },
         {
          "font": {
           "color": "white"
          },
          "showarrow": false,
          "text": "0.21",
          "x": "constructor_races_won",
          "y": "driver_is_active"
         },
         {
          "font": {
           "color": "white"
          },
          "showarrow": false,
          "text": "0.53",
          "x": "constructor_races_won",
          "y": "driver_avg_point"
         },
         {
          "font": {
           "color": "white"
          },
          "showarrow": false,
          "text": "0.25",
          "x": "constructor_races_won",
          "y": "driver_avg_speed"
         },
         {
          "font": {
           "color": "white"
          },
          "showarrow": false,
          "text": "0.46",
          "x": "constructor_races_won",
          "y": "race_end_bf_2019"
         },
         {
          "font": {
           "color": "white"
          },
          "showarrow": false,
          "text": "0.36",
          "x": "constructor_races_won",
          "y": "race_end_in_2019"
         },
         {
          "font": {
           "color": "white"
          },
          "showarrow": false,
          "text": "0.32",
          "x": "constructor_races_won",
          "y": "race_end_in_2020"
         },
         {
          "font": {
           "color": "white"
          },
          "showarrow": false,
          "text": "0.33",
          "x": "constructor_races_won",
          "y": "race_end_in_2021"
         },
         {
          "font": {
           "color": "white"
          },
          "showarrow": false,
          "text": "0.31",
          "x": "constructor_races_won",
          "y": "race_end_in_2022"
         },
         {
          "font": {
           "color": "white"
          },
          "showarrow": false,
          "text": "0.25",
          "x": "constructor_races_won",
          "y": "race_end_in_2023"
         },
         {
          "font": {
           "color": "white"
          },
          "showarrow": false,
          "text": "0.29",
          "x": "constructor_races_won",
          "y": "driver_most_won_circuit_id"
         },
         {
          "font": {
           "color": "white"
          },
          "showarrow": false,
          "text": "0.45",
          "x": "constructor_races_won",
          "y": "driver_nber_of_races_won"
         },
         {
          "font": {
           "color": "white"
          },
          "showarrow": false,
          "text": "0.36",
          "x": "constructor_races_won",
          "y": "driver_nber_of_times_in_top_10"
         },
         {
          "font": {
           "color": "white"
          },
          "showarrow": false,
          "text": "0.05",
          "x": "constructor_races_won",
          "y": "age"
         },
         {
          "font": {
           "color": "white"
          },
          "showarrow": false,
          "text": "0.26",
          "x": "constructor_avg_point",
          "y": "resultId"
         },
         {
          "font": {
           "color": "white"
          },
          "showarrow": false,
          "text": "0.24",
          "x": "constructor_avg_point",
          "y": "raceId"
         },
         {
          "font": {
           "color": "white"
          },
          "showarrow": false,
          "text": "0.06",
          "x": "constructor_avg_point",
          "y": "driverId"
         },
         {
          "font": {
           "color": "white"
          },
          "showarrow": false,
          "text": "-0.07",
          "x": "constructor_avg_point",
          "y": "constructorId"
         },
         {
          "font": {
           "color": "white"
          },
          "showarrow": false,
          "text": "-0.34",
          "x": "constructor_avg_point",
          "y": "grid"
         },
         {
          "font": {
           "color": "white"
          },
          "showarrow": false,
          "text": "0.13",
          "x": "constructor_avg_point",
          "y": "race_rank"
         },
         {
          "font": {
           "color": "white"
          },
          "showarrow": false,
          "text": "-0.21",
          "x": "constructor_avg_point",
          "y": "statusId"
         },
         {
          "font": {
           "color": "white"
          },
          "showarrow": false,
          "text": "0.33",
          "x": "constructor_avg_point",
          "y": "year"
         },
         {
          "font": {
           "color": "white"
          },
          "showarrow": false,
          "text": "0.09",
          "x": "constructor_avg_point",
          "y": "round"
         },
         {
          "font": {
           "color": "white"
          },
          "showarrow": false,
          "text": "-0.02",
          "x": "constructor_avg_point",
          "y": "circuitId"
         },
         {
          "font": {
           "color": "white"
          },
          "showarrow": false,
          "text": "0.67",
          "x": "constructor_avg_point",
          "y": "constructor_is_active"
         },
         {
          "font": {
           "color": "white"
          },
          "showarrow": false,
          "text": "0.83",
          "x": "constructor_avg_point",
          "y": "constructor_races_won"
         },
         {
          "font": {
           "color": "white"
          },
          "showarrow": false,
          "text": "1.00",
          "x": "constructor_avg_point",
          "y": "constructor_avg_point"
         },
         {
          "font": {
           "color": "white"
          },
          "showarrow": false,
          "text": "0.41",
          "x": "constructor_avg_point",
          "y": "constructor_times_in_top_10"
         },
         {
          "font": {
           "color": "white"
          },
          "showarrow": false,
          "text": "0.35",
          "x": "constructor_avg_point",
          "y": "driver_is_active"
         },
         {
          "font": {
           "color": "white"
          },
          "showarrow": false,
          "text": "0.66",
          "x": "constructor_avg_point",
          "y": "driver_avg_point"
         },
         {
          "font": {
           "color": "white"
          },
          "showarrow": false,
          "text": "0.38",
          "x": "constructor_avg_point",
          "y": "driver_avg_speed"
         },
         {
          "font": {
           "color": "white"
          },
          "showarrow": false,
          "text": "0.50",
          "x": "constructor_avg_point",
          "y": "race_end_bf_2019"
         },
         {
          "font": {
           "color": "white"
          },
          "showarrow": false,
          "text": "0.50",
          "x": "constructor_avg_point",
          "y": "race_end_in_2019"
         },
         {
          "font": {
           "color": "white"
          },
          "showarrow": false,
          "text": "0.48",
          "x": "constructor_avg_point",
          "y": "race_end_in_2020"
         },
         {
          "font": {
           "color": "white"
          },
          "showarrow": false,
          "text": "0.46",
          "x": "constructor_avg_point",
          "y": "race_end_in_2021"
         },
         {
          "font": {
           "color": "white"
          },
          "showarrow": false,
          "text": "0.45",
          "x": "constructor_avg_point",
          "y": "race_end_in_2022"
         },
         {
          "font": {
           "color": "white"
          },
          "showarrow": false,
          "text": "0.38",
          "x": "constructor_avg_point",
          "y": "race_end_in_2023"
         },
         {
          "font": {
           "color": "white"
          },
          "showarrow": false,
          "text": "0.41",
          "x": "constructor_avg_point",
          "y": "driver_most_won_circuit_id"
         },
         {
          "font": {
           "color": "white"
          },
          "showarrow": false,
          "text": "0.55",
          "x": "constructor_avg_point",
          "y": "driver_nber_of_races_won"
         },
         {
          "font": {
           "color": "white"
          },
          "showarrow": false,
          "text": "0.36",
          "x": "constructor_avg_point",
          "y": "driver_nber_of_times_in_top_10"
         },
         {
          "font": {
           "color": "white"
          },
          "showarrow": false,
          "text": "0.02",
          "x": "constructor_avg_point",
          "y": "age"
         },
         {
          "font": {
           "color": "white"
          },
          "showarrow": false,
          "text": "-0.05",
          "x": "constructor_times_in_top_10",
          "y": "resultId"
         },
         {
          "font": {
           "color": "white"
          },
          "showarrow": false,
          "text": "-0.05",
          "x": "constructor_times_in_top_10",
          "y": "raceId"
         },
         {
          "font": {
           "color": "white"
          },
          "showarrow": false,
          "text": "-0.12",
          "x": "constructor_times_in_top_10",
          "y": "driverId"
         },
         {
          "font": {
           "color": "white"
          },
          "showarrow": false,
          "text": "-0.51",
          "x": "constructor_times_in_top_10",
          "y": "constructorId"
         },
         {
          "font": {
           "color": "white"
          },
          "showarrow": false,
          "text": "-0.28",
          "x": "constructor_times_in_top_10",
          "y": "grid"
         },
         {
          "font": {
           "color": "white"
          },
          "showarrow": false,
          "text": "-0.09",
          "x": "constructor_times_in_top_10",
          "y": "race_rank"
         },
         {
          "font": {
           "color": "white"
          },
          "showarrow": false,
          "text": "-0.18",
          "x": "constructor_times_in_top_10",
          "y": "statusId"
         },
         {
          "font": {
           "color": "white"
          },
          "showarrow": false,
          "text": "0.07",
          "x": "constructor_times_in_top_10",
          "y": "year"
         },
         {
          "font": {
           "color": "white"
          },
          "showarrow": false,
          "text": "0.03",
          "x": "constructor_times_in_top_10",
          "y": "round"
         },
         {
          "font": {
           "color": "white"
          },
          "showarrow": false,
          "text": "-0.01",
          "x": "constructor_times_in_top_10",
          "y": "circuitId"
         },
         {
          "font": {
           "color": "white"
          },
          "showarrow": false,
          "text": "0.69",
          "x": "constructor_times_in_top_10",
          "y": "constructor_is_active"
         },
         {
          "font": {
           "color": "white"
          },
          "showarrow": false,
          "text": "0.74",
          "x": "constructor_times_in_top_10",
          "y": "constructor_races_won"
         },
         {
          "font": {
           "color": "white"
          },
          "showarrow": false,
          "text": "0.41",
          "x": "constructor_times_in_top_10",
          "y": "constructor_avg_point"
         },
         {
          "font": {
           "color": "white"
          },
          "showarrow": false,
          "text": "1.00",
          "x": "constructor_times_in_top_10",
          "y": "constructor_times_in_top_10"
         },
         {
          "font": {
           "color": "white"
          },
          "showarrow": false,
          "text": "0.05",
          "x": "constructor_times_in_top_10",
          "y": "driver_is_active"
         },
         {
          "font": {
           "color": "white"
          },
          "showarrow": false,
          "text": "0.27",
          "x": "constructor_times_in_top_10",
          "y": "driver_avg_point"
         },
         {
          "font": {
           "color": "white"
          },
          "showarrow": false,
          "text": "0.05",
          "x": "constructor_times_in_top_10",
          "y": "driver_avg_speed"
         },
         {
          "font": {
           "color": "white"
          },
          "showarrow": false,
          "text": "0.35",
          "x": "constructor_times_in_top_10",
          "y": "race_end_bf_2019"
         },
         {
          "font": {
           "color": "white"
          },
          "showarrow": false,
          "text": "0.09",
          "x": "constructor_times_in_top_10",
          "y": "race_end_in_2019"
         },
         {
          "font": {
           "color": "white"
          },
          "showarrow": false,
          "text": "0.07",
          "x": "constructor_times_in_top_10",
          "y": "race_end_in_2020"
         },
         {
          "font": {
           "color": "white"
          },
          "showarrow": false,
          "text": "0.10",
          "x": "constructor_times_in_top_10",
          "y": "race_end_in_2021"
         },
         {
          "font": {
           "color": "white"
          },
          "showarrow": false,
          "text": "0.08",
          "x": "constructor_times_in_top_10",
          "y": "race_end_in_2022"
         },
         {
          "font": {
           "color": "white"
          },
          "showarrow": false,
          "text": "0.07",
          "x": "constructor_times_in_top_10",
          "y": "race_end_in_2023"
         },
         {
          "font": {
           "color": "white"
          },
          "showarrow": false,
          "text": "0.05",
          "x": "constructor_times_in_top_10",
          "y": "driver_most_won_circuit_id"
         },
         {
          "font": {
           "color": "white"
          },
          "showarrow": false,
          "text": "0.20",
          "x": "constructor_times_in_top_10",
          "y": "driver_nber_of_races_won"
         },
         {
          "font": {
           "color": "white"
          },
          "showarrow": false,
          "text": "0.35",
          "x": "constructor_times_in_top_10",
          "y": "driver_nber_of_times_in_top_10"
         },
         {
          "font": {
           "color": "white"
          },
          "showarrow": false,
          "text": "0.05",
          "x": "constructor_times_in_top_10",
          "y": "age"
         },
         {
          "font": {
           "color": "white"
          },
          "showarrow": false,
          "text": "0.43",
          "x": "driver_is_active",
          "y": "resultId"
         },
         {
          "font": {
           "color": "white"
          },
          "showarrow": false,
          "text": "0.44",
          "x": "driver_is_active",
          "y": "raceId"
         },
         {
          "font": {
           "color": "white"
          },
          "showarrow": false,
          "text": "0.44",
          "x": "driver_is_active",
          "y": "driverId"
         },
         {
          "font": {
           "color": "white"
          },
          "showarrow": false,
          "text": "0.06",
          "x": "driver_is_active",
          "y": "constructorId"
         },
         {
          "font": {
           "color": "white"
          },
          "showarrow": false,
          "text": "-0.11",
          "x": "driver_is_active",
          "y": "grid"
         },
         {
          "font": {
           "color": "white"
          },
          "showarrow": false,
          "text": "0.31",
          "x": "driver_is_active",
          "y": "race_rank"
         },
         {
          "font": {
           "color": "white"
          },
          "showarrow": false,
          "text": "-0.12",
          "x": "driver_is_active",
          "y": "statusId"
         },
         {
          "font": {
           "color": "white"
          },
          "showarrow": false,
          "text": "0.47",
          "x": "driver_is_active",
          "y": "year"
         },
         {
          "font": {
           "color": "white"
          },
          "showarrow": false,
          "text": "0.13",
          "x": "driver_is_active",
          "y": "round"
         },
         {
          "font": {
           "color": "white"
          },
          "showarrow": false,
          "text": "0.03",
          "x": "driver_is_active",
          "y": "circuitId"
         },
         {
          "font": {
           "color": "white"
          },
          "showarrow": false,
          "text": "0.30",
          "x": "driver_is_active",
          "y": "constructor_is_active"
         },
         {
          "font": {
           "color": "white"
          },
          "showarrow": false,
          "text": "0.21",
          "x": "driver_is_active",
          "y": "constructor_races_won"
         },
         {
          "font": {
           "color": "white"
          },
          "showarrow": false,
          "text": "0.35",
          "x": "driver_is_active",
          "y": "constructor_avg_point"
         },
         {
          "font": {
           "color": "white"
          },
          "showarrow": false,
          "text": "0.05",
          "x": "driver_is_active",
          "y": "constructor_times_in_top_10"
         },
         {
          "font": {
           "color": "white"
          },
          "showarrow": false,
          "text": "1.00",
          "x": "driver_is_active",
          "y": "driver_is_active"
         },
         {
          "font": {
           "color": "white"
          },
          "showarrow": false,
          "text": "0.56",
          "x": "driver_is_active",
          "y": "driver_avg_point"
         },
         {
          "font": {
           "color": "white"
          },
          "showarrow": false,
          "text": "0.45",
          "x": "driver_is_active",
          "y": "driver_avg_speed"
         },
         {
          "font": {
           "color": "white"
          },
          "showarrow": false,
          "text": "0.22",
          "x": "driver_is_active",
          "y": "race_end_bf_2019"
         },
         {
          "font": {
           "color": "white"
          },
          "showarrow": false,
          "text": "0.66",
          "x": "driver_is_active",
          "y": "race_end_in_2019"
         },
         {
          "font": {
           "color": "white"
          },
          "showarrow": false,
          "text": "0.69",
          "x": "driver_is_active",
          "y": "race_end_in_2020"
         },
         {
          "font": {
           "color": "white"
          },
          "showarrow": false,
          "text": "0.80",
          "x": "driver_is_active",
          "y": "race_end_in_2021"
         },
         {
          "font": {
           "color": "white"
          },
          "showarrow": false,
          "text": "0.85",
          "x": "driver_is_active",
          "y": "race_end_in_2022"
         },
         {
          "font": {
           "color": "white"
          },
          "showarrow": false,
          "text": "0.96",
          "x": "driver_is_active",
          "y": "race_end_in_2023"
         },
         {
          "font": {
           "color": "white"
          },
          "showarrow": false,
          "text": "0.39",
          "x": "driver_is_active",
          "y": "driver_most_won_circuit_id"
         },
         {
          "font": {
           "color": "white"
          },
          "showarrow": false,
          "text": "0.40",
          "x": "driver_is_active",
          "y": "driver_nber_of_races_won"
         },
         {
          "font": {
           "color": "white"
          },
          "showarrow": false,
          "text": "0.15",
          "x": "driver_is_active",
          "y": "driver_nber_of_times_in_top_10"
         },
         {
          "font": {
           "color": "white"
          },
          "showarrow": false,
          "text": "-0.23",
          "x": "driver_is_active",
          "y": "age"
         },
         {
          "font": {
           "color": "white"
          },
          "showarrow": false,
          "text": "0.29",
          "x": "driver_avg_point",
          "y": "resultId"
         },
         {
          "font": {
           "color": "white"
          },
          "showarrow": false,
          "text": "0.27",
          "x": "driver_avg_point",
          "y": "raceId"
         },
         {
          "font": {
           "color": "white"
          },
          "showarrow": false,
          "text": "0.04",
          "x": "driver_avg_point",
          "y": "driverId"
         },
         {
          "font": {
           "color": "white"
          },
          "showarrow": false,
          "text": "-0.08",
          "x": "driver_avg_point",
          "y": "constructorId"
         },
         {
          "font": {
           "color": "white"
          },
          "showarrow": false,
          "text": "-0.33",
          "x": "driver_avg_point",
          "y": "grid"
         },
         {
          "font": {
           "color": "white"
          },
          "showarrow": false,
          "text": "0.20",
          "x": "driver_avg_point",
          "y": "race_rank"
         },
         {
          "font": {
           "color": "white"
          },
          "showarrow": false,
          "text": "-0.22",
          "x": "driver_avg_point",
          "y": "statusId"
         },
         {
          "font": {
           "color": "white"
          },
          "showarrow": false,
          "text": "0.43",
          "x": "driver_avg_point",
          "y": "year"
         },
         {
          "font": {
           "color": "white"
          },
          "showarrow": false,
          "text": "0.13",
          "x": "driver_avg_point",
          "y": "round"
         },
         {
          "font": {
           "color": "white"
          },
          "showarrow": false,
          "text": "-0.03",
          "x": "driver_avg_point",
          "y": "circuitId"
         },
         {
          "font": {
           "color": "white"
          },
          "showarrow": false,
          "text": "0.49",
          "x": "driver_avg_point",
          "y": "constructor_is_active"
         },
         {
          "font": {
           "color": "white"
          },
          "showarrow": false,
          "text": "0.53",
          "x": "driver_avg_point",
          "y": "constructor_races_won"
         },
         {
          "font": {
           "color": "white"
          },
          "showarrow": false,
          "text": "0.66",
          "x": "driver_avg_point",
          "y": "constructor_avg_point"
         },
         {
          "font": {
           "color": "white"
          },
          "showarrow": false,
          "text": "0.27",
          "x": "driver_avg_point",
          "y": "constructor_times_in_top_10"
         },
         {
          "font": {
           "color": "white"
          },
          "showarrow": false,
          "text": "0.56",
          "x": "driver_avg_point",
          "y": "driver_is_active"
         },
         {
          "font": {
           "color": "white"
          },
          "showarrow": false,
          "text": "1.00",
          "x": "driver_avg_point",
          "y": "driver_avg_point"
         },
         {
          "font": {
           "color": "white"
          },
          "showarrow": false,
          "text": "0.49",
          "x": "driver_avg_point",
          "y": "driver_avg_speed"
         },
         {
          "font": {
           "color": "white"
          },
          "showarrow": false,
          "text": "0.72",
          "x": "driver_avg_point",
          "y": "race_end_bf_2019"
         },
         {
          "font": {
           "color": "white"
          },
          "showarrow": false,
          "text": "0.80",
          "x": "driver_avg_point",
          "y": "race_end_in_2019"
         },
         {
          "font": {
           "color": "white"
          },
          "showarrow": false,
          "text": "0.73",
          "x": "driver_avg_point",
          "y": "race_end_in_2020"
         },
         {
          "font": {
           "color": "white"
          },
          "showarrow": false,
          "text": "0.75",
          "x": "driver_avg_point",
          "y": "race_end_in_2021"
         },
         {
          "font": {
           "color": "white"
          },
          "showarrow": false,
          "text": "0.72",
          "x": "driver_avg_point",
          "y": "race_end_in_2022"
         },
         {
          "font": {
           "color": "white"
          },
          "showarrow": false,
          "text": "0.62",
          "x": "driver_avg_point",
          "y": "race_end_in_2023"
         },
         {
          "font": {
           "color": "white"
          },
          "showarrow": false,
          "text": "0.65",
          "x": "driver_avg_point",
          "y": "driver_most_won_circuit_id"
         },
         {
          "font": {
           "color": "white"
          },
          "showarrow": false,
          "text": "0.86",
          "x": "driver_avg_point",
          "y": "driver_nber_of_races_won"
         },
         {
          "font": {
           "color": "white"
          },
          "showarrow": false,
          "text": "0.57",
          "x": "driver_avg_point",
          "y": "driver_nber_of_times_in_top_10"
         },
         {
          "font": {
           "color": "white"
          },
          "showarrow": false,
          "text": "-0.09",
          "x": "driver_avg_point",
          "y": "age"
         },
         {
          "font": {
           "color": "white"
          },
          "showarrow": false,
          "text": "0.18",
          "x": "driver_avg_speed",
          "y": "resultId"
         },
         {
          "font": {
           "color": "white"
          },
          "showarrow": false,
          "text": "0.13",
          "x": "driver_avg_speed",
          "y": "raceId"
         },
         {
          "font": {
           "color": "white"
          },
          "showarrow": false,
          "text": "0.13",
          "x": "driver_avg_speed",
          "y": "driverId"
         },
         {
          "font": {
           "color": "white"
          },
          "showarrow": false,
          "text": "-0.06",
          "x": "driver_avg_speed",
          "y": "constructorId"
         },
         {
          "font": {
           "color": "white"
          },
          "showarrow": false,
          "text": "-0.05",
          "x": "driver_avg_speed",
          "y": "grid"
         },
         {
          "font": {
           "color": "white"
          },
          "showarrow": false,
          "text": "0.69",
          "x": "driver_avg_speed",
          "y": "race_rank"
         },
         {
          "font": {
           "color": "white"
          },
          "showarrow": false,
          "text": "-0.25",
          "x": "driver_avg_speed",
          "y": "statusId"
         },
         {
          "font": {
           "color": "white"
          },
          "showarrow": false,
          "text": "0.81",
          "x": "driver_avg_speed",
          "y": "year"
         },
         {
          "font": {
           "color": "white"
          },
          "showarrow": false,
          "text": "0.23",
          "x": "driver_avg_speed",
          "y": "round"
         },
         {
          "font": {
           "color": "white"
          },
          "showarrow": false,
          "text": "-0.19",
          "x": "driver_avg_speed",
          "y": "circuitId"
         },
         {
          "font": {
           "color": "white"
          },
          "showarrow": false,
          "text": "0.33",
          "x": "driver_avg_speed",
          "y": "constructor_is_active"
         },
         {
          "font": {
           "color": "white"
          },
          "showarrow": false,
          "text": "0.25",
          "x": "driver_avg_speed",
          "y": "constructor_races_won"
         },
         {
          "font": {
           "color": "white"
          },
          "showarrow": false,
          "text": "0.38",
          "x": "driver_avg_speed",
          "y": "constructor_avg_point"
         },
         {
          "font": {
           "color": "white"
          },
          "showarrow": false,
          "text": "0.05",
          "x": "driver_avg_speed",
          "y": "constructor_times_in_top_10"
         },
         {
          "font": {
           "color": "white"
          },
          "showarrow": false,
          "text": "0.45",
          "x": "driver_avg_speed",
          "y": "driver_is_active"
         },
         {
          "font": {
           "color": "white"
          },
          "showarrow": false,
          "text": "0.49",
          "x": "driver_avg_speed",
          "y": "driver_avg_point"
         },
         {
          "font": {
           "color": "white"
          },
          "showarrow": false,
          "text": "1.00",
          "x": "driver_avg_speed",
          "y": "driver_avg_speed"
         },
         {
          "font": {
           "color": "white"
          },
          "showarrow": false,
          "text": "0.52",
          "x": "driver_avg_speed",
          "y": "race_end_bf_2019"
         },
         {
          "font": {
           "color": "white"
          },
          "showarrow": false,
          "text": "0.45",
          "x": "driver_avg_speed",
          "y": "race_end_in_2019"
         },
         {
          "font": {
           "color": "white"
          },
          "showarrow": false,
          "text": "0.48",
          "x": "driver_avg_speed",
          "y": "race_end_in_2020"
         },
         {
          "font": {
           "color": "white"
          },
          "showarrow": false,
          "text": "0.45",
          "x": "driver_avg_speed",
          "y": "race_end_in_2021"
         },
         {
          "font": {
           "color": "white"
          },
          "showarrow": false,
          "text": "0.48",
          "x": "driver_avg_speed",
          "y": "race_end_in_2022"
         },
         {
          "font": {
           "color": "white"
          },
          "showarrow": false,
          "text": "0.44",
          "x": "driver_avg_speed",
          "y": "race_end_in_2023"
         },
         {
          "font": {
           "color": "white"
          },
          "showarrow": false,
          "text": "0.38",
          "x": "driver_avg_speed",
          "y": "driver_most_won_circuit_id"
         },
         {
          "font": {
           "color": "white"
          },
          "showarrow": false,
          "text": "0.48",
          "x": "driver_avg_speed",
          "y": "driver_nber_of_races_won"
         },
         {
          "font": {
           "color": "white"
          },
          "showarrow": false,
          "text": "0.23",
          "x": "driver_avg_speed",
          "y": "driver_nber_of_times_in_top_10"
         },
         {
          "font": {
           "color": "white"
          },
          "showarrow": false,
          "text": "-0.32",
          "x": "driver_avg_speed",
          "y": "age"
         },
         {
          "font": {
           "color": "white"
          },
          "showarrow": false,
          "text": "-0.05",
          "x": "race_end_bf_2019",
          "y": "resultId"
         },
         {
          "font": {
           "color": "white"
          },
          "showarrow": false,
          "text": "-0.08",
          "x": "race_end_bf_2019",
          "y": "raceId"
         },
         {
          "font": {
           "color": "white"
          },
          "showarrow": false,
          "text": "-0.34",
          "x": "race_end_bf_2019",
          "y": "driverId"
         },
         {
          "font": {
           "color": "white"
          },
          "showarrow": false,
          "text": "-0.19",
          "x": "race_end_bf_2019",
          "y": "constructorId"
         },
         {
          "font": {
           "color": "white"
          },
          "showarrow": false,
          "text": "-0.31",
          "x": "race_end_bf_2019",
          "y": "grid"
         },
         {
          "font": {
           "color": "white"
          },
          "showarrow": false,
          "text": "0.16",
          "x": "race_end_bf_2019",
          "y": "race_rank"
         },
         {
          "font": {
           "color": "white"
          },
          "showarrow": false,
          "text": "-0.24",
          "x": "race_end_bf_2019",
          "y": "statusId"
         },
         {
          "font": {
           "color": "white"
          },
          "showarrow": false,
          "text": "0.43",
          "x": "race_end_bf_2019",
          "y": "year"
         },
         {
          "font": {
           "color": "white"
          },
          "showarrow": false,
          "text": "0.13",
          "x": "race_end_bf_2019",
          "y": "round"
         },
         {
          "font": {
           "color": "white"
          },
          "showarrow": false,
          "text": "-0.14",
          "x": "race_end_bf_2019",
          "y": "circuitId"
         },
         {
          "font": {
           "color": "white"
          },
          "showarrow": false,
          "text": "0.44",
          "x": "race_end_bf_2019",
          "y": "constructor_is_active"
         },
         {
          "font": {
           "color": "white"
          },
          "showarrow": false,
          "text": "0.46",
          "x": "race_end_bf_2019",
          "y": "constructor_races_won"
         },
         {
          "font": {
           "color": "white"
          },
          "showarrow": false,
          "text": "0.50",
          "x": "race_end_bf_2019",
          "y": "constructor_avg_point"
         },
         {
          "font": {
           "color": "white"
          },
          "showarrow": false,
          "text": "0.35",
          "x": "race_end_bf_2019",
          "y": "constructor_times_in_top_10"
         },
         {
          "font": {
           "color": "white"
          },
          "showarrow": false,
          "text": "0.22",
          "x": "race_end_bf_2019",
          "y": "driver_is_active"
         },
         {
          "font": {
           "color": "white"
          },
          "showarrow": false,
          "text": "0.72",
          "x": "race_end_bf_2019",
          "y": "driver_avg_point"
         },
         {
          "font": {
           "color": "white"
          },
          "showarrow": false,
          "text": "0.52",
          "x": "race_end_bf_2019",
          "y": "driver_avg_speed"
         },
         {
          "font": {
           "color": "white"
          },
          "showarrow": false,
          "text": "1.00",
          "x": "race_end_bf_2019",
          "y": "race_end_bf_2019"
         },
         {
          "font": {
           "color": "white"
          },
          "showarrow": false,
          "text": "0.35",
          "x": "race_end_bf_2019",
          "y": "race_end_in_2019"
         },
         {
          "font": {
           "color": "white"
          },
          "showarrow": false,
          "text": "0.30",
          "x": "race_end_bf_2019",
          "y": "race_end_in_2020"
         },
         {
          "font": {
           "color": "white"
          },
          "showarrow": false,
          "text": "0.34",
          "x": "race_end_bf_2019",
          "y": "race_end_in_2021"
         },
         {
          "font": {
           "color": "white"
          },
          "showarrow": false,
          "text": "0.29",
          "x": "race_end_bf_2019",
          "y": "race_end_in_2022"
         },
         {
          "font": {
           "color": "white"
          },
          "showarrow": false,
          "text": "0.27",
          "x": "race_end_bf_2019",
          "y": "race_end_in_2023"
         },
         {
          "font": {
           "color": "white"
          },
          "showarrow": false,
          "text": "0.36",
          "x": "race_end_bf_2019",
          "y": "driver_most_won_circuit_id"
         },
         {
          "font": {
           "color": "white"
          },
          "showarrow": false,
          "text": "0.75",
          "x": "race_end_bf_2019",
          "y": "driver_nber_of_races_won"
         },
         {
          "font": {
           "color": "white"
          },
          "showarrow": false,
          "text": "0.82",
          "x": "race_end_bf_2019",
          "y": "driver_nber_of_times_in_top_10"
         },
         {
          "font": {
           "color": "white"
          },
          "showarrow": false,
          "text": "0.04",
          "x": "race_end_bf_2019",
          "y": "age"
         },
         {
          "font": {
           "color": "white"
          },
          "showarrow": false,
          "text": "0.41",
          "x": "race_end_in_2019",
          "y": "resultId"
         },
         {
          "font": {
           "color": "white"
          },
          "showarrow": false,
          "text": "0.41",
          "x": "race_end_in_2019",
          "y": "raceId"
         },
         {
          "font": {
           "color": "white"
          },
          "showarrow": false,
          "text": "0.29",
          "x": "race_end_in_2019",
          "y": "driverId"
         },
         {
          "font": {
           "color": "white"
          },
          "showarrow": false,
          "text": "0.01",
          "x": "race_end_in_2019",
          "y": "constructorId"
         },
         {
          "font": {
           "color": "white"
          },
          "showarrow": false,
          "text": "-0.17",
          "x": "race_end_in_2019",
          "y": "grid"
         },
         {
          "font": {
           "color": "white"
          },
          "showarrow": false,
          "text": "0.25",
          "x": "race_end_in_2019",
          "y": "race_rank"
         },
         {
          "font": {
           "color": "white"
          },
          "showarrow": false,
          "text": "-0.13",
          "x": "race_end_in_2019",
          "y": "statusId"
         },
         {
          "font": {
           "color": "white"
          },
          "showarrow": false,
          "text": "0.46",
          "x": "race_end_in_2019",
          "y": "year"
         },
         {
          "font": {
           "color": "white"
          },
          "showarrow": false,
          "text": "0.13",
          "x": "race_end_in_2019",
          "y": "round"
         },
         {
          "font": {
           "color": "white"
          },
          "showarrow": false,
          "text": "0.01",
          "x": "race_end_in_2019",
          "y": "circuitId"
         },
         {
          "font": {
           "color": "white"
          },
          "showarrow": false,
          "text": "0.35",
          "x": "race_end_in_2019",
          "y": "constructor_is_active"
         },
         {
          "font": {
           "color": "white"
          },
          "showarrow": false,
          "text": "0.36",
          "x": "race_end_in_2019",
          "y": "constructor_races_won"
         },
         {
          "font": {
           "color": "white"
          },
          "showarrow": false,
          "text": "0.50",
          "x": "race_end_in_2019",
          "y": "constructor_avg_point"
         },
         {
          "font": {
           "color": "white"
          },
          "showarrow": false,
          "text": "0.09",
          "x": "race_end_in_2019",
          "y": "constructor_times_in_top_10"
         },
         {
          "font": {
           "color": "white"
          },
          "showarrow": false,
          "text": "0.66",
          "x": "race_end_in_2019",
          "y": "driver_is_active"
         },
         {
          "font": {
           "color": "white"
          },
          "showarrow": false,
          "text": "0.80",
          "x": "race_end_in_2019",
          "y": "driver_avg_point"
         },
         {
          "font": {
           "color": "white"
          },
          "showarrow": false,
          "text": "0.45",
          "x": "race_end_in_2019",
          "y": "driver_avg_speed"
         },
         {
          "font": {
           "color": "white"
          },
          "showarrow": false,
          "text": "0.35",
          "x": "race_end_in_2019",
          "y": "race_end_bf_2019"
         },
         {
          "font": {
           "color": "white"
          },
          "showarrow": false,
          "text": "1.00",
          "x": "race_end_in_2019",
          "y": "race_end_in_2019"
         },
         {
          "font": {
           "color": "white"
          },
          "showarrow": false,
          "text": "0.93",
          "x": "race_end_in_2019",
          "y": "race_end_in_2020"
         },
         {
          "font": {
           "color": "white"
          },
          "showarrow": false,
          "text": "0.82",
          "x": "race_end_in_2019",
          "y": "race_end_in_2021"
         },
         {
          "font": {
           "color": "white"
          },
          "showarrow": false,
          "text": "0.79",
          "x": "race_end_in_2019",
          "y": "race_end_in_2022"
         },
         {
          "font": {
           "color": "white"
          },
          "showarrow": false,
          "text": "0.66",
          "x": "race_end_in_2019",
          "y": "race_end_in_2023"
         },
         {
          "font": {
           "color": "white"
          },
          "showarrow": false,
          "text": "0.71",
          "x": "race_end_in_2019",
          "y": "driver_most_won_circuit_id"
         },
         {
          "font": {
           "color": "white"
          },
          "showarrow": false,
          "text": "0.71",
          "x": "race_end_in_2019",
          "y": "driver_nber_of_races_won"
         },
         {
          "font": {
           "color": "white"
          },
          "showarrow": false,
          "text": "0.26",
          "x": "race_end_in_2019",
          "y": "driver_nber_of_times_in_top_10"
         },
         {
          "font": {
           "color": "white"
          },
          "showarrow": false,
          "text": "-0.18",
          "x": "race_end_in_2019",
          "y": "age"
         },
         {
          "font": {
           "color": "white"
          },
          "showarrow": false,
          "text": "0.46",
          "x": "race_end_in_2020",
          "y": "resultId"
         },
         {
          "font": {
           "color": "white"
          },
          "showarrow": false,
          "text": "0.47",
          "x": "race_end_in_2020",
          "y": "raceId"
         },
         {
          "font": {
           "color": "white"
          },
          "showarrow": false,
          "text": "0.39",
          "x": "race_end_in_2020",
          "y": "driverId"
         },
         {
          "font": {
           "color": "white"
          },
          "showarrow": false,
          "text": "0.03",
          "x": "race_end_in_2020",
          "y": "constructorId"
         },
         {
          "font": {
           "color": "white"
          },
          "showarrow": false,
          "text": "-0.15",
          "x": "race_end_in_2020",
          "y": "grid"
         },
         {
          "font": {
           "color": "white"
          },
          "showarrow": false,
          "text": "0.31",
          "x": "race_end_in_2020",
          "y": "race_rank"
         },
         {
          "font": {
           "color": "white"
          },
          "showarrow": false,
          "text": "-0.13",
          "x": "race_end_in_2020",
          "y": "statusId"
         },
         {
          "font": {
           "color": "white"
          },
          "showarrow": false,
          "text": "0.49",
          "x": "race_end_in_2020",
          "y": "year"
         },
         {
          "font": {
           "color": "white"
          },
          "showarrow": false,
          "text": "0.15",
          "x": "race_end_in_2020",
          "y": "round"
         },
         {
          "font": {
           "color": "white"
          },
          "showarrow": false,
          "text": "0.03",
          "x": "race_end_in_2020",
          "y": "circuitId"
         },
         {
          "font": {
           "color": "white"
          },
          "showarrow": false,
          "text": "0.35",
          "x": "race_end_in_2020",
          "y": "constructor_is_active"
         },
         {
          "font": {
           "color": "white"
          },
          "showarrow": false,
          "text": "0.32",
          "x": "race_end_in_2020",
          "y": "constructor_races_won"
         },
         {
          "font": {
           "color": "white"
          },
          "showarrow": false,
          "text": "0.48",
          "x": "race_end_in_2020",
          "y": "constructor_avg_point"
         },
         {
          "font": {
           "color": "white"
          },
          "showarrow": false,
          "text": "0.07",
          "x": "race_end_in_2020",
          "y": "constructor_times_in_top_10"
         },
         {
          "font": {
           "color": "white"
          },
          "showarrow": false,
          "text": "0.69",
          "x": "race_end_in_2020",
          "y": "driver_is_active"
         },
         {
          "font": {
           "color": "white"
          },
          "showarrow": false,
          "text": "0.73",
          "x": "race_end_in_2020",
          "y": "driver_avg_point"
         },
         {
          "font": {
           "color": "white"
          },
          "showarrow": false,
          "text": "0.48",
          "x": "race_end_in_2020",
          "y": "driver_avg_speed"
         },
         {
          "font": {
           "color": "white"
          },
          "showarrow": false,
          "text": "0.30",
          "x": "race_end_in_2020",
          "y": "race_end_bf_2019"
         },
         {
          "font": {
           "color": "white"
          },
          "showarrow": false,
          "text": "0.93",
          "x": "race_end_in_2020",
          "y": "race_end_in_2019"
         },
         {
          "font": {
           "color": "white"
          },
          "showarrow": false,
          "text": "1.00",
          "x": "race_end_in_2020",
          "y": "race_end_in_2020"
         },
         {
          "font": {
           "color": "white"
          },
          "showarrow": false,
          "text": "0.88",
          "x": "race_end_in_2020",
          "y": "race_end_in_2021"
         },
         {
          "font": {
           "color": "white"
          },
          "showarrow": false,
          "text": "0.85",
          "x": "race_end_in_2020",
          "y": "race_end_in_2022"
         },
         {
          "font": {
           "color": "white"
          },
          "showarrow": false,
          "text": "0.70",
          "x": "race_end_in_2020",
          "y": "race_end_in_2023"
         },
         {
          "font": {
           "color": "white"
          },
          "showarrow": false,
          "text": "0.56",
          "x": "race_end_in_2020",
          "y": "driver_most_won_circuit_id"
         },
         {
          "font": {
           "color": "white"
          },
          "showarrow": false,
          "text": "0.64",
          "x": "race_end_in_2020",
          "y": "driver_nber_of_races_won"
         },
         {
          "font": {
           "color": "white"
          },
          "showarrow": false,
          "text": "0.21",
          "x": "race_end_in_2020",
          "y": "driver_nber_of_times_in_top_10"
         },
         {
          "font": {
           "color": "white"
          },
          "showarrow": false,
          "text": "-0.21",
          "x": "race_end_in_2020",
          "y": "age"
         },
         {
          "font": {
           "color": "white"
          },
          "showarrow": false,
          "text": "0.41",
          "x": "race_end_in_2021",
          "y": "resultId"
         },
         {
          "font": {
           "color": "white"
          },
          "showarrow": false,
          "text": "0.41",
          "x": "race_end_in_2021",
          "y": "raceId"
         },
         {
          "font": {
           "color": "white"
          },
          "showarrow": false,
          "text": "0.34",
          "x": "race_end_in_2021",
          "y": "driverId"
         },
         {
          "font": {
           "color": "white"
          },
          "showarrow": false,
          "text": "-0.00",
          "x": "race_end_in_2021",
          "y": "constructorId"
         },
         {
          "font": {
           "color": "white"
          },
          "showarrow": false,
          "text": "-0.16",
          "x": "race_end_in_2021",
          "y": "grid"
         },
         {
          "font": {
           "color": "white"
          },
          "showarrow": false,
          "text": "0.26",
          "x": "race_end_in_2021",
          "y": "race_rank"
         },
         {
          "font": {
           "color": "white"
          },
          "showarrow": false,
          "text": "-0.13",
          "x": "race_end_in_2021",
          "y": "statusId"
         },
         {
          "font": {
           "color": "white"
          },
          "showarrow": false,
          "text": "0.46",
          "x": "race_end_in_2021",
          "y": "year"
         },
         {
          "font": {
           "color": "white"
          },
          "showarrow": false,
          "text": "0.14",
          "x": "race_end_in_2021",
          "y": "round"
         },
         {
          "font": {
           "color": "white"
          },
          "showarrow": false,
          "text": "0.02",
          "x": "race_end_in_2021",
          "y": "circuitId"
         },
         {
          "font": {
           "color": "white"
          },
          "showarrow": false,
          "text": "0.33",
          "x": "race_end_in_2021",
          "y": "constructor_is_active"
         },
         {
          "font": {
           "color": "white"
          },
          "showarrow": false,
          "text": "0.33",
          "x": "race_end_in_2021",
          "y": "constructor_races_won"
         },
         {
          "font": {
           "color": "white"
          },
          "showarrow": false,
          "text": "0.46",
          "x": "race_end_in_2021",
          "y": "constructor_avg_point"
         },
         {
          "font": {
           "color": "white"
          },
          "showarrow": false,
          "text": "0.10",
          "x": "race_end_in_2021",
          "y": "constructor_times_in_top_10"
         },
         {
          "font": {
           "color": "white"
          },
          "showarrow": false,
          "text": "0.80",
          "x": "race_end_in_2021",
          "y": "driver_is_active"
         },
         {
          "font": {
           "color": "white"
          },
          "showarrow": false,
          "text": "0.75",
          "x": "race_end_in_2021",
          "y": "driver_avg_point"
         },
         {
          "font": {
           "color": "white"
          },
          "showarrow": false,
          "text": "0.45",
          "x": "race_end_in_2021",
          "y": "driver_avg_speed"
         },
         {
          "font": {
           "color": "white"
          },
          "showarrow": false,
          "text": "0.34",
          "x": "race_end_in_2021",
          "y": "race_end_bf_2019"
         },
         {
          "font": {
           "color": "white"
          },
          "showarrow": false,
          "text": "0.82",
          "x": "race_end_in_2021",
          "y": "race_end_in_2019"
         },
         {
          "font": {
           "color": "white"
          },
          "showarrow": false,
          "text": "0.88",
          "x": "race_end_in_2021",
          "y": "race_end_in_2020"
         },
         {
          "font": {
           "color": "white"
          },
          "showarrow": false,
          "text": "1.00",
          "x": "race_end_in_2021",
          "y": "race_end_in_2021"
         },
         {
          "font": {
           "color": "white"
          },
          "showarrow": false,
          "text": "0.92",
          "x": "race_end_in_2021",
          "y": "race_end_in_2022"
         },
         {
          "font": {
           "color": "white"
          },
          "showarrow": false,
          "text": "0.87",
          "x": "race_end_in_2021",
          "y": "race_end_in_2023"
         },
         {
          "font": {
           "color": "white"
          },
          "showarrow": false,
          "text": "0.50",
          "x": "race_end_in_2021",
          "y": "driver_most_won_circuit_id"
         },
         {
          "font": {
           "color": "white"
          },
          "showarrow": false,
          "text": "0.64",
          "x": "race_end_in_2021",
          "y": "driver_nber_of_races_won"
         },
         {
          "font": {
           "color": "white"
          },
          "showarrow": false,
          "text": "0.28",
          "x": "race_end_in_2021",
          "y": "driver_nber_of_times_in_top_10"
         },
         {
          "font": {
           "color": "white"
          },
          "showarrow": false,
          "text": "-0.19",
          "x": "race_end_in_2021",
          "y": "age"
         },
         {
          "font": {
           "color": "white"
          },
          "showarrow": false,
          "text": "0.45",
          "x": "race_end_in_2022",
          "y": "resultId"
         },
         {
          "font": {
           "color": "white"
          },
          "showarrow": false,
          "text": "0.46",
          "x": "race_end_in_2022",
          "y": "raceId"
         },
         {
          "font": {
           "color": "white"
          },
          "showarrow": false,
          "text": "0.41",
          "x": "race_end_in_2022",
          "y": "driverId"
         },
         {
          "font": {
           "color": "white"
          },
          "showarrow": false,
          "text": "0.01",
          "x": "race_end_in_2022",
          "y": "constructorId"
         },
         {
          "font": {
           "color": "white"
          },
          "showarrow": false,
          "text": "-0.14",
          "x": "race_end_in_2022",
          "y": "grid"
         },
         {
          "font": {
           "color": "white"
          },
          "showarrow": false,
          "text": "0.31",
          "x": "race_end_in_2022",
          "y": "race_rank"
         },
         {
          "font": {
           "color": "white"
          },
          "showarrow": false,
          "text": "-0.13",
          "x": "race_end_in_2022",
          "y": "statusId"
         },
         {
          "font": {
           "color": "white"
          },
          "showarrow": false,
          "text": "0.50",
          "x": "race_end_in_2022",
          "y": "year"
         },
         {
          "font": {
           "color": "white"
          },
          "showarrow": false,
          "text": "0.15",
          "x": "race_end_in_2022",
          "y": "round"
         },
         {
          "font": {
           "color": "white"
          },
          "showarrow": false,
          "text": "0.03",
          "x": "race_end_in_2022",
          "y": "circuitId"
         },
         {
          "font": {
           "color": "white"
          },
          "showarrow": false,
          "text": "0.34",
          "x": "race_end_in_2022",
          "y": "constructor_is_active"
         },
         {
          "font": {
           "color": "white"
          },
          "showarrow": false,
          "text": "0.31",
          "x": "race_end_in_2022",
          "y": "constructor_races_won"
         },
         {
          "font": {
           "color": "white"
          },
          "showarrow": false,
          "text": "0.45",
          "x": "race_end_in_2022",
          "y": "constructor_avg_point"
         },
         {
          "font": {
           "color": "white"
          },
          "showarrow": false,
          "text": "0.08",
          "x": "race_end_in_2022",
          "y": "constructor_times_in_top_10"
         },
         {
          "font": {
           "color": "white"
          },
          "showarrow": false,
          "text": "0.85",
          "x": "race_end_in_2022",
          "y": "driver_is_active"
         },
         {
          "font": {
           "color": "white"
          },
          "showarrow": false,
          "text": "0.72",
          "x": "race_end_in_2022",
          "y": "driver_avg_point"
         },
         {
          "font": {
           "color": "white"
          },
          "showarrow": false,
          "text": "0.48",
          "x": "race_end_in_2022",
          "y": "driver_avg_speed"
         },
         {
          "font": {
           "color": "white"
          },
          "showarrow": false,
          "text": "0.29",
          "x": "race_end_in_2022",
          "y": "race_end_bf_2019"
         },
         {
          "font": {
           "color": "white"
          },
          "showarrow": false,
          "text": "0.79",
          "x": "race_end_in_2022",
          "y": "race_end_in_2019"
         },
         {
          "font": {
           "color": "white"
          },
          "showarrow": false,
          "text": "0.85",
          "x": "race_end_in_2022",
          "y": "race_end_in_2020"
         },
         {
          "font": {
           "color": "white"
          },
          "showarrow": false,
          "text": "0.92",
          "x": "race_end_in_2022",
          "y": "race_end_in_2021"
         },
         {
          "font": {
           "color": "white"
          },
          "showarrow": false,
          "text": "1.00",
          "x": "race_end_in_2022",
          "y": "race_end_in_2022"
         },
         {
          "font": {
           "color": "white"
          },
          "showarrow": false,
          "text": "0.89",
          "x": "race_end_in_2022",
          "y": "race_end_in_2023"
         },
         {
          "font": {
           "color": "white"
          },
          "showarrow": false,
          "text": "0.51",
          "x": "race_end_in_2022",
          "y": "driver_most_won_circuit_id"
         },
         {
          "font": {
           "color": "white"
          },
          "showarrow": false,
          "text": "0.56",
          "x": "race_end_in_2022",
          "y": "driver_nber_of_races_won"
         },
         {
          "font": {
           "color": "white"
          },
          "showarrow": false,
          "text": "0.21",
          "x": "race_end_in_2022",
          "y": "driver_nber_of_times_in_top_10"
         },
         {
          "font": {
           "color": "white"
          },
          "showarrow": false,
          "text": "-0.24",
          "x": "race_end_in_2022",
          "y": "age"
         },
         {
          "font": {
           "color": "white"
          },
          "showarrow": false,
          "text": "0.40",
          "x": "race_end_in_2023",
          "y": "resultId"
         },
         {
          "font": {
           "color": "white"
          },
          "showarrow": false,
          "text": "0.40",
          "x": "race_end_in_2023",
          "y": "raceId"
         },
         {
          "font": {
           "color": "white"
          },
          "showarrow": false,
          "text": "0.36",
          "x": "race_end_in_2023",
          "y": "driverId"
         },
         {
          "font": {
           "color": "white"
          },
          "showarrow": false,
          "text": "0.03",
          "x": "race_end_in_2023",
          "y": "constructorId"
         },
         {
          "font": {
           "color": "white"
          },
          "showarrow": false,
          "text": "-0.12",
          "x": "race_end_in_2023",
          "y": "grid"
         },
         {
          "font": {
           "color": "white"
          },
          "showarrow": false,
          "text": "0.27",
          "x": "race_end_in_2023",
          "y": "race_rank"
         },
         {
          "font": {
           "color": "white"
          },
          "showarrow": false,
          "text": "-0.12",
          "x": "race_end_in_2023",
          "y": "statusId"
         },
         {
          "font": {
           "color": "white"
          },
          "showarrow": false,
          "text": "0.45",
          "x": "race_end_in_2023",
          "y": "year"
         },
         {
          "font": {
           "color": "white"
          },
          "showarrow": false,
          "text": "0.13",
          "x": "race_end_in_2023",
          "y": "round"
         },
         {
          "font": {
           "color": "white"
          },
          "showarrow": false,
          "text": "0.02",
          "x": "race_end_in_2023",
          "y": "circuitId"
         },
         {
          "font": {
           "color": "white"
          },
          "showarrow": false,
          "text": "0.29",
          "x": "race_end_in_2023",
          "y": "constructor_is_active"
         },
         {
          "font": {
           "color": "white"
          },
          "showarrow": false,
          "text": "0.25",
          "x": "race_end_in_2023",
          "y": "constructor_races_won"
         },
         {
          "font": {
           "color": "white"
          },
          "showarrow": false,
          "text": "0.38",
          "x": "race_end_in_2023",
          "y": "constructor_avg_point"
         },
         {
          "font": {
           "color": "white"
          },
          "showarrow": false,
          "text": "0.07",
          "x": "race_end_in_2023",
          "y": "constructor_times_in_top_10"
         },
         {
          "font": {
           "color": "white"
          },
          "showarrow": false,
          "text": "0.96",
          "x": "race_end_in_2023",
          "y": "driver_is_active"
         },
         {
          "font": {
           "color": "white"
          },
          "showarrow": false,
          "text": "0.62",
          "x": "race_end_in_2023",
          "y": "driver_avg_point"
         },
         {
          "font": {
           "color": "white"
          },
          "showarrow": false,
          "text": "0.44",
          "x": "race_end_in_2023",
          "y": "driver_avg_speed"
         },
         {
          "font": {
           "color": "white"
          },
          "showarrow": false,
          "text": "0.27",
          "x": "race_end_in_2023",
          "y": "race_end_bf_2019"
         },
         {
          "font": {
           "color": "white"
          },
          "showarrow": false,
          "text": "0.66",
          "x": "race_end_in_2023",
          "y": "race_end_in_2019"
         },
         {
          "font": {
           "color": "white"
          },
          "showarrow": false,
          "text": "0.70",
          "x": "race_end_in_2023",
          "y": "race_end_in_2020"
         },
         {
          "font": {
           "color": "white"
          },
          "showarrow": false,
          "text": "0.87",
          "x": "race_end_in_2023",
          "y": "race_end_in_2021"
         },
         {
          "font": {
           "color": "white"
          },
          "showarrow": false,
          "text": "0.89",
          "x": "race_end_in_2023",
          "y": "race_end_in_2022"
         },
         {
          "font": {
           "color": "white"
          },
          "showarrow": false,
          "text": "1.00",
          "x": "race_end_in_2023",
          "y": "race_end_in_2023"
         },
         {
          "font": {
           "color": "white"
          },
          "showarrow": false,
          "text": "0.35",
          "x": "race_end_in_2023",
          "y": "driver_most_won_circuit_id"
         },
         {
          "font": {
           "color": "white"
          },
          "showarrow": false,
          "text": "0.48",
          "x": "race_end_in_2023",
          "y": "driver_nber_of_races_won"
         },
         {
          "font": {
           "color": "white"
          },
          "showarrow": false,
          "text": "0.22",
          "x": "race_end_in_2023",
          "y": "driver_nber_of_times_in_top_10"
         },
         {
          "font": {
           "color": "white"
          },
          "showarrow": false,
          "text": "-0.21",
          "x": "race_end_in_2023",
          "y": "age"
         },
         {
          "font": {
           "color": "white"
          },
          "showarrow": false,
          "text": "0.24",
          "x": "driver_most_won_circuit_id",
          "y": "resultId"
         },
         {
          "font": {
           "color": "white"
          },
          "showarrow": false,
          "text": "0.23",
          "x": "driver_most_won_circuit_id",
          "y": "raceId"
         },
         {
          "font": {
           "color": "white"
          },
          "showarrow": false,
          "text": "0.12",
          "x": "driver_most_won_circuit_id",
          "y": "driverId"
         },
         {
          "font": {
           "color": "white"
          },
          "showarrow": false,
          "text": "-0.04",
          "x": "driver_most_won_circuit_id",
          "y": "constructorId"
         },
         {
          "font": {
           "color": "white"
          },
          "showarrow": false,
          "text": "-0.14",
          "x": "driver_most_won_circuit_id",
          "y": "grid"
         },
         {
          "font": {
           "color": "white"
          },
          "showarrow": false,
          "text": "0.20",
          "x": "driver_most_won_circuit_id",
          "y": "race_rank"
         },
         {
          "font": {
           "color": "white"
          },
          "showarrow": false,
          "text": "-0.11",
          "x": "driver_most_won_circuit_id",
          "y": "statusId"
         },
         {
          "font": {
           "color": "white"
          },
          "showarrow": false,
          "text": "0.36",
          "x": "driver_most_won_circuit_id",
          "y": "year"
         },
         {
          "font": {
           "color": "white"
          },
          "showarrow": false,
          "text": "0.11",
          "x": "driver_most_won_circuit_id",
          "y": "round"
         },
         {
          "font": {
           "color": "white"
          },
          "showarrow": false,
          "text": "-0.03",
          "x": "driver_most_won_circuit_id",
          "y": "circuitId"
         },
         {
          "font": {
           "color": "white"
          },
          "showarrow": false,
          "text": "0.27",
          "x": "driver_most_won_circuit_id",
          "y": "constructor_is_active"
         },
         {
          "font": {
           "color": "white"
          },
          "showarrow": false,
          "text": "0.29",
          "x": "driver_most_won_circuit_id",
          "y": "constructor_races_won"
         },
         {
          "font": {
           "color": "white"
          },
          "showarrow": false,
          "text": "0.41",
          "x": "driver_most_won_circuit_id",
          "y": "constructor_avg_point"
         },
         {
          "font": {
           "color": "white"
          },
          "showarrow": false,
          "text": "0.05",
          "x": "driver_most_won_circuit_id",
          "y": "constructor_times_in_top_10"
         },
         {
          "font": {
           "color": "white"
          },
          "showarrow": false,
          "text": "0.39",
          "x": "driver_most_won_circuit_id",
          "y": "driver_is_active"
         },
         {
          "font": {
           "color": "white"
          },
          "showarrow": false,
          "text": "0.65",
          "x": "driver_most_won_circuit_id",
          "y": "driver_avg_point"
         },
         {
          "font": {
           "color": "white"
          },
          "showarrow": false,
          "text": "0.38",
          "x": "driver_most_won_circuit_id",
          "y": "driver_avg_speed"
         },
         {
          "font": {
           "color": "white"
          },
          "showarrow": false,
          "text": "0.36",
          "x": "driver_most_won_circuit_id",
          "y": "race_end_bf_2019"
         },
         {
          "font": {
           "color": "white"
          },
          "showarrow": false,
          "text": "0.71",
          "x": "driver_most_won_circuit_id",
          "y": "race_end_in_2019"
         },
         {
          "font": {
           "color": "white"
          },
          "showarrow": false,
          "text": "0.56",
          "x": "driver_most_won_circuit_id",
          "y": "race_end_in_2020"
         },
         {
          "font": {
           "color": "white"
          },
          "showarrow": false,
          "text": "0.50",
          "x": "driver_most_won_circuit_id",
          "y": "race_end_in_2021"
         },
         {
          "font": {
           "color": "white"
          },
          "showarrow": false,
          "text": "0.51",
          "x": "driver_most_won_circuit_id",
          "y": "race_end_in_2022"
         },
         {
          "font": {
           "color": "white"
          },
          "showarrow": false,
          "text": "0.35",
          "x": "driver_most_won_circuit_id",
          "y": "race_end_in_2023"
         },
         {
          "font": {
           "color": "white"
          },
          "showarrow": false,
          "text": "1.00",
          "x": "driver_most_won_circuit_id",
          "y": "driver_most_won_circuit_id"
         },
         {
          "font": {
           "color": "white"
          },
          "showarrow": false,
          "text": "0.53",
          "x": "driver_most_won_circuit_id",
          "y": "driver_nber_of_races_won"
         },
         {
          "font": {
           "color": "white"
          },
          "showarrow": false,
          "text": "0.25",
          "x": "driver_most_won_circuit_id",
          "y": "driver_nber_of_times_in_top_10"
         },
         {
          "font": {
           "color": "white"
          },
          "showarrow": false,
          "text": "-0.13",
          "x": "driver_most_won_circuit_id",
          "y": "age"
         },
         {
          "font": {
           "color": "white"
          },
          "showarrow": false,
          "text": "0.19",
          "x": "driver_nber_of_races_won",
          "y": "resultId"
         },
         {
          "font": {
           "color": "white"
          },
          "showarrow": false,
          "text": "0.16",
          "x": "driver_nber_of_races_won",
          "y": "raceId"
         },
         {
          "font": {
           "color": "white"
          },
          "showarrow": false,
          "text": "-0.13",
          "x": "driver_nber_of_races_won",
          "y": "driverId"
         },
         {
          "font": {
           "color": "white"
          },
          "showarrow": false,
          "text": "-0.04",
          "x": "driver_nber_of_races_won",
          "y": "constructorId"
         },
         {
          "font": {
           "color": "white"
          },
          "showarrow": false,
          "text": "-0.22",
          "x": "driver_nber_of_races_won",
          "y": "grid"
         },
         {
          "font": {
           "color": "white"
          },
          "showarrow": false,
          "text": "0.18",
          "x": "driver_nber_of_races_won",
          "y": "race_rank"
         },
         {
          "font": {
           "color": "white"
          },
          "showarrow": false,
          "text": "-0.16",
          "x": "driver_nber_of_races_won",
          "y": "statusId"
         },
         {
          "font": {
           "color": "white"
          },
          "showarrow": false,
          "text": "0.41",
          "x": "driver_nber_of_races_won",
          "y": "year"
         },
         {
          "font": {
           "color": "white"
          },
          "showarrow": false,
          "text": "0.12",
          "x": "driver_nber_of_races_won",
          "y": "round"
         },
         {
          "font": {
           "color": "white"
          },
          "showarrow": false,
          "text": "-0.07",
          "x": "driver_nber_of_races_won",
          "y": "circuitId"
         },
         {
          "font": {
           "color": "white"
          },
          "showarrow": false,
          "text": "0.39",
          "x": "driver_nber_of_races_won",
          "y": "constructor_is_active"
         },
         {
          "font": {
           "color": "white"
          },
          "showarrow": false,
          "text": "0.45",
          "x": "driver_nber_of_races_won",
          "y": "constructor_races_won"
         },
         {
          "font": {
           "color": "white"
          },
          "showarrow": false,
          "text": "0.55",
          "x": "driver_nber_of_races_won",
          "y": "constructor_avg_point"
         },
         {
          "font": {
           "color": "white"
          },
          "showarrow": false,
          "text": "0.20",
          "x": "driver_nber_of_races_won",
          "y": "constructor_times_in_top_10"
         },
         {
          "font": {
           "color": "white"
          },
          "showarrow": false,
          "text": "0.40",
          "x": "driver_nber_of_races_won",
          "y": "driver_is_active"
         },
         {
          "font": {
           "color": "white"
          },
          "showarrow": false,
          "text": "0.86",
          "x": "driver_nber_of_races_won",
          "y": "driver_avg_point"
         },
         {
          "font": {
           "color": "white"
          },
          "showarrow": false,
          "text": "0.48",
          "x": "driver_nber_of_races_won",
          "y": "driver_avg_speed"
         },
         {
          "font": {
           "color": "white"
          },
          "showarrow": false,
          "text": "0.75",
          "x": "driver_nber_of_races_won",
          "y": "race_end_bf_2019"
         },
         {
          "font": {
           "color": "white"
          },
          "showarrow": false,
          "text": "0.71",
          "x": "driver_nber_of_races_won",
          "y": "race_end_in_2019"
         },
         {
          "font": {
           "color": "white"
          },
          "showarrow": false,
          "text": "0.64",
          "x": "driver_nber_of_races_won",
          "y": "race_end_in_2020"
         },
         {
          "font": {
           "color": "white"
          },
          "showarrow": false,
          "text": "0.64",
          "x": "driver_nber_of_races_won",
          "y": "race_end_in_2021"
         },
         {
          "font": {
           "color": "white"
          },
          "showarrow": false,
          "text": "0.56",
          "x": "driver_nber_of_races_won",
          "y": "race_end_in_2022"
         },
         {
          "font": {
           "color": "white"
          },
          "showarrow": false,
          "text": "0.48",
          "x": "driver_nber_of_races_won",
          "y": "race_end_in_2023"
         },
         {
          "font": {
           "color": "white"
          },
          "showarrow": false,
          "text": "0.53",
          "x": "driver_nber_of_races_won",
          "y": "driver_most_won_circuit_id"
         },
         {
          "font": {
           "color": "white"
          },
          "showarrow": false,
          "text": "1.00",
          "x": "driver_nber_of_races_won",
          "y": "driver_nber_of_races_won"
         },
         {
          "font": {
           "color": "white"
          },
          "showarrow": false,
          "text": "0.56",
          "x": "driver_nber_of_races_won",
          "y": "driver_nber_of_times_in_top_10"
         },
         {
          "font": {
           "color": "white"
          },
          "showarrow": false,
          "text": "-0.04",
          "x": "driver_nber_of_races_won",
          "y": "age"
         },
         {
          "font": {
           "color": "white"
          },
          "showarrow": false,
          "text": "-0.22",
          "x": "driver_nber_of_times_in_top_10",
          "y": "resultId"
         },
         {
          "font": {
           "color": "white"
          },
          "showarrow": false,
          "text": "-0.22",
          "x": "driver_nber_of_times_in_top_10",
          "y": "raceId"
         },
         {
          "font": {
           "color": "white"
          },
          "showarrow": false,
          "text": "-0.47",
          "x": "driver_nber_of_times_in_top_10",
          "y": "driverId"
         },
         {
          "font": {
           "color": "white"
          },
          "showarrow": false,
          "text": "-0.29",
          "x": "driver_nber_of_times_in_top_10",
          "y": "constructorId"
         },
         {
          "font": {
           "color": "white"
          },
          "showarrow": false,
          "text": "-0.31",
          "x": "driver_nber_of_times_in_top_10",
          "y": "grid"
         },
         {
          "font": {
           "color": "white"
          },
          "showarrow": false,
          "text": "-0.08",
          "x": "driver_nber_of_times_in_top_10",
          "y": "race_rank"
         },
         {
          "font": {
           "color": "white"
          },
          "showarrow": false,
          "text": "-0.21",
          "x": "driver_nber_of_times_in_top_10",
          "y": "statusId"
         },
         {
          "font": {
           "color": "white"
          },
          "showarrow": false,
          "text": "0.29",
          "x": "driver_nber_of_times_in_top_10",
          "y": "year"
         },
         {
          "font": {
           "color": "white"
          },
          "showarrow": false,
          "text": "0.11",
          "x": "driver_nber_of_times_in_top_10",
          "y": "round"
         },
         {
          "font": {
           "color": "white"
          },
          "showarrow": false,
          "text": "-0.10",
          "x": "driver_nber_of_times_in_top_10",
          "y": "circuitId"
         },
         {
          "font": {
           "color": "white"
          },
          "showarrow": false,
          "text": "0.34",
          "x": "driver_nber_of_times_in_top_10",
          "y": "constructor_is_active"
         },
         {
          "font": {
           "color": "white"
          },
          "showarrow": false,
          "text": "0.36",
          "x": "driver_nber_of_times_in_top_10",
          "y": "constructor_races_won"
         },
         {
          "font": {
           "color": "white"
          },
          "showarrow": false,
          "text": "0.36",
          "x": "driver_nber_of_times_in_top_10",
          "y": "constructor_avg_point"
         },
         {
          "font": {
           "color": "white"
          },
          "showarrow": false,
          "text": "0.35",
          "x": "driver_nber_of_times_in_top_10",
          "y": "constructor_times_in_top_10"
         },
         {
          "font": {
           "color": "white"
          },
          "showarrow": false,
          "text": "0.15",
          "x": "driver_nber_of_times_in_top_10",
          "y": "driver_is_active"
         },
         {
          "font": {
           "color": "white"
          },
          "showarrow": false,
          "text": "0.57",
          "x": "driver_nber_of_times_in_top_10",
          "y": "driver_avg_point"
         },
         {
          "font": {
           "color": "white"
          },
          "showarrow": false,
          "text": "0.23",
          "x": "driver_nber_of_times_in_top_10",
          "y": "driver_avg_speed"
         },
         {
          "font": {
           "color": "white"
          },
          "showarrow": false,
          "text": "0.82",
          "x": "driver_nber_of_times_in_top_10",
          "y": "race_end_bf_2019"
         },
         {
          "font": {
           "color": "white"
          },
          "showarrow": false,
          "text": "0.26",
          "x": "driver_nber_of_times_in_top_10",
          "y": "race_end_in_2019"
         },
         {
          "font": {
           "color": "white"
          },
          "showarrow": false,
          "text": "0.21",
          "x": "driver_nber_of_times_in_top_10",
          "y": "race_end_in_2020"
         },
         {
          "font": {
           "color": "white"
          },
          "showarrow": false,
          "text": "0.28",
          "x": "driver_nber_of_times_in_top_10",
          "y": "race_end_in_2021"
         },
         {
          "font": {
           "color": "white"
          },
          "showarrow": false,
          "text": "0.21",
          "x": "driver_nber_of_times_in_top_10",
          "y": "race_end_in_2022"
         },
         {
          "font": {
           "color": "white"
          },
          "showarrow": false,
          "text": "0.22",
          "x": "driver_nber_of_times_in_top_10",
          "y": "race_end_in_2023"
         },
         {
          "font": {
           "color": "white"
          },
          "showarrow": false,
          "text": "0.25",
          "x": "driver_nber_of_times_in_top_10",
          "y": "driver_most_won_circuit_id"
         },
         {
          "font": {
           "color": "white"
          },
          "showarrow": false,
          "text": "0.56",
          "x": "driver_nber_of_times_in_top_10",
          "y": "driver_nber_of_races_won"
         },
         {
          "font": {
           "color": "white"
          },
          "showarrow": false,
          "text": "1.00",
          "x": "driver_nber_of_times_in_top_10",
          "y": "driver_nber_of_times_in_top_10"
         },
         {
          "font": {
           "color": "white"
          },
          "showarrow": false,
          "text": "0.13",
          "x": "driver_nber_of_times_in_top_10",
          "y": "age"
         },
         {
          "font": {
           "color": "white"
          },
          "showarrow": false,
          "text": "0.03",
          "x": "age",
          "y": "resultId"
         },
         {
          "font": {
           "color": "white"
          },
          "showarrow": false,
          "text": "0.04",
          "x": "age",
          "y": "raceId"
         },
         {
          "font": {
           "color": "white"
          },
          "showarrow": false,
          "text": "-0.11",
          "x": "age",
          "y": "driverId"
         },
         {
          "font": {
           "color": "white"
          },
          "showarrow": false,
          "text": "0.10",
          "x": "age",
          "y": "constructorId"
         },
         {
          "font": {
           "color": "white"
          },
          "showarrow": false,
          "text": "-0.05",
          "x": "age",
          "y": "grid"
         },
         {
          "font": {
           "color": "white"
          },
          "showarrow": false,
          "text": "-0.22",
          "x": "age",
          "y": "race_rank"
         },
         {
          "font": {
           "color": "white"
          },
          "showarrow": false,
          "text": "0.05",
          "x": "age",
          "y": "statusId"
         },
         {
          "font": {
           "color": "white"
          },
          "showarrow": false,
          "text": "-0.34",
          "x": "age",
          "y": "year"
         },
         {
          "font": {
           "color": "white"
          },
          "showarrow": false,
          "text": "-0.12",
          "x": "age",
          "y": "round"
         },
         {
          "font": {
           "color": "white"
          },
          "showarrow": false,
          "text": "0.06",
          "x": "age",
          "y": "circuitId"
         },
         {
          "font": {
           "color": "white"
          },
          "showarrow": false,
          "text": "0.03",
          "x": "age",
          "y": "constructor_is_active"
         },
         {
          "font": {
           "color": "white"
          },
          "showarrow": false,
          "text": "0.05",
          "x": "age",
          "y": "constructor_races_won"
         },
         {
          "font": {
           "color": "white"
          },
          "showarrow": false,
          "text": "0.02",
          "x": "age",
          "y": "constructor_avg_point"
         },
         {
          "font": {
           "color": "white"
          },
          "showarrow": false,
          "text": "0.05",
          "x": "age",
          "y": "constructor_times_in_top_10"
         },
         {
          "font": {
           "color": "white"
          },
          "showarrow": false,
          "text": "-0.23",
          "x": "age",
          "y": "driver_is_active"
         },
         {
          "font": {
           "color": "white"
          },
          "showarrow": false,
          "text": "-0.09",
          "x": "age",
          "y": "driver_avg_point"
         },
         {
          "font": {
           "color": "white"
          },
          "showarrow": false,
          "text": "-0.32",
          "x": "age",
          "y": "driver_avg_speed"
         },
         {
          "font": {
           "color": "white"
          },
          "showarrow": false,
          "text": "0.04",
          "x": "age",
          "y": "race_end_bf_2019"
         },
         {
          "font": {
           "color": "white"
          },
          "showarrow": false,
          "text": "-0.18",
          "x": "age",
          "y": "race_end_in_2019"
         },
         {
          "font": {
           "color": "white"
          },
          "showarrow": false,
          "text": "-0.21",
          "x": "age",
          "y": "race_end_in_2020"
         },
         {
          "font": {
           "color": "white"
          },
          "showarrow": false,
          "text": "-0.19",
          "x": "age",
          "y": "race_end_in_2021"
         },
         {
          "font": {
           "color": "white"
          },
          "showarrow": false,
          "text": "-0.24",
          "x": "age",
          "y": "race_end_in_2022"
         },
         {
          "font": {
           "color": "white"
          },
          "showarrow": false,
          "text": "-0.21",
          "x": "age",
          "y": "race_end_in_2023"
         },
         {
          "font": {
           "color": "white"
          },
          "showarrow": false,
          "text": "-0.13",
          "x": "age",
          "y": "driver_most_won_circuit_id"
         },
         {
          "font": {
           "color": "white"
          },
          "showarrow": false,
          "text": "-0.04",
          "x": "age",
          "y": "driver_nber_of_races_won"
         },
         {
          "font": {
           "color": "white"
          },
          "showarrow": false,
          "text": "0.13",
          "x": "age",
          "y": "driver_nber_of_times_in_top_10"
         },
         {
          "font": {
           "color": "white"
          },
          "showarrow": false,
          "text": "1.00",
          "x": "age",
          "y": "age"
         }
        ],
        "coloraxis": {
         "colorbar": {
          "title": {
           "text": "Correlation"
          }
         },
         "colorscale": [
          [
           0,
           "#440154"
          ],
          [
           0.1111111111111111,
           "#482878"
          ],
          [
           0.2222222222222222,
           "#3e4989"
          ],
          [
           0.3333333333333333,
           "#31688e"
          ],
          [
           0.4444444444444444,
           "#26828e"
          ],
          [
           0.5555555555555556,
           "#1f9e89"
          ],
          [
           0.6666666666666666,
           "#35b779"
          ],
          [
           0.7777777777777778,
           "#6ece58"
          ],
          [
           0.8888888888888888,
           "#b5de2b"
          ],
          [
           1,
           "#fde725"
          ]
         ]
        },
        "height": 800,
        "margin": {
         "t": 60
        },
        "template": {
         "data": {
          "bar": [
           {
            "error_x": {
             "color": "#2a3f5f"
            },
            "error_y": {
             "color": "#2a3f5f"
            },
            "marker": {
             "line": {
              "color": "white",
              "width": 0.5
             },
             "pattern": {
              "fillmode": "overlay",
              "size": 10,
              "solidity": 0.2
             }
            },
            "type": "bar"
           }
          ],
          "barpolar": [
           {
            "marker": {
             "line": {
              "color": "white",
              "width": 0.5
             },
             "pattern": {
              "fillmode": "overlay",
              "size": 10,
              "solidity": 0.2
             }
            },
            "type": "barpolar"
           }
          ],
          "carpet": [
           {
            "aaxis": {
             "endlinecolor": "#2a3f5f",
             "gridcolor": "#C8D4E3",
             "linecolor": "#C8D4E3",
             "minorgridcolor": "#C8D4E3",
             "startlinecolor": "#2a3f5f"
            },
            "baxis": {
             "endlinecolor": "#2a3f5f",
             "gridcolor": "#C8D4E3",
             "linecolor": "#C8D4E3",
             "minorgridcolor": "#C8D4E3",
             "startlinecolor": "#2a3f5f"
            },
            "type": "carpet"
           }
          ],
          "choropleth": [
           {
            "colorbar": {
             "outlinewidth": 0,
             "ticks": ""
            },
            "type": "choropleth"
           }
          ],
          "contour": [
           {
            "colorbar": {
             "outlinewidth": 0,
             "ticks": ""
            },
            "colorscale": [
             [
              0,
              "#0d0887"
             ],
             [
              0.1111111111111111,
              "#46039f"
             ],
             [
              0.2222222222222222,
              "#7201a8"
             ],
             [
              0.3333333333333333,
              "#9c179e"
             ],
             [
              0.4444444444444444,
              "#bd3786"
             ],
             [
              0.5555555555555556,
              "#d8576b"
             ],
             [
              0.6666666666666666,
              "#ed7953"
             ],
             [
              0.7777777777777778,
              "#fb9f3a"
             ],
             [
              0.8888888888888888,
              "#fdca26"
             ],
             [
              1,
              "#f0f921"
             ]
            ],
            "type": "contour"
           }
          ],
          "contourcarpet": [
           {
            "colorbar": {
             "outlinewidth": 0,
             "ticks": ""
            },
            "type": "contourcarpet"
           }
          ],
          "heatmap": [
           {
            "colorbar": {
             "outlinewidth": 0,
             "ticks": ""
            },
            "colorscale": [
             [
              0,
              "#0d0887"
             ],
             [
              0.1111111111111111,
              "#46039f"
             ],
             [
              0.2222222222222222,
              "#7201a8"
             ],
             [
              0.3333333333333333,
              "#9c179e"
             ],
             [
              0.4444444444444444,
              "#bd3786"
             ],
             [
              0.5555555555555556,
              "#d8576b"
             ],
             [
              0.6666666666666666,
              "#ed7953"
             ],
             [
              0.7777777777777778,
              "#fb9f3a"
             ],
             [
              0.8888888888888888,
              "#fdca26"
             ],
             [
              1,
              "#f0f921"
             ]
            ],
            "type": "heatmap"
           }
          ],
          "heatmapgl": [
           {
            "colorbar": {
             "outlinewidth": 0,
             "ticks": ""
            },
            "colorscale": [
             [
              0,
              "#0d0887"
             ],
             [
              0.1111111111111111,
              "#46039f"
             ],
             [
              0.2222222222222222,
              "#7201a8"
             ],
             [
              0.3333333333333333,
              "#9c179e"
             ],
             [
              0.4444444444444444,
              "#bd3786"
             ],
             [
              0.5555555555555556,
              "#d8576b"
             ],
             [
              0.6666666666666666,
              "#ed7953"
             ],
             [
              0.7777777777777778,
              "#fb9f3a"
             ],
             [
              0.8888888888888888,
              "#fdca26"
             ],
             [
              1,
              "#f0f921"
             ]
            ],
            "type": "heatmapgl"
           }
          ],
          "histogram": [
           {
            "marker": {
             "pattern": {
              "fillmode": "overlay",
              "size": 10,
              "solidity": 0.2
             }
            },
            "type": "histogram"
           }
          ],
          "histogram2d": [
           {
            "colorbar": {
             "outlinewidth": 0,
             "ticks": ""
            },
            "colorscale": [
             [
              0,
              "#0d0887"
             ],
             [
              0.1111111111111111,
              "#46039f"
             ],
             [
              0.2222222222222222,
              "#7201a8"
             ],
             [
              0.3333333333333333,
              "#9c179e"
             ],
             [
              0.4444444444444444,
              "#bd3786"
             ],
             [
              0.5555555555555556,
              "#d8576b"
             ],
             [
              0.6666666666666666,
              "#ed7953"
             ],
             [
              0.7777777777777778,
              "#fb9f3a"
             ],
             [
              0.8888888888888888,
              "#fdca26"
             ],
             [
              1,
              "#f0f921"
             ]
            ],
            "type": "histogram2d"
           }
          ],
          "histogram2dcontour": [
           {
            "colorbar": {
             "outlinewidth": 0,
             "ticks": ""
            },
            "colorscale": [
             [
              0,
              "#0d0887"
             ],
             [
              0.1111111111111111,
              "#46039f"
             ],
             [
              0.2222222222222222,
              "#7201a8"
             ],
             [
              0.3333333333333333,
              "#9c179e"
             ],
             [
              0.4444444444444444,
              "#bd3786"
             ],
             [
              0.5555555555555556,
              "#d8576b"
             ],
             [
              0.6666666666666666,
              "#ed7953"
             ],
             [
              0.7777777777777778,
              "#fb9f3a"
             ],
             [
              0.8888888888888888,
              "#fdca26"
             ],
             [
              1,
              "#f0f921"
             ]
            ],
            "type": "histogram2dcontour"
           }
          ],
          "mesh3d": [
           {
            "colorbar": {
             "outlinewidth": 0,
             "ticks": ""
            },
            "type": "mesh3d"
           }
          ],
          "parcoords": [
           {
            "line": {
             "colorbar": {
              "outlinewidth": 0,
              "ticks": ""
             }
            },
            "type": "parcoords"
           }
          ],
          "pie": [
           {
            "automargin": true,
            "type": "pie"
           }
          ],
          "scatter": [
           {
            "fillpattern": {
             "fillmode": "overlay",
             "size": 10,
             "solidity": 0.2
            },
            "type": "scatter"
           }
          ],
          "scatter3d": [
           {
            "line": {
             "colorbar": {
              "outlinewidth": 0,
              "ticks": ""
             }
            },
            "marker": {
             "colorbar": {
              "outlinewidth": 0,
              "ticks": ""
             }
            },
            "type": "scatter3d"
           }
          ],
          "scattercarpet": [
           {
            "marker": {
             "colorbar": {
              "outlinewidth": 0,
              "ticks": ""
             }
            },
            "type": "scattercarpet"
           }
          ],
          "scattergeo": [
           {
            "marker": {
             "colorbar": {
              "outlinewidth": 0,
              "ticks": ""
             }
            },
            "type": "scattergeo"
           }
          ],
          "scattergl": [
           {
            "marker": {
             "colorbar": {
              "outlinewidth": 0,
              "ticks": ""
             }
            },
            "type": "scattergl"
           }
          ],
          "scattermapbox": [
           {
            "marker": {
             "colorbar": {
              "outlinewidth": 0,
              "ticks": ""
             }
            },
            "type": "scattermapbox"
           }
          ],
          "scatterpolar": [
           {
            "marker": {
             "colorbar": {
              "outlinewidth": 0,
              "ticks": ""
             }
            },
            "type": "scatterpolar"
           }
          ],
          "scatterpolargl": [
           {
            "marker": {
             "colorbar": {
              "outlinewidth": 0,
              "ticks": ""
             }
            },
            "type": "scatterpolargl"
           }
          ],
          "scatterternary": [
           {
            "marker": {
             "colorbar": {
              "outlinewidth": 0,
              "ticks": ""
             }
            },
            "type": "scatterternary"
           }
          ],
          "surface": [
           {
            "colorbar": {
             "outlinewidth": 0,
             "ticks": ""
            },
            "colorscale": [
             [
              0,
              "#0d0887"
             ],
             [
              0.1111111111111111,
              "#46039f"
             ],
             [
              0.2222222222222222,
              "#7201a8"
             ],
             [
              0.3333333333333333,
              "#9c179e"
             ],
             [
              0.4444444444444444,
              "#bd3786"
             ],
             [
              0.5555555555555556,
              "#d8576b"
             ],
             [
              0.6666666666666666,
              "#ed7953"
             ],
             [
              0.7777777777777778,
              "#fb9f3a"
             ],
             [
              0.8888888888888888,
              "#fdca26"
             ],
             [
              1,
              "#f0f921"
             ]
            ],
            "type": "surface"
           }
          ],
          "table": [
           {
            "cells": {
             "fill": {
              "color": "#EBF0F8"
             },
             "line": {
              "color": "white"
             }
            },
            "header": {
             "fill": {
              "color": "#C8D4E3"
             },
             "line": {
              "color": "white"
             }
            },
            "type": "table"
           }
          ]
         },
         "layout": {
          "annotationdefaults": {
           "arrowcolor": "#2a3f5f",
           "arrowhead": 0,
           "arrowwidth": 1
          },
          "autotypenumbers": "strict",
          "coloraxis": {
           "colorbar": {
            "outlinewidth": 0,
            "ticks": ""
           }
          },
          "colorscale": {
           "diverging": [
            [
             0,
             "#8e0152"
            ],
            [
             0.1,
             "#c51b7d"
            ],
            [
             0.2,
             "#de77ae"
            ],
            [
             0.3,
             "#f1b6da"
            ],
            [
             0.4,
             "#fde0ef"
            ],
            [
             0.5,
             "#f7f7f7"
            ],
            [
             0.6,
             "#e6f5d0"
            ],
            [
             0.7,
             "#b8e186"
            ],
            [
             0.8,
             "#7fbc41"
            ],
            [
             0.9,
             "#4d9221"
            ],
            [
             1,
             "#276419"
            ]
           ],
           "sequential": [
            [
             0,
             "#0d0887"
            ],
            [
             0.1111111111111111,
             "#46039f"
            ],
            [
             0.2222222222222222,
             "#7201a8"
            ],
            [
             0.3333333333333333,
             "#9c179e"
            ],
            [
             0.4444444444444444,
             "#bd3786"
            ],
            [
             0.5555555555555556,
             "#d8576b"
            ],
            [
             0.6666666666666666,
             "#ed7953"
            ],
            [
             0.7777777777777778,
             "#fb9f3a"
            ],
            [
             0.8888888888888888,
             "#fdca26"
            ],
            [
             1,
             "#f0f921"
            ]
           ],
           "sequentialminus": [
            [
             0,
             "#0d0887"
            ],
            [
             0.1111111111111111,
             "#46039f"
            ],
            [
             0.2222222222222222,
             "#7201a8"
            ],
            [
             0.3333333333333333,
             "#9c179e"
            ],
            [
             0.4444444444444444,
             "#bd3786"
            ],
            [
             0.5555555555555556,
             "#d8576b"
            ],
            [
             0.6666666666666666,
             "#ed7953"
            ],
            [
             0.7777777777777778,
             "#fb9f3a"
            ],
            [
             0.8888888888888888,
             "#fdca26"
            ],
            [
             1,
             "#f0f921"
            ]
           ]
          },
          "colorway": [
           "#636efa",
           "#EF553B",
           "#00cc96",
           "#ab63fa",
           "#FFA15A",
           "#19d3f3",
           "#FF6692",
           "#B6E880",
           "#FF97FF",
           "#FECB52"
          ],
          "font": {
           "color": "#2a3f5f"
          },
          "geo": {
           "bgcolor": "white",
           "lakecolor": "white",
           "landcolor": "white",
           "showlakes": true,
           "showland": true,
           "subunitcolor": "#C8D4E3"
          },
          "hoverlabel": {
           "align": "left"
          },
          "hovermode": "closest",
          "mapbox": {
           "style": "light"
          },
          "paper_bgcolor": "white",
          "plot_bgcolor": "white",
          "polar": {
           "angularaxis": {
            "gridcolor": "#EBF0F8",
            "linecolor": "#EBF0F8",
            "ticks": ""
           },
           "bgcolor": "white",
           "radialaxis": {
            "gridcolor": "#EBF0F8",
            "linecolor": "#EBF0F8",
            "ticks": ""
           }
          },
          "scene": {
           "xaxis": {
            "backgroundcolor": "white",
            "gridcolor": "#DFE8F3",
            "gridwidth": 2,
            "linecolor": "#EBF0F8",
            "showbackground": true,
            "ticks": "",
            "zerolinecolor": "#EBF0F8"
           },
           "yaxis": {
            "backgroundcolor": "white",
            "gridcolor": "#DFE8F3",
            "gridwidth": 2,
            "linecolor": "#EBF0F8",
            "showbackground": true,
            "ticks": "",
            "zerolinecolor": "#EBF0F8"
           },
           "zaxis": {
            "backgroundcolor": "white",
            "gridcolor": "#DFE8F3",
            "gridwidth": 2,
            "linecolor": "#EBF0F8",
            "showbackground": true,
            "ticks": "",
            "zerolinecolor": "#EBF0F8"
           }
          },
          "shapedefaults": {
           "line": {
            "color": "#2a3f5f"
           }
          },
          "ternary": {
           "aaxis": {
            "gridcolor": "#DFE8F3",
            "linecolor": "#A2B1C6",
            "ticks": ""
           },
           "baxis": {
            "gridcolor": "#DFE8F3",
            "linecolor": "#A2B1C6",
            "ticks": ""
           },
           "bgcolor": "white",
           "caxis": {
            "gridcolor": "#DFE8F3",
            "linecolor": "#A2B1C6",
            "ticks": ""
           }
          },
          "title": {
           "x": 0.05
          },
          "xaxis": {
           "automargin": true,
           "gridcolor": "#EBF0F8",
           "linecolor": "#EBF0F8",
           "ticks": "",
           "title": {
            "standoff": 15
           },
           "zerolinecolor": "#EBF0F8",
           "zerolinewidth": 2
          },
          "yaxis": {
           "automargin": true,
           "gridcolor": "#EBF0F8",
           "linecolor": "#EBF0F8",
           "ticks": "",
           "title": {
            "standoff": 15
           },
           "zerolinecolor": "#EBF0F8",
           "zerolinewidth": 2
          }
         }
        },
        "width": 1200,
        "xaxis": {
         "anchor": "y",
         "constrain": "domain",
         "domain": [
          0,
          1
         ],
         "scaleanchor": "y"
        },
        "yaxis": {
         "anchor": "x",
         "autorange": "reversed",
         "constrain": "domain",
         "domain": [
          0,
          1
         ]
        }
       }
      }
     },
     "metadata": {},
     "output_type": "display_data"
    }
   ],
   "source": [
    "create_corr_matrix(df.corr())"
   ]
  }
 ],
 "metadata": {
  "kernelspec": {
   "display_name": ".venv",
   "language": "python",
   "name": "python3"
  },
  "language_info": {
   "codemirror_mode": {
    "name": "ipython",
    "version": 3
   },
   "file_extension": ".py",
   "mimetype": "text/x-python",
   "name": "python",
   "nbconvert_exporter": "python",
   "pygments_lexer": "ipython3",
   "version": "3.9.6"
  }
 },
 "nbformat": 4,
 "nbformat_minor": 2
}
