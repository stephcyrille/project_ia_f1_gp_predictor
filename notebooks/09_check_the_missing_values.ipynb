{
 "cells": [
  {
   "cell_type": "code",
   "execution_count": 1,
   "metadata": {},
   "outputs": [],
   "source": [
    "import pandas as pd"
   ]
  },
  {
   "cell_type": "markdown",
   "metadata": {},
   "source": [
    "## 1. Load the Data set"
   ]
  },
  {
   "cell_type": "code",
   "execution_count": 2,
   "metadata": {},
   "outputs": [],
   "source": [
    "df = pd.read_csv('../data/outputs/05_merged_data.csv')"
   ]
  },
  {
   "cell_type": "code",
   "execution_count": 3,
   "metadata": {},
   "outputs": [
    {
     "data": {
      "text/plain": [
       "(6465, 30)"
      ]
     },
     "execution_count": 3,
     "metadata": {},
     "output_type": "execute_result"
    }
   ],
   "source": [
    "df.shape"
   ]
  },
  {
   "cell_type": "code",
   "execution_count": 4,
   "metadata": {},
   "outputs": [
    {
     "name": "stdout",
     "output_type": "stream",
     "text": [
      "<class 'pandas.core.frame.DataFrame'>\n",
      "RangeIndex: 6465 entries, 0 to 6464\n",
      "Data columns (total 30 columns):\n",
      " #   Column                          Non-Null Count  Dtype  \n",
      "---  ------                          --------------  -----  \n",
      " 0   resultId                        6465 non-null   int64  \n",
      " 1   raceId                          6465 non-null   int64  \n",
      " 2   driverId                        6465 non-null   int64  \n",
      " 3   constructorId                   6465 non-null   int64  \n",
      " 4   grid                            6465 non-null   int64  \n",
      " 5   race_rank                       6465 non-null   int64  \n",
      " 6   statusId                        6465 non-null   int64  \n",
      " 7   year                            6465 non-null   int64  \n",
      " 8   round                           6465 non-null   int64  \n",
      " 9   circuitId                       6465 non-null   int64  \n",
      " 10  circuit_name                    6465 non-null   object \n",
      " 11  constructor_name                6465 non-null   object \n",
      " 12  constructor_is_active           6465 non-null   int64  \n",
      " 13  constructor_races_won           6465 non-null   int64  \n",
      " 14  constructor_avg_point           6465 non-null   float64\n",
      " 15  constructor_times_in_top_10     6465 non-null   int64  \n",
      " 16  driver_is_active                6465 non-null   int64  \n",
      " 17  driver_avg_point                6465 non-null   float64\n",
      " 18  driver_avg_speed                6465 non-null   float64\n",
      " 19  race_end_bf_2019                6465 non-null   int64  \n",
      " 20  race_end_in_2019                6465 non-null   int64  \n",
      " 21  race_end_in_2020                6465 non-null   int64  \n",
      " 22  race_end_in_2021                6465 non-null   int64  \n",
      " 23  race_end_in_2022                6465 non-null   int64  \n",
      " 24  race_end_in_2023                6465 non-null   int64  \n",
      " 25  driver_most_won_circuit_id      6465 non-null   int64  \n",
      " 26  driver_nber_of_races_won        6465 non-null   int64  \n",
      " 27  driver_nber_of_times_in_top_10  6465 non-null   int64  \n",
      " 28  full_name                       6465 non-null   object \n",
      " 29  age                             6465 non-null   int64  \n",
      "dtypes: float64(3), int64(24), object(3)\n",
      "memory usage: 1.5+ MB\n"
     ]
    }
   ],
   "source": [
    "df.info()"
   ]
  },
  {
   "cell_type": "markdown",
   "metadata": {},
   "source": [
    "## 2. Find the missing and NAs values"
   ]
  },
  {
   "cell_type": "markdown",
   "metadata": {},
   "source": [
    "### 2.1. Find the NAs"
   ]
  },
  {
   "cell_type": "code",
   "execution_count": 5,
   "metadata": {},
   "outputs": [
    {
     "data": {
      "text/plain": [
       "resultId                          0\n",
       "raceId                            0\n",
       "driverId                          0\n",
       "constructorId                     0\n",
       "grid                              0\n",
       "race_rank                         0\n",
       "statusId                          0\n",
       "year                              0\n",
       "round                             0\n",
       "circuitId                         0\n",
       "circuit_name                      0\n",
       "constructor_name                  0\n",
       "constructor_is_active             0\n",
       "constructor_races_won             0\n",
       "constructor_avg_point             0\n",
       "constructor_times_in_top_10       0\n",
       "driver_is_active                  0\n",
       "driver_avg_point                  0\n",
       "driver_avg_speed                  0\n",
       "race_end_bf_2019                  0\n",
       "race_end_in_2019                  0\n",
       "race_end_in_2020                  0\n",
       "race_end_in_2021                  0\n",
       "race_end_in_2022                  0\n",
       "race_end_in_2023                  0\n",
       "driver_most_won_circuit_id        0\n",
       "driver_nber_of_races_won          0\n",
       "driver_nber_of_times_in_top_10    0\n",
       "full_name                         0\n",
       "age                               0\n",
       "dtype: int64"
      ]
     },
     "execution_count": 5,
     "metadata": {},
     "output_type": "execute_result"
    }
   ],
   "source": [
    "df.isna().sum()"
   ]
  },
  {
   "cell_type": "markdown",
   "metadata": {},
   "source": [
    "### 2.2. The missing values"
   ]
  },
  {
   "cell_type": "code",
   "execution_count": 6,
   "metadata": {},
   "outputs": [],
   "source": [
    "for c in df.columns:\n",
    "    if df.loc[df[c] == '\\\\N'].shape[0] > 0:\n",
    "        print(f\"The column {c} has missing values\")"
   ]
  },
  {
   "cell_type": "code",
   "execution_count": 7,
   "metadata": {},
   "outputs": [
    {
     "data": {
      "text/html": [
       "<div>\n",
       "<style scoped>\n",
       "    .dataframe tbody tr th:only-of-type {\n",
       "        vertical-align: middle;\n",
       "    }\n",
       "\n",
       "    .dataframe tbody tr th {\n",
       "        vertical-align: top;\n",
       "    }\n",
       "\n",
       "    .dataframe thead th {\n",
       "        text-align: right;\n",
       "    }\n",
       "</style>\n",
       "<table border=\"1\" class=\"dataframe\">\n",
       "  <thead>\n",
       "    <tr style=\"text-align: right;\">\n",
       "      <th></th>\n",
       "      <th>resultId</th>\n",
       "      <th>raceId</th>\n",
       "      <th>driverId</th>\n",
       "      <th>constructorId</th>\n",
       "      <th>grid</th>\n",
       "      <th>race_rank</th>\n",
       "      <th>statusId</th>\n",
       "      <th>year</th>\n",
       "      <th>round</th>\n",
       "      <th>circuitId</th>\n",
       "      <th>...</th>\n",
       "      <th>race_end_in_2019</th>\n",
       "      <th>race_end_in_2020</th>\n",
       "      <th>race_end_in_2021</th>\n",
       "      <th>race_end_in_2022</th>\n",
       "      <th>race_end_in_2023</th>\n",
       "      <th>driver_most_won_circuit_id</th>\n",
       "      <th>driver_nber_of_races_won</th>\n",
       "      <th>driver_nber_of_times_in_top_10</th>\n",
       "      <th>full_name</th>\n",
       "      <th>age</th>\n",
       "    </tr>\n",
       "  </thead>\n",
       "  <tbody>\n",
       "    <tr>\n",
       "      <th>0</th>\n",
       "      <td>1</td>\n",
       "      <td>18</td>\n",
       "      <td>1</td>\n",
       "      <td>1</td>\n",
       "      <td>1</td>\n",
       "      <td>2</td>\n",
       "      <td>1</td>\n",
       "      <td>2008</td>\n",
       "      <td>1</td>\n",
       "      <td>1</td>\n",
       "      <td>...</td>\n",
       "      <td>21</td>\n",
       "      <td>16</td>\n",
       "      <td>21</td>\n",
       "      <td>19</td>\n",
       "      <td>12</td>\n",
       "      <td>14</td>\n",
       "      <td>61</td>\n",
       "      <td>276</td>\n",
       "      <td>Lewis Hamilton</td>\n",
       "      <td>23</td>\n",
       "    </tr>\n",
       "    <tr>\n",
       "      <th>1</th>\n",
       "      <td>2</td>\n",
       "      <td>18</td>\n",
       "      <td>2</td>\n",
       "      <td>2</td>\n",
       "      <td>5</td>\n",
       "      <td>3</td>\n",
       "      <td>1</td>\n",
       "      <td>2008</td>\n",
       "      <td>1</td>\n",
       "      <td>1</td>\n",
       "      <td>...</td>\n",
       "      <td>0</td>\n",
       "      <td>0</td>\n",
       "      <td>0</td>\n",
       "      <td>0</td>\n",
       "      <td>0</td>\n",
       "      <td>2</td>\n",
       "      <td>2</td>\n",
       "      <td>31</td>\n",
       "      <td>Nick Heidfeld</td>\n",
       "      <td>31</td>\n",
       "    </tr>\n",
       "    <tr>\n",
       "      <th>2</th>\n",
       "      <td>3</td>\n",
       "      <td>18</td>\n",
       "      <td>3</td>\n",
       "      <td>3</td>\n",
       "      <td>7</td>\n",
       "      <td>5</td>\n",
       "      <td>1</td>\n",
       "      <td>2008</td>\n",
       "      <td>1</td>\n",
       "      <td>1</td>\n",
       "      <td>...</td>\n",
       "      <td>0</td>\n",
       "      <td>0</td>\n",
       "      <td>0</td>\n",
       "      <td>0</td>\n",
       "      <td>0</td>\n",
       "      <td>1</td>\n",
       "      <td>19</td>\n",
       "      <td>136</td>\n",
       "      <td>Nico Rosberg</td>\n",
       "      <td>23</td>\n",
       "    </tr>\n",
       "    <tr>\n",
       "      <th>3</th>\n",
       "      <td>4</td>\n",
       "      <td>18</td>\n",
       "      <td>4</td>\n",
       "      <td>4</td>\n",
       "      <td>11</td>\n",
       "      <td>7</td>\n",
       "      <td>1</td>\n",
       "      <td>2008</td>\n",
       "      <td>1</td>\n",
       "      <td>1</td>\n",
       "      <td>...</td>\n",
       "      <td>0</td>\n",
       "      <td>0</td>\n",
       "      <td>11</td>\n",
       "      <td>12</td>\n",
       "      <td>12</td>\n",
       "      <td>9</td>\n",
       "      <td>12</td>\n",
       "      <td>183</td>\n",
       "      <td>Fernando Alonso</td>\n",
       "      <td>27</td>\n",
       "    </tr>\n",
       "    <tr>\n",
       "      <th>4</th>\n",
       "      <td>5</td>\n",
       "      <td>18</td>\n",
       "      <td>5</td>\n",
       "      <td>1</td>\n",
       "      <td>3</td>\n",
       "      <td>1</td>\n",
       "      <td>1</td>\n",
       "      <td>2008</td>\n",
       "      <td>1</td>\n",
       "      <td>1</td>\n",
       "      <td>...</td>\n",
       "      <td>0</td>\n",
       "      <td>0</td>\n",
       "      <td>0</td>\n",
       "      <td>0</td>\n",
       "      <td>0</td>\n",
       "      <td>1</td>\n",
       "      <td>2</td>\n",
       "      <td>25</td>\n",
       "      <td>Heikki Kovalainen</td>\n",
       "      <td>27</td>\n",
       "    </tr>\n",
       "  </tbody>\n",
       "</table>\n",
       "<p>5 rows × 30 columns</p>\n",
       "</div>"
      ],
      "text/plain": [
       "   resultId  raceId  driverId  constructorId  grid  race_rank  statusId  year  \\\n",
       "0         1      18         1              1     1          2         1  2008   \n",
       "1         2      18         2              2     5          3         1  2008   \n",
       "2         3      18         3              3     7          5         1  2008   \n",
       "3         4      18         4              4    11          7         1  2008   \n",
       "4         5      18         5              1     3          1         1  2008   \n",
       "\n",
       "   round  circuitId  ... race_end_in_2019 race_end_in_2020  race_end_in_2021  \\\n",
       "0      1          1  ...               21               16                21   \n",
       "1      1          1  ...                0                0                 0   \n",
       "2      1          1  ...                0                0                 0   \n",
       "3      1          1  ...                0                0                11   \n",
       "4      1          1  ...                0                0                 0   \n",
       "\n",
       "   race_end_in_2022  race_end_in_2023  driver_most_won_circuit_id  \\\n",
       "0                19                12                          14   \n",
       "1                 0                 0                           2   \n",
       "2                 0                 0                           1   \n",
       "3                12                12                           9   \n",
       "4                 0                 0                           1   \n",
       "\n",
       "   driver_nber_of_races_won  driver_nber_of_times_in_top_10  \\\n",
       "0                        61                             276   \n",
       "1                         2                              31   \n",
       "2                        19                             136   \n",
       "3                        12                             183   \n",
       "4                         2                              25   \n",
       "\n",
       "           full_name  age  \n",
       "0     Lewis Hamilton   23  \n",
       "1      Nick Heidfeld   31  \n",
       "2       Nico Rosberg   23  \n",
       "3    Fernando Alonso   27  \n",
       "4  Heikki Kovalainen   27  \n",
       "\n",
       "[5 rows x 30 columns]"
      ]
     },
     "execution_count": 7,
     "metadata": {},
     "output_type": "execute_result"
    }
   ],
   "source": [
    "df.head()"
   ]
  }
 ],
 "metadata": {
  "kernelspec": {
   "display_name": ".venv",
   "language": "python",
   "name": "python3"
  },
  "language_info": {
   "codemirror_mode": {
    "name": "ipython",
    "version": 3
   },
   "file_extension": ".py",
   "mimetype": "text/x-python",
   "name": "python",
   "nbconvert_exporter": "python",
   "pygments_lexer": "ipython3",
   "version": "3.9.6"
  }
 },
 "nbformat": 4,
 "nbformat_minor": 2
}
