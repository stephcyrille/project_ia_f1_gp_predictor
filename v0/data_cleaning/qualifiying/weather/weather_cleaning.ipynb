{
 "cells": [
  {
   "cell_type": "code",
   "execution_count": 2,
   "id": "38f6f6e7-67c7-4c58-abc3-82e41f453f6d",
   "metadata": {},
   "outputs": [],
   "source": [
    "import datetime\n",
    "import os\n",
    "import pandas as pd\n",
    "import numpy as np\n",
    "from pprint import pprint\n",
    "import requests\n",
    "# Scrappings tools for downloading\n",
    "from selenium import webdriver\n",
    "from selenium.webdriver.chrome.options import Options\n",
    "from selenium.webdriver.common.by import By\n",
    "import time\n",
    "import re"
   ]
  },
  {
   "cell_type": "code",
   "execution_count": 1,
   "id": "3d37b332-7dd1-4a35-b9dd-cc45fd3cd83a",
   "metadata": {},
   "outputs": [],
   "source": [
    "import warnings\n",
    "warnings.filterwarnings(\"ignore\")"
   ]
  },
  {
   "cell_type": "code",
   "execution_count": 3,
   "id": "3a398af4-062e-420d-bb27-a5f8640c3252",
   "metadata": {},
   "outputs": [],
   "source": [
    "qualifiying_weather = pd.read_csv('../../../scrapping/data/qualifiying_weather.csv')"
   ]
  },
  {
   "cell_type": "code",
   "execution_count": 3,
   "id": "fd99bc88-6d6a-4854-b691-f1125b82a92f",
   "metadata": {},
   "outputs": [
    {
     "data": {
      "text/html": [
       "<div>\n",
       "<style scoped>\n",
       "    .dataframe tbody tr th:only-of-type {\n",
       "        vertical-align: middle;\n",
       "    }\n",
       "\n",
       "    .dataframe tbody tr th {\n",
       "        vertical-align: top;\n",
       "    }\n",
       "\n",
       "    .dataframe thead th {\n",
       "        text-align: right;\n",
       "    }\n",
       "</style>\n",
       "<table border=\"1\" class=\"dataframe\">\n",
       "  <thead>\n",
       "    <tr style=\"text-align: right;\">\n",
       "      <th></th>\n",
       "      <th>gp_title</th>\n",
       "      <th>weather</th>\n",
       "      <th>year</th>\n",
       "      <th>title</th>\n",
       "      <th>url</th>\n",
       "    </tr>\n",
       "  </thead>\n",
       "  <tbody>\n",
       "  </tbody>\n",
       "</table>\n",
       "</div>"
      ],
      "text/plain": [
       "Empty DataFrame\n",
       "Columns: [gp_title, weather, year, title, url]\n",
       "Index: []"
      ]
     },
     "execution_count": 3,
     "metadata": {},
     "output_type": "execute_result"
    }
   ],
   "source": [
    "qualifiying_weather.loc[qualifiying_weather[\"weather\"] == '', :]"
   ]
  },
  {
   "cell_type": "code",
   "execution_count": 4,
   "id": "dc514b92-8972-4c13-a933-7853c773acb1",
   "metadata": {},
   "outputs": [
    {
     "data": {
      "text/plain": [
       "0                 Weather: dry  18°C\n",
       "1                 Weather: dry  26°C\n",
       "2             Weather: wet/dry  21°C\n",
       "3                 Weather: dry  16°C\n",
       "4                  Weather: dry 27°C\n",
       "                   ...              \n",
       "154       Weather: Dry, clouded 15ºC\n",
       "155       Weather: Dry, clouded 27ºC\n",
       "156    Weather: Dry, clowdy sky 28ºC\n",
       "157                     Weather: Dry\n",
       "158                     Weather: Dry\n",
       "Name: weather, Length: 159, dtype: object"
      ]
     },
     "execution_count": 4,
     "metadata": {},
     "output_type": "execute_result"
    }
   ],
   "source": [
    "qualifiying_weather[\"weather\"].str.split(\"\\n\").apply(lambda x : x[0])"
   ]
  },
  {
   "cell_type": "code",
   "execution_count": 5,
   "id": "8c8dd237-fa17-4655-a8ae-3995e5ad0245",
   "metadata": {},
   "outputs": [],
   "source": [
    "t = 'Weather: dry  18°C\\nTarmac: dry  25°C\\nHumidity: 86%\\nWind: 1 km/h SW\\nPressure: 962 mbar'"
   ]
  },
  {
   "cell_type": "code",
   "execution_count": 6,
   "id": "db7c01b6-cf2a-4d6d-b839-a1c011371ec2",
   "metadata": {},
   "outputs": [
    {
     "data": {
      "text/plain": [
       "'dry'"
      ]
     },
     "execution_count": 6,
     "metadata": {},
     "output_type": "execute_result"
    }
   ],
   "source": [
    "t.split(\"\\n\")[0].split(\":\")[1].split(\" \")[1]"
   ]
  },
  {
   "cell_type": "code",
   "execution_count": 7,
   "id": "28185e30-4648-477b-9d05-bb03f337f37e",
   "metadata": {},
   "outputs": [],
   "source": [
    "qualifiying_weather['clean_weather'] = qualifiying_weather[\"weather\"].str.split(\"\\n\")\\\n",
    "                                            .apply(lambda x : x[0]).str.split(\":\")\\\n",
    "                                            .apply(lambda x : re.sub('[°C0-9]', '', x[1])\n",
    "                                                   .replace(\"º\",\"\").replace('.-.','')\n",
    "                                                   .replace(' ','').replace('--','')\n",
    "                                                   .replace('-','').replace(' - ','')\n",
    "                                                   .replace('.,','').replace(',.','')\n",
    "                                                   .replace(' .', '').replace(' ,', ''))"
   ]
  },
  {
   "cell_type": "code",
   "execution_count": 8,
   "id": "ce90477c-f8dc-4d34-bbbd-28bc20d29280",
   "metadata": {},
   "outputs": [],
   "source": [
    "qualifiying_weather['clean_weather'] = qualifiying_weather['clean_weather']\\\n",
    "            .apply(lambda x: x[:-1] if x.endswith(',') or x.endswith('.') else x)"
   ]
  },
  {
   "cell_type": "code",
   "execution_count": 9,
   "id": "c8e94659-138c-4e34-96ee-ca1f2cb62331",
   "metadata": {},
   "outputs": [],
   "source": [
    "qualifiying_weather['clean_weather'] = qualifiying_weather['clean_weather']\\\n",
    "            .apply(lambda x: x[1:] if x.startswith('.') or x.startswith(',') or x.startswith(' .') else x)"
   ]
  },
  {
   "cell_type": "code",
   "execution_count": 10,
   "id": "30cceb05-29c4-4752-9816-83d33967bbcf",
   "metadata": {},
   "outputs": [],
   "source": [
    "qualifiying_weather['clean_weather'] = qualifiying_weather[\"clean_weather\"].str.replace('/',',')"
   ]
  },
  {
   "cell_type": "code",
   "execution_count": 11,
   "id": "53be170e-7069-4956-a86e-1cba844443c0",
   "metadata": {},
   "outputs": [],
   "source": [
    "qualifiying_weather['clean_weather'] = qualifiying_weather[\"clean_weather\"].str.replace('&',',')"
   ]
  },
  {
   "cell_type": "code",
   "execution_count": 12,
   "id": "86e58d75-f4a8-4abc-a996-f0116ff767c3",
   "metadata": {},
   "outputs": [],
   "source": [
    "qualifiying_weather['clean_weather'] = qualifiying_weather['clean_weather'].str.lower()"
   ]
  },
  {
   "cell_type": "code",
   "execution_count": 13,
   "id": "54d2632a-3157-44af-b2a6-e7c886519a59",
   "metadata": {},
   "outputs": [],
   "source": [
    "qualifiying_weather['year'] = qualifiying_weather['year'].astype(str) "
   ]
  },
  {
   "cell_type": "code",
   "execution_count": 14,
   "id": "2c45b6ea-ae54-454c-b781-d7e9c770c643",
   "metadata": {},
   "outputs": [],
   "source": [
    "qualifiying_weather['year'] = qualifiying_weather['year'].str.split(\".\").apply(lambda x : x[0])"
   ]
  },
  {
   "cell_type": "code",
   "execution_count": 15,
   "id": "d7745ac4-57b1-48ee-a5d2-0ca681b579d2",
   "metadata": {},
   "outputs": [],
   "source": [
    "qualifiying_weather.drop(118, inplace=True)"
   ]
  },
  {
   "cell_type": "code",
   "execution_count": 16,
   "id": "2927b657-e740-4c2a-ad6d-2c7634658bc5",
   "metadata": {},
   "outputs": [],
   "source": [
    "cleaned_df = qualifiying_weather[['gp_title', 'year', 'clean_weather']]"
   ]
  },
  {
   "cell_type": "code",
   "execution_count": 17,
   "id": "33fb19dd-2946-46b9-839a-7c3702e3a8df",
   "metadata": {},
   "outputs": [
    {
     "data": {
      "text/html": [
       "<div>\n",
       "<style scoped>\n",
       "    .dataframe tbody tr th:only-of-type {\n",
       "        vertical-align: middle;\n",
       "    }\n",
       "\n",
       "    .dataframe tbody tr th {\n",
       "        vertical-align: top;\n",
       "    }\n",
       "\n",
       "    .dataframe thead th {\n",
       "        text-align: right;\n",
       "    }\n",
       "</style>\n",
       "<table border=\"1\" class=\"dataframe\">\n",
       "  <thead>\n",
       "    <tr style=\"text-align: right;\">\n",
       "      <th></th>\n",
       "      <th>gp_title</th>\n",
       "      <th>year</th>\n",
       "      <th>clean_weather</th>\n",
       "    </tr>\n",
       "  </thead>\n",
       "  <tbody>\n",
       "    <tr>\n",
       "      <th>0</th>\n",
       "      <td>Belgian Grand Prix</td>\n",
       "      <td>2023</td>\n",
       "      <td>dry</td>\n",
       "    </tr>\n",
       "    <tr>\n",
       "      <th>1</th>\n",
       "      <td>Hungarian F1 Grand Prix</td>\n",
       "      <td>2023</td>\n",
       "      <td>dry</td>\n",
       "    </tr>\n",
       "    <tr>\n",
       "      <th>2</th>\n",
       "      <td>British F1 Grand Prix</td>\n",
       "      <td>2023</td>\n",
       "      <td>wet,dry</td>\n",
       "    </tr>\n",
       "    <tr>\n",
       "      <th>3</th>\n",
       "      <td>Austrian F1 Grand Prix</td>\n",
       "      <td>2023</td>\n",
       "      <td>dry</td>\n",
       "    </tr>\n",
       "    <tr>\n",
       "      <th>4</th>\n",
       "      <td>Austrian F1 GP</td>\n",
       "      <td>2023</td>\n",
       "      <td>dry</td>\n",
       "    </tr>\n",
       "    <tr>\n",
       "      <th>...</th>\n",
       "      <td>...</td>\n",
       "      <td>...</td>\n",
       "      <td>...</td>\n",
       "    </tr>\n",
       "    <tr>\n",
       "      <th>154</th>\n",
       "      <td>Russian Grand Prix</td>\n",
       "      <td>2015</td>\n",
       "      <td>dry,clouded</td>\n",
       "    </tr>\n",
       "    <tr>\n",
       "      <th>155</th>\n",
       "      <td>Japanese Grand Prix</td>\n",
       "      <td>2015</td>\n",
       "      <td>dry,clouded</td>\n",
       "    </tr>\n",
       "    <tr>\n",
       "      <th>156</th>\n",
       "      <td>Singapore Grand Prix</td>\n",
       "      <td>2015</td>\n",
       "      <td>dry,clowdysky</td>\n",
       "    </tr>\n",
       "    <tr>\n",
       "      <th>157</th>\n",
       "      <td>US F1 Grand Prix</td>\n",
       "      <td>2012</td>\n",
       "      <td>dry</td>\n",
       "    </tr>\n",
       "    <tr>\n",
       "      <th>158</th>\n",
       "      <td>Indian Grand Prix</td>\n",
       "      <td>2012</td>\n",
       "      <td>dry</td>\n",
       "    </tr>\n",
       "  </tbody>\n",
       "</table>\n",
       "<p>158 rows × 3 columns</p>\n",
       "</div>"
      ],
      "text/plain": [
       "                    gp_title  year  clean_weather\n",
       "0         Belgian Grand Prix  2023            dry\n",
       "1    Hungarian F1 Grand Prix  2023            dry\n",
       "2      British F1 Grand Prix  2023        wet,dry\n",
       "3     Austrian F1 Grand Prix  2023            dry\n",
       "4             Austrian F1 GP  2023            dry\n",
       "..                       ...   ...            ...\n",
       "154       Russian Grand Prix  2015    dry,clouded\n",
       "155      Japanese Grand Prix  2015    dry,clouded\n",
       "156     Singapore Grand Prix  2015  dry,clowdysky\n",
       "157         US F1 Grand Prix  2012            dry\n",
       "158        Indian Grand Prix  2012            dry\n",
       "\n",
       "[158 rows x 3 columns]"
      ]
     },
     "execution_count": 17,
     "metadata": {},
     "output_type": "execute_result"
    }
   ],
   "source": [
    "cleaned_df"
   ]
  },
  {
   "cell_type": "code",
   "execution_count": 18,
   "id": "2dc85e8a-77f2-41f6-a262-270217764d5b",
   "metadata": {},
   "outputs": [],
   "source": [
    "if not os.path.exists('./output'):\n",
    "    os.mkdir('./output')\n",
    "cleaned_df.to_csv('./stagging/stagging_weather.csv', index = False)"
   ]
  }
 ],
 "metadata": {
  "kernelspec": {
   "display_name": "Python 3 (ipykernel)",
   "language": "python",
   "name": "python3"
  },
  "language_info": {
   "codemirror_mode": {
    "name": "ipython",
    "version": 3
   },
   "file_extension": ".py",
   "mimetype": "text/x-python",
   "name": "python",
   "nbconvert_exporter": "python",
   "pygments_lexer": "ipython3",
   "version": "3.11.4"
  }
 },
 "nbformat": 4,
 "nbformat_minor": 5
}
