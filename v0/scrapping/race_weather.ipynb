{
 "cells": [
  {
   "cell_type": "code",
   "execution_count": 15,
   "id": "6359acc1-de41-42b6-b391-2dc13b3c7616",
   "metadata": {},
   "outputs": [],
   "source": [
    "import os\n",
    "import datetime\n",
    "import pandas as pd\n",
    "import numpy as np\n",
    "\n",
    "# Scrappings tools for downloading\n",
    "from selenium import webdriver\n",
    "from selenium.common.exceptions import NoSuchElementException\n",
    "from selenium.webdriver.chrome.options import Options\n",
    "from selenium.webdriver.common.by import By\n",
    "import time\n",
    "import re"
   ]
  },
  {
   "cell_type": "code",
   "execution_count": 2,
   "id": "306cc428-ed58-4107-851e-352f8c372e79",
   "metadata": {},
   "outputs": [],
   "source": [
    "import warnings\n",
    "warnings.filterwarnings(\"ignore\")"
   ]
  },
  {
   "cell_type": "markdown",
   "id": "671cf97f-530d-4f46-937a-6ca1478b2329",
   "metadata": {},
   "source": [
    "### Set a time tracker \n",
    "We use it to count a global time for our script execution"
   ]
  },
  {
   "cell_type": "code",
   "execution_count": 3,
   "id": "dd3f3384-2719-49a2-9a0a-d3b5a388c3e6",
   "metadata": {},
   "outputs": [],
   "source": [
    "start = time.time()"
   ]
  },
  {
   "cell_type": "markdown",
   "id": "a7028955-0644-4266-b9d8-53d2a2388b54",
   "metadata": {},
   "source": [
    "### Initialize Selenium webdriver for Chrome\n",
    "As we are using Selenium in a remote Notebook, we don't have a real OS for testing purpose. So Selenium has a feature that help us to make web scrapping from a remote server.\n",
    "The feature is a Remote driver.\n",
    "The url of our remote driver online tool manager (**Selenium grid**) is <a target=\"_blank\" href=\"http://141.145.214.205:4444\">here</a>"
   ]
  },
  {
   "cell_type": "code",
   "execution_count": 4,
   "id": "c20b73bc-b40a-4bb0-af21-f07ad9349943",
   "metadata": {},
   "outputs": [],
   "source": [
    "# Setting options for the web driver \n",
    "chrome_options = webdriver.ChromeOptions()\n",
    "chrome_options.add_argument('--headless')\n",
    "hub_url = \"http://selenium-hub:4444/wd/hub\""
   ]
  },
  {
   "cell_type": "code",
   "execution_count": 5,
   "id": "7e13cd23-c622-40f4-b32f-de85dea9fed7",
   "metadata": {},
   "outputs": [],
   "source": [
    "races = pd.read_csv('./data/races.csv')"
   ]
  },
  {
   "cell_type": "code",
   "execution_count": 6,
   "id": "b38faf99-ccda-4349-a83e-acb88c892dc6",
   "metadata": {},
   "outputs": [],
   "source": [
    "# Creating weather column with empties value\n",
    "races[\"weather\"] = ''"
   ]
  },
  {
   "cell_type": "code",
   "execution_count": 7,
   "id": "24051013-f2c6-4fa5-9052-42b1aaa302b4",
   "metadata": {},
   "outputs": [
    {
     "data": {
      "text/html": [
       "<div>\n",
       "<style scoped>\n",
       "    .dataframe tbody tr th:only-of-type {\n",
       "        vertical-align: middle;\n",
       "    }\n",
       "\n",
       "    .dataframe tbody tr th {\n",
       "        vertical-align: top;\n",
       "    }\n",
       "\n",
       "    .dataframe thead th {\n",
       "        text-align: right;\n",
       "    }\n",
       "</style>\n",
       "<table border=\"1\" class=\"dataframe\">\n",
       "  <thead>\n",
       "    <tr style=\"text-align: right;\">\n",
       "      <th></th>\n",
       "      <th>season</th>\n",
       "      <th>round</th>\n",
       "      <th>circuit_id</th>\n",
       "      <th>lat</th>\n",
       "      <th>long</th>\n",
       "      <th>country</th>\n",
       "      <th>date</th>\n",
       "      <th>url</th>\n",
       "      <th>weather</th>\n",
       "    </tr>\n",
       "  </thead>\n",
       "  <tbody>\n",
       "    <tr>\n",
       "      <th>0</th>\n",
       "      <td>1950</td>\n",
       "      <td>1</td>\n",
       "      <td>silverstone</td>\n",
       "      <td>52.0786</td>\n",
       "      <td>-1.01694</td>\n",
       "      <td>UK</td>\n",
       "      <td>1950-05-13</td>\n",
       "      <td>http://en.wikipedia.org/wiki/1950_British_Gran...</td>\n",
       "      <td></td>\n",
       "    </tr>\n",
       "    <tr>\n",
       "      <th>1</th>\n",
       "      <td>1950</td>\n",
       "      <td>2</td>\n",
       "      <td>monaco</td>\n",
       "      <td>43.7347</td>\n",
       "      <td>7.42056</td>\n",
       "      <td>Monaco</td>\n",
       "      <td>1950-05-21</td>\n",
       "      <td>http://en.wikipedia.org/wiki/1950_Monaco_Grand...</td>\n",
       "      <td></td>\n",
       "    </tr>\n",
       "    <tr>\n",
       "      <th>2</th>\n",
       "      <td>1950</td>\n",
       "      <td>3</td>\n",
       "      <td>indianapolis</td>\n",
       "      <td>39.7950</td>\n",
       "      <td>-86.23470</td>\n",
       "      <td>USA</td>\n",
       "      <td>1950-05-30</td>\n",
       "      <td>http://en.wikipedia.org/wiki/1950_Indianapolis...</td>\n",
       "      <td></td>\n",
       "    </tr>\n",
       "    <tr>\n",
       "      <th>3</th>\n",
       "      <td>1950</td>\n",
       "      <td>4</td>\n",
       "      <td>bremgarten</td>\n",
       "      <td>46.9589</td>\n",
       "      <td>7.40194</td>\n",
       "      <td>Switzerland</td>\n",
       "      <td>1950-06-04</td>\n",
       "      <td>http://en.wikipedia.org/wiki/1950_Swiss_Grand_...</td>\n",
       "      <td></td>\n",
       "    </tr>\n",
       "    <tr>\n",
       "      <th>4</th>\n",
       "      <td>1950</td>\n",
       "      <td>5</td>\n",
       "      <td>spa</td>\n",
       "      <td>50.4372</td>\n",
       "      <td>5.97139</td>\n",
       "      <td>Belgium</td>\n",
       "      <td>1950-06-18</td>\n",
       "      <td>http://en.wikipedia.org/wiki/1950_Belgian_Gran...</td>\n",
       "      <td></td>\n",
       "    </tr>\n",
       "  </tbody>\n",
       "</table>\n",
       "</div>"
      ],
      "text/plain": [
       "   season  round    circuit_id      lat      long      country        date  \\\n",
       "0    1950      1   silverstone  52.0786  -1.01694           UK  1950-05-13   \n",
       "1    1950      2        monaco  43.7347   7.42056       Monaco  1950-05-21   \n",
       "2    1950      3  indianapolis  39.7950 -86.23470          USA  1950-05-30   \n",
       "3    1950      4    bremgarten  46.9589   7.40194  Switzerland  1950-06-04   \n",
       "4    1950      5           spa  50.4372   5.97139      Belgium  1950-06-18   \n",
       "\n",
       "                                                 url weather  \n",
       "0  http://en.wikipedia.org/wiki/1950_British_Gran...          \n",
       "1  http://en.wikipedia.org/wiki/1950_Monaco_Grand...          \n",
       "2  http://en.wikipedia.org/wiki/1950_Indianapolis...          \n",
       "3  http://en.wikipedia.org/wiki/1950_Swiss_Grand_...          \n",
       "4  http://en.wikipedia.org/wiki/1950_Belgian_Gran...          "
      ]
     },
     "execution_count": 7,
     "metadata": {},
     "output_type": "execute_result"
    }
   ],
   "source": [
    "races.head()"
   ]
  },
  {
   "cell_type": "markdown",
   "id": "5f31ac75-1dcd-4fe5-92ac-942fb0c04c34",
   "metadata": {},
   "source": [
    "## Scrapping weather data function"
   ]
  },
  {
   "cell_type": "code",
   "execution_count": 8,
   "id": "1e5630a8-073b-465a-aba6-1cc55051f458",
   "metadata": {},
   "outputs": [],
   "source": [
    "def get_weather_data(races):\n",
    "    data = {'season': [],\n",
    "            'round': [],\n",
    "            'circuit_id': [],\n",
    "            'lat': [],\n",
    "            'long': [],\n",
    "            'country': [],\n",
    "            'date': [],\n",
    "            'weather': []}\n",
    "    \n",
    "    \n",
    "    for index, row in races.iterrows():\n",
    "        url = row[\"url\"]\n",
    "        \n",
    "        data[\"season\"].append(row['season'])\n",
    "        data[\"round\"].append(row['round'])\n",
    "        data[\"circuit_id\"].append(row['circuit_id'])\n",
    "        data[\"lat\"].append(row['lat'])\n",
    "        data[\"long\"].append(row['long'])\n",
    "        data[\"country\"].append(row['country'])\n",
    "        data[\"date\"].append(row['date'])\n",
    "        \n",
    "        with webdriver.Remote(command_executor=hub_url, options=chrome_options) as driver:\n",
    "            # Open the web page\n",
    "            driver.get(url)\n",
    "        \n",
    "            try:\n",
    "                weather_elt = driver.find_element(By.XPATH,'//table[@class=\"infobox vevent\"]')\n",
    "                value = weather_elt.text\n",
    "                if re.findall(r\"\\b\\w*Weather\\w*\\b\", value):\n",
    "                    data[\"weather\"].append(value)\n",
    "                else:\n",
    "                    data[\"weather\"].append('')\n",
    "            except Exception as e:\n",
    "                print(f\"error url: {url}\")\n",
    "                data[\"weather\"].append('')\n",
    "            \n",
    "            driver.close()\n",
    "\n",
    "    return data"
   ]
  },
  {
   "cell_type": "code",
   "execution_count": 9,
   "id": "8c7ab5af-16db-43a0-a741-a56032419f67",
   "metadata": {},
   "outputs": [
    {
     "name": "stdout",
     "output_type": "stream",
     "text": [
      "error url: https://en.wikipedia.org/wiki/2023_Dutch_Grand_Prix\n",
      "error url: https://en.wikipedia.org/wiki/2023_Italian_Grand_Prix\n",
      "error url: https://en.wikipedia.org/wiki/2023_Singapore_Grand_Prix\n",
      "error url: https://en.wikipedia.org/wiki/2023_Japanese_Grand_Prix\n",
      "error url: https://en.wikipedia.org/wiki/2023_Qatar_Grand_Prix\n",
      "error url: https://en.wikipedia.org/wiki/2023_United_States_Grand_Prix\n",
      "error url: https://en.wikipedia.org/wiki/2023_Mexico_City_Grand_Prix\n",
      "error url: https://en.wikipedia.org/wiki/2023_S%C3%A3o_Paulo_Grand_Prix\n",
      "error url: https://en.wikipedia.org/wiki/2023_Las_Vegas_Grand_Prix\n",
      "error url: https://en.wikipedia.org/wiki/2023_Abu_Dhabi_Grand_Prix\n"
     ]
    }
   ],
   "source": [
    "race_weather_list = get_weather_data(races)"
   ]
  },
  {
   "cell_type": "code",
   "execution_count": 10,
   "id": "3e73af35-47e2-48d8-af6c-8229ceaeca63",
   "metadata": {},
   "outputs": [],
   "source": [
    "df = pd.DataFrame(race_weather_list)"
   ]
  },
  {
   "cell_type": "code",
   "execution_count": 11,
   "id": "40d15c21-214e-4fd8-9dff-124720770489",
   "metadata": {},
   "outputs": [],
   "source": [
    "end = time.time()"
   ]
  },
  {
   "cell_type": "code",
   "execution_count": 12,
   "id": "847b62cd-e053-4c86-8b6d-bfdce644ec5a",
   "metadata": {},
   "outputs": [
    {
     "data": {
      "text/plain": [
       "'0:15:03.760384'"
      ]
     },
     "execution_count": 12,
     "metadata": {},
     "output_type": "execute_result"
    }
   ],
   "source": [
    "str(datetime.timedelta(seconds=(end - start)))"
   ]
  },
  {
   "cell_type": "code",
   "execution_count": 13,
   "id": "3add0f5d-1015-4d18-a1b7-144c8023b1a9",
   "metadata": {},
   "outputs": [
    {
     "data": {
      "text/html": [
       "<div>\n",
       "<style scoped>\n",
       "    .dataframe tbody tr th:only-of-type {\n",
       "        vertical-align: middle;\n",
       "    }\n",
       "\n",
       "    .dataframe tbody tr th {\n",
       "        vertical-align: top;\n",
       "    }\n",
       "\n",
       "    .dataframe thead th {\n",
       "        text-align: right;\n",
       "    }\n",
       "</style>\n",
       "<table border=\"1\" class=\"dataframe\">\n",
       "  <thead>\n",
       "    <tr style=\"text-align: right;\">\n",
       "      <th></th>\n",
       "      <th>season</th>\n",
       "      <th>round</th>\n",
       "      <th>circuit_id</th>\n",
       "      <th>lat</th>\n",
       "      <th>long</th>\n",
       "      <th>country</th>\n",
       "      <th>date</th>\n",
       "      <th>weather</th>\n",
       "    </tr>\n",
       "  </thead>\n",
       "  <tbody>\n",
       "    <tr>\n",
       "      <th>0</th>\n",
       "      <td>1950</td>\n",
       "      <td>1</td>\n",
       "      <td>silverstone</td>\n",
       "      <td>52.0786</td>\n",
       "      <td>-1.01694</td>\n",
       "      <td>UK</td>\n",
       "      <td>1950-05-13</td>\n",
       "      <td>1950 British Grand Prix\\nNext race →\\nSilverst...</td>\n",
       "    </tr>\n",
       "    <tr>\n",
       "      <th>1</th>\n",
       "      <td>1950</td>\n",
       "      <td>2</td>\n",
       "      <td>monaco</td>\n",
       "      <td>43.7347</td>\n",
       "      <td>7.42056</td>\n",
       "      <td>Monaco</td>\n",
       "      <td>1950-05-21</td>\n",
       "      <td></td>\n",
       "    </tr>\n",
       "    <tr>\n",
       "      <th>2</th>\n",
       "      <td>1950</td>\n",
       "      <td>3</td>\n",
       "      <td>indianapolis</td>\n",
       "      <td>39.7950</td>\n",
       "      <td>-86.23470</td>\n",
       "      <td>USA</td>\n",
       "      <td>1950-05-30</td>\n",
       "      <td>1950 Indianapolis 500\\n← Previous race Next ra...</td>\n",
       "    </tr>\n",
       "    <tr>\n",
       "      <th>3</th>\n",
       "      <td>1950</td>\n",
       "      <td>4</td>\n",
       "      <td>bremgarten</td>\n",
       "      <td>46.9589</td>\n",
       "      <td>7.40194</td>\n",
       "      <td>Switzerland</td>\n",
       "      <td>1950-06-04</td>\n",
       "      <td>1950 Swiss Grand Prix\\n← Previous race Next ra...</td>\n",
       "    </tr>\n",
       "    <tr>\n",
       "      <th>4</th>\n",
       "      <td>1950</td>\n",
       "      <td>5</td>\n",
       "      <td>spa</td>\n",
       "      <td>50.4372</td>\n",
       "      <td>5.97139</td>\n",
       "      <td>Belgium</td>\n",
       "      <td>1950-06-18</td>\n",
       "      <td>1950 Belgian Grand Prix\\n← Previous race Next ...</td>\n",
       "    </tr>\n",
       "  </tbody>\n",
       "</table>\n",
       "</div>"
      ],
      "text/plain": [
       "   season  round    circuit_id      lat      long      country        date  \\\n",
       "0    1950      1   silverstone  52.0786  -1.01694           UK  1950-05-13   \n",
       "1    1950      2        monaco  43.7347   7.42056       Monaco  1950-05-21   \n",
       "2    1950      3  indianapolis  39.7950 -86.23470          USA  1950-05-30   \n",
       "3    1950      4    bremgarten  46.9589   7.40194  Switzerland  1950-06-04   \n",
       "4    1950      5           spa  50.4372   5.97139      Belgium  1950-06-18   \n",
       "\n",
       "                                             weather  \n",
       "0  1950 British Grand Prix\\nNext race →\\nSilverst...  \n",
       "1                                                     \n",
       "2  1950 Indianapolis 500\\n← Previous race Next ra...  \n",
       "3  1950 Swiss Grand Prix\\n← Previous race Next ra...  \n",
       "4  1950 Belgian Grand Prix\\n← Previous race Next ...  "
      ]
     },
     "execution_count": 13,
     "metadata": {},
     "output_type": "execute_result"
    }
   ],
   "source": [
    "df.head()"
   ]
  },
  {
   "cell_type": "code",
   "execution_count": 16,
   "id": "1f12023b-cae4-47a9-841f-438a7f346e93",
   "metadata": {},
   "outputs": [],
   "source": [
    "if not os.path.exists('./data'):\n",
    "    os.mkdir('./data')\n",
    "df.to_csv('./data/races_weather.csv', index = False)"
   ]
  },
  {
   "cell_type": "code",
   "execution_count": null,
   "id": "c85b4921-48c1-4ad7-bc6d-52cb15c5bfa0",
   "metadata": {},
   "outputs": [],
   "source": []
  }
 ],
 "metadata": {
  "kernelspec": {
   "display_name": "Python 3 (ipykernel)",
   "language": "python",
   "name": "python3"
  },
  "language_info": {
   "codemirror_mode": {
    "name": "ipython",
    "version": 3
   },
   "file_extension": ".py",
   "mimetype": "text/x-python",
   "name": "python",
   "nbconvert_exporter": "python",
   "pygments_lexer": "ipython3",
   "version": "3.11.4"
  }
 },
 "nbformat": 4,
 "nbformat_minor": 5
}
