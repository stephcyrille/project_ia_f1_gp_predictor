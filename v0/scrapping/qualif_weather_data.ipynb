{
 "cells": [
  {
   "cell_type": "markdown",
   "id": "d3799f97-57f2-4f2b-a167-6345d02345d7",
   "metadata": {},
   "source": [
    "## Library importation "
   ]
  },
  {
   "cell_type": "code",
   "execution_count": 1,
   "id": "f6b9cb23-fae7-4d40-9d61-47ef6c1443dd",
   "metadata": {},
   "outputs": [],
   "source": [
    "import datetime\n",
    "import os\n",
    "import pandas as pd\n",
    "import numpy as np\n",
    "from pprint import pprint\n",
    "import requests\n",
    "# Scrappings tools for downloading\n",
    "from selenium import webdriver\n",
    "from selenium.webdriver.chrome.options import Options\n",
    "from selenium.webdriver.common.by import By\n",
    "import time\n",
    "import re"
   ]
  },
  {
   "cell_type": "code",
   "execution_count": 2,
   "id": "dfe6855f-fc43-48eb-830e-875cc0128c28",
   "metadata": {},
   "outputs": [],
   "source": [
    "import warnings\n",
    "warnings.filterwarnings(\"ignore\")"
   ]
  },
  {
   "cell_type": "markdown",
   "id": "de5ae8b7-6793-4e77-bfd0-e40927dd4671",
   "metadata": {},
   "source": [
    "### Set a time tracker \n",
    "We use it to count a global time for our script execution"
   ]
  },
  {
   "cell_type": "code",
   "execution_count": 3,
   "id": "c684af64-14ce-4748-8593-ac66b2a620b1",
   "metadata": {},
   "outputs": [],
   "source": [
    "start = time.time()"
   ]
  },
  {
   "cell_type": "markdown",
   "id": "9f1cedf6-4881-4ce3-82a6-17c9a343238f",
   "metadata": {},
   "source": [
    "### Initialize Selenium webdriver for Chrome\n",
    "As we are using Selenium in a remote Notebook, we don't have a real OS for testing purpose. So Selenium has a feature that help us to make web scrapping from a remote server.\n",
    "The feature is a Remote driver.\n",
    "The url of our remote driver online tool manager (**Selenium grid**) is <a target=\"_blank\" href=\"http://141.145.214.205:4444\">here</a>\n"
   ]
  },
  {
   "cell_type": "code",
   "execution_count": 4,
   "id": "abcae2f9-5a35-494a-ae8b-3c6b1ce133ce",
   "metadata": {},
   "outputs": [],
   "source": [
    "# Setting options for the web driver \n",
    "chrome_options = webdriver.ChromeOptions()\n",
    "chrome_options.add_argument('--headless')\n",
    "hub_url = \"http://selenium-hub:4444/wd/hub\""
   ]
  },
  {
   "cell_type": "markdown",
   "id": "1efb0bab-09cd-4140-82f5-dd2f92d4f700",
   "metadata": {},
   "source": [
    "## 1. Creation of a function that return Qualifiyings links \n",
    "It is important to run Selenium driver with **with** expression as in the next lines, is a best practice that help us to preserve our memory by closing the browser usage in memory, even if we have an error that occurs when the scripts has started"
   ]
  },
  {
   "cell_type": "code",
   "execution_count": 5,
   "id": "66c44c18-6cb0-443f-b407-87ae0e727529",
   "metadata": {},
   "outputs": [],
   "source": [
    "def get_round_urls():\n",
    "    all_round_urls = []\n",
    "\n",
    "    # Calling remote driver for selenium\n",
    "    with webdriver.Remote(command_executor=hub_url, options=chrome_options) as driver:\n",
    "        for page in range(1, 12):\n",
    "            base_url = \"https://www.f1-fansite.com/tag/f1-qualifying-times/page/%s/\" % page\n",
    "        \n",
    "            # Open the web page\n",
    "            driver.get(base_url)\n",
    "\n",
    "            # Now grab the all rounds html link elements by their XPATH\n",
    "            round_elements_list = driver.find_elements(By.XPATH,'//div[@class=\"post_content pc_full\"]/h2/a')\n",
    "\n",
    "            if(len(round_elements_list) > 0):\n",
    "                for round in round_elements_list:\n",
    "                    qualifiying_matches = re.findall(r\"\\b\\w*qualifying\\w*\\b\", round.get_attribute(\"href\"))\n",
    "                    if qualifiying_matches:\n",
    "                        all_round_urls.append(round.get_attribute(\"href\"))\n",
    "    \n",
    "        driver.close()\n",
    "        \n",
    "    return all_round_urls"
   ]
  },
  {
   "cell_type": "code",
   "execution_count": 6,
   "id": "fe6fcb0a-ced8-4a22-a2b1-ee5368464756",
   "metadata": {},
   "outputs": [],
   "source": [
    "def get_data_list(urls):\n",
    "\n",
    "    data = {'gp_title': [],\n",
    "               'weather':[],\n",
    "               'year':[],\n",
    "               'title': [],\n",
    "               'url':[],}\n",
    "    \n",
    "        \n",
    "    with webdriver.Remote(command_executor=hub_url, options=chrome_options) as driver:\n",
    "        for url in urls:\n",
    "        \n",
    "            base_url = url\n",
    "            \n",
    "            # Open the web page\n",
    "            driver.get(base_url)\n",
    "        \n",
    "            try:\n",
    "                # Now grab the all rounds html link elements by their XPATH\n",
    "                title = driver.find_element(By.XPATH,'//div[@id=\"content\"]/div[1]/div[1]/h1')\n",
    "                weather = driver.find_element(By.XPATH,'/html/body/div[1]/div/div[4]/div/div[1]/div[1]/div[2]/p[2]')\n",
    "                gp_round = driver.find_element(By.XPATH,'/html/body/div[1]/div/div[4]/div/div[1]/div[1]/div[2]/p[1]/a[1]')\n",
    "                \n",
    "                weather_block_text = weather.text\n",
    "                article_title = title.text\n",
    "                round_name = gp_round.text\n",
    "            \n",
    "                year = ''\n",
    "                pattern = r'\\b\\d{4}\\b'\n",
    "                matches = re.findall(pattern, article_title)\n",
    "                \n",
    "                if matches:\n",
    "                    year = matches[0]\n",
    "        \n",
    "                data['year'].append(year)\n",
    "                data['gp_title'].append(round_name)\n",
    "                data['weather'].append(weather_block_text)\n",
    "                data['title'].append(article_title)\n",
    "                data['url'].append(url)\n",
    "                    \n",
    "            except Exception as e:\n",
    "                print(\"No Xptah found\")\n",
    "                print(base_url)\n",
    "            \n",
    "            \n",
    "            \n",
    "        driver.close()\n",
    "    \n",
    "    return data"
   ]
  },
  {
   "cell_type": "code",
   "execution_count": 7,
   "id": "447893af-4b92-41c2-8d65-50f3adce2dcb",
   "metadata": {},
   "outputs": [],
   "source": [
    "urls = get_round_urls()"
   ]
  },
  {
   "cell_type": "code",
   "execution_count": 8,
   "id": "ac5486f8-8322-4da7-8b02-99a39ce3f8a1",
   "metadata": {},
   "outputs": [
    {
     "name": "stdout",
     "output_type": "stream",
     "text": [
      "No Xptah found\n",
      "https://www.f1-fansite.com/f1-news/steiner-q4-qualifying-could-favour-big-teams/\n",
      "No Xptah found\n",
      "https://www.f1-fansite.com/f1-news/brawn-no-q4-qualifying-for-2019/\n",
      "No Xptah found\n",
      "https://www.f1-fansite.com/f1-news/liberty-considers-f1-qualifying-race/\n"
     ]
    }
   ],
   "source": [
    "data = get_data_list(urls) "
   ]
  },
  {
   "cell_type": "code",
   "execution_count": 9,
   "id": "80afbbb8-70c3-4dcf-ae54-2a5e449b52bc",
   "metadata": {},
   "outputs": [],
   "source": [
    "df = pd.DataFrame(data)"
   ]
  },
  {
   "cell_type": "code",
   "execution_count": 10,
   "id": "e383d0d0-4dbc-4e2a-af12-12797c8d3f7e",
   "metadata": {},
   "outputs": [
    {
     "data": {
      "text/html": [
       "<div>\n",
       "<style scoped>\n",
       "    .dataframe tbody tr th:only-of-type {\n",
       "        vertical-align: middle;\n",
       "    }\n",
       "\n",
       "    .dataframe tbody tr th {\n",
       "        vertical-align: top;\n",
       "    }\n",
       "\n",
       "    .dataframe thead th {\n",
       "        text-align: right;\n",
       "    }\n",
       "</style>\n",
       "<table border=\"1\" class=\"dataframe\">\n",
       "  <thead>\n",
       "    <tr style=\"text-align: right;\">\n",
       "      <th></th>\n",
       "      <th>gp_title</th>\n",
       "      <th>weather</th>\n",
       "      <th>year</th>\n",
       "      <th>title</th>\n",
       "      <th>url</th>\n",
       "    </tr>\n",
       "  </thead>\n",
       "  <tbody>\n",
       "    <tr>\n",
       "      <th>0</th>\n",
       "      <td>Belgian Grand Prix</td>\n",
       "      <td>Weather: dry  18°C\\nTarmac: dry  25°C\\nHumidit...</td>\n",
       "      <td>2023</td>\n",
       "      <td>Qualifying Results 2023 Belgian F1 Sprint Shoo...</td>\n",
       "      <td>https://www.f1-fansite.com/f1-result/qualifyin...</td>\n",
       "    </tr>\n",
       "    <tr>\n",
       "      <th>1</th>\n",
       "      <td>Hungarian F1 Grand Prix</td>\n",
       "      <td>Weather: dry  26°C\\nTarmac: dry  42°C\\nHumidit...</td>\n",
       "      <td>2023</td>\n",
       "      <td>F1 Qualifying Results &amp; Report 2023 Hungarian GP</td>\n",
       "      <td>https://www.f1-fansite.com/f1-result/f1-qualif...</td>\n",
       "    </tr>\n",
       "    <tr>\n",
       "      <th>2</th>\n",
       "      <td>British F1 Grand Prix</td>\n",
       "      <td>Weather: wet/dry  21°C\\nTarmac: wet/dry  22°C\\...</td>\n",
       "      <td>2023</td>\n",
       "      <td>Qualifying Results 2023 British F1 Grand Prix</td>\n",
       "      <td>https://www.f1-fansite.com/f1-result/qualifyin...</td>\n",
       "    </tr>\n",
       "    <tr>\n",
       "      <th>3</th>\n",
       "      <td>Austrian F1 Grand Prix</td>\n",
       "      <td>Weather: dry  16°C\\nTarmac: dry  21°C\\nHumidit...</td>\n",
       "      <td>2023</td>\n",
       "      <td>Qualifying Results 2023 Austrian F1 Sprint</td>\n",
       "      <td>https://www.f1-fansite.com/f1-result/qualifyin...</td>\n",
       "    </tr>\n",
       "    <tr>\n",
       "      <th>4</th>\n",
       "      <td>Austrian F1 GP</td>\n",
       "      <td>Weather: dry 27°C\\nTarmac: dry  41°C\\nHumidity...</td>\n",
       "      <td>2023</td>\n",
       "      <td>Qualifying Results &amp; Report 2023 Austrian F1 GP</td>\n",
       "      <td>https://www.f1-fansite.com/f1-result/qualifyin...</td>\n",
       "    </tr>\n",
       "    <tr>\n",
       "      <th>...</th>\n",
       "      <td>...</td>\n",
       "      <td>...</td>\n",
       "      <td>...</td>\n",
       "      <td>...</td>\n",
       "      <td>...</td>\n",
       "    </tr>\n",
       "    <tr>\n",
       "      <th>183</th>\n",
       "      <td>Singapore Grand Prix</td>\n",
       "      <td>On a the dry Singapore street circuit Lewis Ha...</td>\n",
       "      <td>2014</td>\n",
       "      <td>Qualifying Results 2014 Singapore F1 Grand Prix</td>\n",
       "      <td>https://www.f1-fansite.com/f1-result/qualifyin...</td>\n",
       "    </tr>\n",
       "    <tr>\n",
       "      <th>184</th>\n",
       "      <td>Italian Grand Prix</td>\n",
       "      <td>On a dry Monza circuit Lewis Hamilton scored h...</td>\n",
       "      <td>2014</td>\n",
       "      <td>Qualifying Results 2014 Italian F1 Grand Prix</td>\n",
       "      <td>https://www.f1-fansite.com/f1-result/qualifyin...</td>\n",
       "    </tr>\n",
       "    <tr>\n",
       "      <th>185</th>\n",
       "      <td>US F1 Grand Prix</td>\n",
       "      <td>Weather: Dry\\nTrack temperature: 31°C\\nAir tem...</td>\n",
       "      <td>2012</td>\n",
       "      <td>Qualifying results 2012 United States F1 Grand...</td>\n",
       "      <td>https://www.f1-fansite.com/f1-result/qualifyin...</td>\n",
       "    </tr>\n",
       "    <tr>\n",
       "      <th>186</th>\n",
       "      <td>Abu Dhabi Grand Prix</td>\n",
       "      <td></td>\n",
       "      <td>2012</td>\n",
       "      <td>Qualifying results 2012 Formula 1 Grand Prix o...</td>\n",
       "      <td>https://www.f1-fansite.com/f1-result/qualifyin...</td>\n",
       "    </tr>\n",
       "    <tr>\n",
       "      <th>187</th>\n",
       "      <td>Indian Grand Prix</td>\n",
       "      <td>Weather: Dry\\nTrack temperature: 37°C\\nAir tem...</td>\n",
       "      <td>2012</td>\n",
       "      <td>Qualifying results 2012 Formula 1 Grand Prix o...</td>\n",
       "      <td>https://www.f1-fansite.com/f1-result/qualifyin...</td>\n",
       "    </tr>\n",
       "  </tbody>\n",
       "</table>\n",
       "<p>188 rows × 5 columns</p>\n",
       "</div>"
      ],
      "text/plain": [
       "                    gp_title  \\\n",
       "0         Belgian Grand Prix   \n",
       "1    Hungarian F1 Grand Prix   \n",
       "2      British F1 Grand Prix   \n",
       "3     Austrian F1 Grand Prix   \n",
       "4             Austrian F1 GP   \n",
       "..                       ...   \n",
       "183     Singapore Grand Prix   \n",
       "184       Italian Grand Prix   \n",
       "185         US F1 Grand Prix   \n",
       "186     Abu Dhabi Grand Prix   \n",
       "187        Indian Grand Prix   \n",
       "\n",
       "                                               weather  year  \\\n",
       "0    Weather: dry  18°C\\nTarmac: dry  25°C\\nHumidit...  2023   \n",
       "1    Weather: dry  26°C\\nTarmac: dry  42°C\\nHumidit...  2023   \n",
       "2    Weather: wet/dry  21°C\\nTarmac: wet/dry  22°C\\...  2023   \n",
       "3    Weather: dry  16°C\\nTarmac: dry  21°C\\nHumidit...  2023   \n",
       "4    Weather: dry 27°C\\nTarmac: dry  41°C\\nHumidity...  2023   \n",
       "..                                                 ...   ...   \n",
       "183  On a the dry Singapore street circuit Lewis Ha...  2014   \n",
       "184  On a dry Monza circuit Lewis Hamilton scored h...  2014   \n",
       "185  Weather: Dry\\nTrack temperature: 31°C\\nAir tem...  2012   \n",
       "186                                                     2012   \n",
       "187  Weather: Dry\\nTrack temperature: 37°C\\nAir tem...  2012   \n",
       "\n",
       "                                                 title  \\\n",
       "0    Qualifying Results 2023 Belgian F1 Sprint Shoo...   \n",
       "1     F1 Qualifying Results & Report 2023 Hungarian GP   \n",
       "2        Qualifying Results 2023 British F1 Grand Prix   \n",
       "3           Qualifying Results 2023 Austrian F1 Sprint   \n",
       "4      Qualifying Results & Report 2023 Austrian F1 GP   \n",
       "..                                                 ...   \n",
       "183    Qualifying Results 2014 Singapore F1 Grand Prix   \n",
       "184      Qualifying Results 2014 Italian F1 Grand Prix   \n",
       "185  Qualifying results 2012 United States F1 Grand...   \n",
       "186  Qualifying results 2012 Formula 1 Grand Prix o...   \n",
       "187  Qualifying results 2012 Formula 1 Grand Prix o...   \n",
       "\n",
       "                                                   url  \n",
       "0    https://www.f1-fansite.com/f1-result/qualifyin...  \n",
       "1    https://www.f1-fansite.com/f1-result/f1-qualif...  \n",
       "2    https://www.f1-fansite.com/f1-result/qualifyin...  \n",
       "3    https://www.f1-fansite.com/f1-result/qualifyin...  \n",
       "4    https://www.f1-fansite.com/f1-result/qualifyin...  \n",
       "..                                                 ...  \n",
       "183  https://www.f1-fansite.com/f1-result/qualifyin...  \n",
       "184  https://www.f1-fansite.com/f1-result/qualifyin...  \n",
       "185  https://www.f1-fansite.com/f1-result/qualifyin...  \n",
       "186  https://www.f1-fansite.com/f1-result/qualifyin...  \n",
       "187  https://www.f1-fansite.com/f1-result/qualifyin...  \n",
       "\n",
       "[188 rows x 5 columns]"
      ]
     },
     "execution_count": 10,
     "metadata": {},
     "output_type": "execute_result"
    }
   ],
   "source": [
    "df"
   ]
  },
  {
   "cell_type": "code",
   "execution_count": 44,
   "id": "d1ad77a2-5f65-4b59-905a-cb6cad157f9f",
   "metadata": {},
   "outputs": [
    {
     "data": {
      "text/html": [
       "<div>\n",
       "<style scoped>\n",
       "    .dataframe tbody tr th:only-of-type {\n",
       "        vertical-align: middle;\n",
       "    }\n",
       "\n",
       "    .dataframe tbody tr th {\n",
       "        vertical-align: top;\n",
       "    }\n",
       "\n",
       "    .dataframe thead th {\n",
       "        text-align: right;\n",
       "    }\n",
       "</style>\n",
       "<table border=\"1\" class=\"dataframe\">\n",
       "  <thead>\n",
       "    <tr style=\"text-align: right;\">\n",
       "      <th></th>\n",
       "      <th>gp_title</th>\n",
       "      <th>weather</th>\n",
       "      <th>year</th>\n",
       "      <th>title</th>\n",
       "      <th>url</th>\n",
       "    </tr>\n",
       "  </thead>\n",
       "  <tbody>\n",
       "    <tr>\n",
       "      <th>149</th>\n",
       "      <td>German Grand Prix</td>\n",
       "      <td></td>\n",
       "      <td>2016</td>\n",
       "      <td>Qualifying results 2016 German F1 Grand Prix</td>\n",
       "      <td>https://www.f1-fansite.com/f1-result/qualifyin...</td>\n",
       "    </tr>\n",
       "    <tr>\n",
       "      <th>173</th>\n",
       "      <td>Spanish Grand Prix</td>\n",
       "      <td></td>\n",
       "      <td>2015</td>\n",
       "      <td>Qualifying Results 2015 Spanish F1 Grand Prix</td>\n",
       "      <td>https://www.f1-fansite.com/f1-result/qualifyin...</td>\n",
       "    </tr>\n",
       "    <tr>\n",
       "      <th>180</th>\n",
       "      <td>Grand Prix of United States</td>\n",
       "      <td></td>\n",
       "      <td>2014</td>\n",
       "      <td>Qualifying Results 2014 USA F1 Grand Prix</td>\n",
       "      <td>https://www.f1-fansite.com/f1-result/qualifyin...</td>\n",
       "    </tr>\n",
       "    <tr>\n",
       "      <th>186</th>\n",
       "      <td>Abu Dhabi Grand Prix</td>\n",
       "      <td></td>\n",
       "      <td>2012</td>\n",
       "      <td>Qualifying results 2012 Formula 1 Grand Prix o...</td>\n",
       "      <td>https://www.f1-fansite.com/f1-result/qualifyin...</td>\n",
       "    </tr>\n",
       "  </tbody>\n",
       "</table>\n",
       "</div>"
      ],
      "text/plain": [
       "                        gp_title weather  year  \\\n",
       "149            German Grand Prix          2016   \n",
       "173           Spanish Grand Prix          2015   \n",
       "180  Grand Prix of United States          2014   \n",
       "186         Abu Dhabi Grand Prix          2012   \n",
       "\n",
       "                                                 title  \\\n",
       "149       Qualifying results 2016 German F1 Grand Prix   \n",
       "173      Qualifying Results 2015 Spanish F1 Grand Prix   \n",
       "180          Qualifying Results 2014 USA F1 Grand Prix   \n",
       "186  Qualifying results 2012 Formula 1 Grand Prix o...   \n",
       "\n",
       "                                                   url  \n",
       "149  https://www.f1-fansite.com/f1-result/qualifyin...  \n",
       "173  https://www.f1-fansite.com/f1-result/qualifyin...  \n",
       "180  https://www.f1-fansite.com/f1-result/qualifyin...  \n",
       "186  https://www.f1-fansite.com/f1-result/qualifyin...  "
      ]
     },
     "execution_count": 44,
     "metadata": {},
     "output_type": "execute_result"
    }
   ],
   "source": [
    "df.loc[df['weather']=='']"
   ]
  },
  {
   "cell_type": "markdown",
   "id": "24f0c8d8-8d0a-4ba9-8d5b-d5d7d6a811cc",
   "metadata": {},
   "source": [
    "### Delete the null entries and bad data values"
   ]
  },
  {
   "cell_type": "code",
   "execution_count": 64,
   "id": "7e699bab-f7e1-4181-b799-2864ed3c4c46",
   "metadata": {},
   "outputs": [],
   "source": [
    "df.drop(df[df['weather']==''].index, inplace=True)"
   ]
  },
  {
   "cell_type": "code",
   "execution_count": 83,
   "id": "b80e8350-9386-4f0e-a623-7421d05370e2",
   "metadata": {},
   "outputs": [],
   "source": [
    "df.drop(df.loc[~df['weather'].str.match('Weather')].index, inplace=True)"
   ]
  },
  {
   "cell_type": "code",
   "execution_count": 84,
   "id": "b9ad50f5-88c0-4ab9-9877-1284c766a43e",
   "metadata": {},
   "outputs": [],
   "source": [
    "df.to_csv('./data/qualifiying_weather.csv', index = False)"
   ]
  },
  {
   "cell_type": "code",
   "execution_count": 12,
   "id": "7c6f7983-8f0f-4a96-9433-4c0cecf31ed6",
   "metadata": {},
   "outputs": [],
   "source": [
    "end = time.time()"
   ]
  },
  {
   "cell_type": "code",
   "execution_count": 13,
   "id": "2ff05622-8ffe-4088-8acb-7a2b3c47b800",
   "metadata": {},
   "outputs": [
    {
     "data": {
      "text/plain": [
       "'0:03:06.917944'"
      ]
     },
     "execution_count": 13,
     "metadata": {},
     "output_type": "execute_result"
    }
   ],
   "source": [
    "str(datetime.timedelta(seconds=(end - start)))"
   ]
  }
 ],
 "metadata": {
  "kernelspec": {
   "display_name": "Python 3 (ipykernel)",
   "language": "python",
   "name": "python3"
  },
  "language_info": {
   "codemirror_mode": {
    "name": "ipython",
    "version": 3
   },
   "file_extension": ".py",
   "mimetype": "text/x-python",
   "name": "python",
   "nbconvert_exporter": "python",
   "pygments_lexer": "ipython3",
   "version": "3.11.4"
  }
 },
 "nbformat": 4,
 "nbformat_minor": 5
}
